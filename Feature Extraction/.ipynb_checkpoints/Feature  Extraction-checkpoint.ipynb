{
 "cells": [
  {
   "cell_type": "code",
   "execution_count": 1,
   "id": "1343052b",
   "metadata": {},
   "outputs": [],
   "source": [
    "import pandas as pd\n",
    "import numpy as np\n",
    "from statistics import mean\n",
    "from numpy import std\n",
    "\n",
    "data = pd.read_csv(\"Statlog__Preprocess__1.csv\")\n",
    "data1 = pd.read_csv(\"LongBeachVA__Preprocess__1.csv\")"
   ]
  },
  {
   "cell_type": "code",
   "execution_count": 2,
   "id": "7c765275",
   "metadata": {},
   "outputs": [
    {
     "data": {
      "text/html": [
       "<div>\n",
       "<style scoped>\n",
       "    .dataframe tbody tr th:only-of-type {\n",
       "        vertical-align: middle;\n",
       "    }\n",
       "\n",
       "    .dataframe tbody tr th {\n",
       "        vertical-align: top;\n",
       "    }\n",
       "\n",
       "    .dataframe thead th {\n",
       "        text-align: right;\n",
       "    }\n",
       "</style>\n",
       "<table border=\"1\" class=\"dataframe\">\n",
       "  <thead>\n",
       "    <tr style=\"text-align: right;\">\n",
       "      <th></th>\n",
       "      <th>id</th>\n",
       "      <th>age</th>\n",
       "      <th>sex</th>\n",
       "      <th>cp</th>\n",
       "      <th>trestbps</th>\n",
       "      <th>chol</th>\n",
       "      <th>fbs</th>\n",
       "      <th>restecg</th>\n",
       "      <th>thalach</th>\n",
       "      <th>exang</th>\n",
       "      <th>oldpeak</th>\n",
       "      <th>slope</th>\n",
       "      <th>ca</th>\n",
       "      <th>thal</th>\n",
       "      <th>target</th>\n",
       "    </tr>\n",
       "  </thead>\n",
       "  <tbody>\n",
       "    <tr>\n",
       "      <th>0</th>\n",
       "      <td>0</td>\n",
       "      <td>70.0</td>\n",
       "      <td>1.0</td>\n",
       "      <td>4.0</td>\n",
       "      <td>130.0</td>\n",
       "      <td>322.0</td>\n",
       "      <td>0.0</td>\n",
       "      <td>2.0</td>\n",
       "      <td>109.0</td>\n",
       "      <td>0.0</td>\n",
       "      <td>2.4</td>\n",
       "      <td>2.0</td>\n",
       "      <td>2.5</td>\n",
       "      <td>3.0</td>\n",
       "      <td>1</td>\n",
       "    </tr>\n",
       "    <tr>\n",
       "      <th>1</th>\n",
       "      <td>1</td>\n",
       "      <td>67.0</td>\n",
       "      <td>0.0</td>\n",
       "      <td>3.0</td>\n",
       "      <td>115.0</td>\n",
       "      <td>380.5</td>\n",
       "      <td>0.0</td>\n",
       "      <td>2.0</td>\n",
       "      <td>160.0</td>\n",
       "      <td>0.0</td>\n",
       "      <td>1.6</td>\n",
       "      <td>2.0</td>\n",
       "      <td>0.0</td>\n",
       "      <td>7.0</td>\n",
       "      <td>0</td>\n",
       "    </tr>\n",
       "    <tr>\n",
       "      <th>2</th>\n",
       "      <td>2</td>\n",
       "      <td>57.0</td>\n",
       "      <td>1.0</td>\n",
       "      <td>2.0</td>\n",
       "      <td>124.0</td>\n",
       "      <td>261.0</td>\n",
       "      <td>0.0</td>\n",
       "      <td>0.0</td>\n",
       "      <td>141.0</td>\n",
       "      <td>0.0</td>\n",
       "      <td>0.3</td>\n",
       "      <td>1.0</td>\n",
       "      <td>0.0</td>\n",
       "      <td>7.0</td>\n",
       "      <td>1</td>\n",
       "    </tr>\n",
       "    <tr>\n",
       "      <th>3</th>\n",
       "      <td>3</td>\n",
       "      <td>64.0</td>\n",
       "      <td>1.0</td>\n",
       "      <td>4.0</td>\n",
       "      <td>128.0</td>\n",
       "      <td>263.0</td>\n",
       "      <td>0.0</td>\n",
       "      <td>0.0</td>\n",
       "      <td>105.0</td>\n",
       "      <td>1.0</td>\n",
       "      <td>0.2</td>\n",
       "      <td>2.0</td>\n",
       "      <td>1.0</td>\n",
       "      <td>7.0</td>\n",
       "      <td>0</td>\n",
       "    </tr>\n",
       "    <tr>\n",
       "      <th>4</th>\n",
       "      <td>4</td>\n",
       "      <td>74.0</td>\n",
       "      <td>0.0</td>\n",
       "      <td>2.0</td>\n",
       "      <td>120.0</td>\n",
       "      <td>269.0</td>\n",
       "      <td>0.0</td>\n",
       "      <td>2.0</td>\n",
       "      <td>121.0</td>\n",
       "      <td>1.0</td>\n",
       "      <td>0.2</td>\n",
       "      <td>1.0</td>\n",
       "      <td>1.0</td>\n",
       "      <td>3.0</td>\n",
       "      <td>0</td>\n",
       "    </tr>\n",
       "  </tbody>\n",
       "</table>\n",
       "</div>"
      ],
      "text/plain": [
       "   id   age  sex   cp  trestbps   chol  fbs  restecg  thalach  exang  oldpeak  \\\n",
       "0   0  70.0  1.0  4.0     130.0  322.0  0.0      2.0    109.0    0.0      2.4   \n",
       "1   1  67.0  0.0  3.0     115.0  380.5  0.0      2.0    160.0    0.0      1.6   \n",
       "2   2  57.0  1.0  2.0     124.0  261.0  0.0      0.0    141.0    0.0      0.3   \n",
       "3   3  64.0  1.0  4.0     128.0  263.0  0.0      0.0    105.0    1.0      0.2   \n",
       "4   4  74.0  0.0  2.0     120.0  269.0  0.0      2.0    121.0    1.0      0.2   \n",
       "\n",
       "   slope   ca  thal  target  \n",
       "0    2.0  2.5   3.0       1  \n",
       "1    2.0  0.0   7.0       0  \n",
       "2    1.0  0.0   7.0       1  \n",
       "3    2.0  1.0   7.0       0  \n",
       "4    1.0  1.0   3.0       0  "
      ]
     },
     "execution_count": 2,
     "metadata": {},
     "output_type": "execute_result"
    }
   ],
   "source": [
    "data.head()"
   ]
  },
  {
   "cell_type": "markdown",
   "id": "d1082439",
   "metadata": {},
   "source": [
    "# Main Preprocessing 1"
   ]
  },
  {
   "cell_type": "code",
   "execution_count": 3,
   "id": "e64ebf00",
   "metadata": {},
   "outputs": [
    {
     "data": {
      "text/plain": [
       "Index(['id', 'age', 'sex', 'cp', 'trestbps', 'chol', 'fbs', 'restecg',\n",
       "       'thalach', 'exang', 'oldpeak', 'slope', 'ca', 'thal', 'target'],\n",
       "      dtype='object')"
      ]
     },
     "execution_count": 3,
     "metadata": {},
     "output_type": "execute_result"
    }
   ],
   "source": [
    "data.columns"
   ]
  },
  {
   "cell_type": "code",
   "execution_count": 4,
   "id": "f571cfa2",
   "metadata": {},
   "outputs": [],
   "source": [
    "#Classification columns\n",
    "class_cols=[\"sex\",\"target\",'cp',\"fbs\",\"exang\",\"restecg\",\"thal\",\"ca\",\"slope\"]\n",
    "class_data=data[class_cols]\n",
    "\n",
    "#Continuous columns\n",
    "continuous_cols=[\"age\",\"trestbps\",\"chol\",\"thalach\",\"oldpeak\"]\n",
    "continuous_data=data[continuous_cols]"
   ]
  },
  {
   "cell_type": "code",
   "execution_count": 5,
   "id": "00de391a",
   "metadata": {},
   "outputs": [
    {
     "name": "stdout",
     "output_type": "stream",
     "text": [
      "Column age outliers = 0 => 0.0%\n",
      "Column trestbps outliers = 11 => 4.074%\n",
      "Column chol outliers = 5 => 1.852%\n",
      "Column thalach outliers = 1 => 0.37%\n",
      "Column oldpeak outliers = 6 => 2.222%\n"
     ]
    }
   ],
   "source": [
    "for k, v in continuous_data.items():\n",
    "        q1 = v.quantile(0.25)\n",
    "        q3 = v.quantile(0.75)\n",
    "        irq = q3 - q1\n",
    "        v_col = v[(v <= q1 - 1.5 * irq) | (v >= q3 + 1.5 * irq)]\n",
    "        perc = np.shape(v_col)[0] * 100.0 / np.shape(data)[0]\n",
    "        print(\"Column {} outliers = {} => {}%\".format(k,len(v_col),round((perc),3)))"
   ]
  },
  {
   "cell_type": "code",
   "execution_count": 6,
   "id": "2afb76f4",
   "metadata": {},
   "outputs": [
    {
     "name": "stdout",
     "output_type": "stream",
     "text": [
      "---Log Transform performed---\n",
      "Column age outliers = 1 => 0.37%\n",
      "Column trestbps outliers = 2 => 0.741%\n",
      "Column chol outliers = 2 => 0.741%\n",
      "Column thalach outliers = 3 => 1.111%\n",
      "Column oldpeak outliers = 6 => 2.222%\n"
     ]
    }
   ],
   "source": [
    "#Using log transformation\n",
    "data[\"age\"]= np.log(data.age)\n",
    "data[\"trestbps\"]= np.log(data.trestbps)\n",
    "data[\"chol\"]= np.log(data.chol)\n",
    "data[\"thalach\"]= np.log(data.thalach)\n",
    "print(\"---Log Transform performed---\")\n",
    "\n",
    "#Outliners again\n",
    "continuous_cols=[\"age\",\"trestbps\",\"chol\",\"thalach\",\"oldpeak\"]\n",
    "continuous_data=data[continuous_cols]\n",
    "\n",
    "for k, v in continuous_data.items():\n",
    "        q1 = v.quantile(0.25)\n",
    "        q3 = v.quantile(0.75)\n",
    "        irq = q3 - q1\n",
    "        v_col = v[(v <= q1 - 1.5 * irq) | (v >= q3 + 1.5 * irq)]\n",
    "        perc = np.shape(v_col)[0] * 100.0 / np.shape(data)[0]\n",
    "        print(\"Column {} outliers = {} => {}%\".format(k,len(v_col),round((perc),3)))"
   ]
  },
  {
   "cell_type": "code",
   "execution_count": 7,
   "id": "42dee56e",
   "metadata": {},
   "outputs": [
    {
     "data": {
      "text/html": [
       "<div>\n",
       "<style scoped>\n",
       "    .dataframe tbody tr th:only-of-type {\n",
       "        vertical-align: middle;\n",
       "    }\n",
       "\n",
       "    .dataframe tbody tr th {\n",
       "        vertical-align: top;\n",
       "    }\n",
       "\n",
       "    .dataframe thead th {\n",
       "        text-align: right;\n",
       "    }\n",
       "</style>\n",
       "<table border=\"1\" class=\"dataframe\">\n",
       "  <thead>\n",
       "    <tr style=\"text-align: right;\">\n",
       "      <th></th>\n",
       "      <th>id</th>\n",
       "      <th>age</th>\n",
       "      <th>sex</th>\n",
       "      <th>cp</th>\n",
       "      <th>trestbps</th>\n",
       "      <th>chol</th>\n",
       "      <th>fbs</th>\n",
       "      <th>restecg</th>\n",
       "      <th>thalach</th>\n",
       "      <th>exang</th>\n",
       "      <th>oldpeak</th>\n",
       "      <th>slope</th>\n",
       "      <th>ca</th>\n",
       "      <th>thal</th>\n",
       "      <th>target</th>\n",
       "    </tr>\n",
       "  </thead>\n",
       "  <tbody>\n",
       "    <tr>\n",
       "      <th>count</th>\n",
       "      <td>270.000000</td>\n",
       "      <td>270.000000</td>\n",
       "      <td>270.000000</td>\n",
       "      <td>270.000000</td>\n",
       "      <td>270.000000</td>\n",
       "      <td>270.000000</td>\n",
       "      <td>270.000000</td>\n",
       "      <td>270.000000</td>\n",
       "      <td>270.000000</td>\n",
       "      <td>270.000000</td>\n",
       "      <td>270.000000</td>\n",
       "      <td>270.000000</td>\n",
       "      <td>270.000000</td>\n",
       "      <td>270.000000</td>\n",
       "      <td>270.000000</td>\n",
       "    </tr>\n",
       "    <tr>\n",
       "      <th>mean</th>\n",
       "      <td>134.500000</td>\n",
       "      <td>3.982237</td>\n",
       "      <td>0.677778</td>\n",
       "      <td>3.211111</td>\n",
       "      <td>4.866771</td>\n",
       "      <td>5.497485</td>\n",
       "      <td>0.148148</td>\n",
       "      <td>1.022222</td>\n",
       "      <td>4.995982</td>\n",
       "      <td>0.329630</td>\n",
       "      <td>1.034444</td>\n",
       "      <td>1.585185</td>\n",
       "      <td>0.635185</td>\n",
       "      <td>4.696296</td>\n",
       "      <td>0.444444</td>\n",
       "    </tr>\n",
       "    <tr>\n",
       "      <th>std</th>\n",
       "      <td>78.086491</td>\n",
       "      <td>0.174856</td>\n",
       "      <td>0.468195</td>\n",
       "      <td>0.870770</td>\n",
       "      <td>0.127507</td>\n",
       "      <td>0.193086</td>\n",
       "      <td>0.355906</td>\n",
       "      <td>0.997891</td>\n",
       "      <td>0.164190</td>\n",
       "      <td>0.470952</td>\n",
       "      <td>1.091484</td>\n",
       "      <td>0.614390</td>\n",
       "      <td>0.861864</td>\n",
       "      <td>1.940659</td>\n",
       "      <td>0.497827</td>\n",
       "    </tr>\n",
       "    <tr>\n",
       "      <th>min</th>\n",
       "      <td>0.000000</td>\n",
       "      <td>3.367296</td>\n",
       "      <td>0.000000</td>\n",
       "      <td>1.500000</td>\n",
       "      <td>4.543295</td>\n",
       "      <td>4.836282</td>\n",
       "      <td>0.000000</td>\n",
       "      <td>0.000000</td>\n",
       "      <td>4.424847</td>\n",
       "      <td>0.000000</td>\n",
       "      <td>0.000000</td>\n",
       "      <td>1.000000</td>\n",
       "      <td>0.000000</td>\n",
       "      <td>3.000000</td>\n",
       "      <td>0.000000</td>\n",
       "    </tr>\n",
       "    <tr>\n",
       "      <th>25%</th>\n",
       "      <td>67.250000</td>\n",
       "      <td>3.871201</td>\n",
       "      <td>0.000000</td>\n",
       "      <td>3.000000</td>\n",
       "      <td>4.787492</td>\n",
       "      <td>5.361292</td>\n",
       "      <td>0.000000</td>\n",
       "      <td>0.000000</td>\n",
       "      <td>4.890349</td>\n",
       "      <td>0.000000</td>\n",
       "      <td>0.000000</td>\n",
       "      <td>1.000000</td>\n",
       "      <td>0.000000</td>\n",
       "      <td>3.000000</td>\n",
       "      <td>0.000000</td>\n",
       "    </tr>\n",
       "    <tr>\n",
       "      <th>50%</th>\n",
       "      <td>134.500000</td>\n",
       "      <td>4.007333</td>\n",
       "      <td>1.000000</td>\n",
       "      <td>3.000000</td>\n",
       "      <td>4.867534</td>\n",
       "      <td>5.501258</td>\n",
       "      <td>0.000000</td>\n",
       "      <td>2.000000</td>\n",
       "      <td>5.033695</td>\n",
       "      <td>0.000000</td>\n",
       "      <td>0.800000</td>\n",
       "      <td>2.000000</td>\n",
       "      <td>0.000000</td>\n",
       "      <td>3.000000</td>\n",
       "      <td>0.000000</td>\n",
       "    </tr>\n",
       "    <tr>\n",
       "      <th>75%</th>\n",
       "      <td>201.750000</td>\n",
       "      <td>4.110874</td>\n",
       "      <td>1.000000</td>\n",
       "      <td>4.000000</td>\n",
       "      <td>4.941642</td>\n",
       "      <td>5.634770</td>\n",
       "      <td>0.000000</td>\n",
       "      <td>2.000000</td>\n",
       "      <td>5.111988</td>\n",
       "      <td>1.000000</td>\n",
       "      <td>1.600000</td>\n",
       "      <td>2.000000</td>\n",
       "      <td>1.000000</td>\n",
       "      <td>7.000000</td>\n",
       "      <td>1.000000</td>\n",
       "    </tr>\n",
       "    <tr>\n",
       "      <th>max</th>\n",
       "      <td>269.000000</td>\n",
       "      <td>4.343805</td>\n",
       "      <td>1.000000</td>\n",
       "      <td>4.000000</td>\n",
       "      <td>5.135798</td>\n",
       "      <td>5.941486</td>\n",
       "      <td>1.000000</td>\n",
       "      <td>2.000000</td>\n",
       "      <td>5.308268</td>\n",
       "      <td>1.000000</td>\n",
       "      <td>4.000000</td>\n",
       "      <td>3.000000</td>\n",
       "      <td>2.500000</td>\n",
       "      <td>7.000000</td>\n",
       "      <td>1.000000</td>\n",
       "    </tr>\n",
       "  </tbody>\n",
       "</table>\n",
       "</div>"
      ],
      "text/plain": [
       "               id         age         sex          cp    trestbps        chol  \\\n",
       "count  270.000000  270.000000  270.000000  270.000000  270.000000  270.000000   \n",
       "mean   134.500000    3.982237    0.677778    3.211111    4.866771    5.497485   \n",
       "std     78.086491    0.174856    0.468195    0.870770    0.127507    0.193086   \n",
       "min      0.000000    3.367296    0.000000    1.500000    4.543295    4.836282   \n",
       "25%     67.250000    3.871201    0.000000    3.000000    4.787492    5.361292   \n",
       "50%    134.500000    4.007333    1.000000    3.000000    4.867534    5.501258   \n",
       "75%    201.750000    4.110874    1.000000    4.000000    4.941642    5.634770   \n",
       "max    269.000000    4.343805    1.000000    4.000000    5.135798    5.941486   \n",
       "\n",
       "              fbs     restecg     thalach       exang     oldpeak       slope  \\\n",
       "count  270.000000  270.000000  270.000000  270.000000  270.000000  270.000000   \n",
       "mean     0.148148    1.022222    4.995982    0.329630    1.034444    1.585185   \n",
       "std      0.355906    0.997891    0.164190    0.470952    1.091484    0.614390   \n",
       "min      0.000000    0.000000    4.424847    0.000000    0.000000    1.000000   \n",
       "25%      0.000000    0.000000    4.890349    0.000000    0.000000    1.000000   \n",
       "50%      0.000000    2.000000    5.033695    0.000000    0.800000    2.000000   \n",
       "75%      0.000000    2.000000    5.111988    1.000000    1.600000    2.000000   \n",
       "max      1.000000    2.000000    5.308268    1.000000    4.000000    3.000000   \n",
       "\n",
       "               ca        thal      target  \n",
       "count  270.000000  270.000000  270.000000  \n",
       "mean     0.635185    4.696296    0.444444  \n",
       "std      0.861864    1.940659    0.497827  \n",
       "min      0.000000    3.000000    0.000000  \n",
       "25%      0.000000    3.000000    0.000000  \n",
       "50%      0.000000    3.000000    0.000000  \n",
       "75%      1.000000    7.000000    1.000000  \n",
       "max      2.500000    7.000000    1.000000  "
      ]
     },
     "execution_count": 7,
     "metadata": {},
     "output_type": "execute_result"
    }
   ],
   "source": [
    "data.describe()"
   ]
  },
  {
   "cell_type": "markdown",
   "id": "cada2edd",
   "metadata": {},
   "source": [
    "### Main Preprocessing 2"
   ]
  },
  {
   "cell_type": "code",
   "execution_count": 8,
   "id": "0c452142",
   "metadata": {},
   "outputs": [],
   "source": [
    "# #Classification columns\n",
    "# class_cols1=[\"sex\",\"target\",'cp',\"fbs\",\"exang\",\"restecg\",\"thal\",\"ca\",\"slope\"]\n",
    "# class_data1=data1[class_cols]\n",
    "\n",
    "# #Continuous columns\n",
    "# continuous_cols1=[\"age\",\"trestbps\",\"chol\",\"thalach\",\"oldpeak\"]\n",
    "# continuous_data1=data1[continuous_cols]"
   ]
  },
  {
   "cell_type": "code",
   "execution_count": 9,
   "id": "8cb57873",
   "metadata": {},
   "outputs": [],
   "source": [
    "# for k, v in continuous_data1.items():\n",
    "#         q1 = v.quantile(0.25)\n",
    "#         q3 = v.quantile(0.75)\n",
    "#         irq = q3 - q1\n",
    "#         v_col = v[(v <= q1 - 1.5 * irq) | (v >= q3 + 1.5 * irq)]\n",
    "#         perc = np.shape(v_col)[0] * 100.0 / np.shape(data1)[0]\n",
    "#         print(\"Column {} outliers = {} => {}%\".format(k,len(v_col),round((perc),3)))"
   ]
  },
  {
   "cell_type": "code",
   "execution_count": 10,
   "id": "7c971a6f",
   "metadata": {},
   "outputs": [],
   "source": [
    "# #Using log transformation\n",
    "# data1[\"age\"]= np.log(data1.age)\n",
    "# data1[\"trestbps\"]= np.log(data1.trestbps)\n",
    "# data1[\"chol\"]= np.log(data1.chol)\n",
    "# data1[\"thalach\"]= np.log(data1.thalach)\n",
    "# print(\"---Log Transform performed---\")\n",
    "\n",
    "# #Outliners again\n",
    "# continuous_cols1=[\"age\",\"trestbps\",\"chol\",\"thalach\",\"oldpeak\"]\n",
    "# continuous_data1=data1[continuous_cols1]\n",
    "\n",
    "# for k, v in continuous_data1.items():\n",
    "#         q1 = v.quantile(0.20)\n",
    "#         q3 = v.quantile(0.80)\n",
    "#         irq = q3 - q1\n",
    "#         v_col = v[(v <= q1 - 1.5 * irq) | (v >= q3 + 1.5 * irq)]\n",
    "#         perc = np.shape(v_col)[0] * 100.0 / np.shape(data1)[0]\n",
    "#         print(\"Column {} outliers = {} => {}%\".format(k,len(v_col),round((perc),3)))"
   ]
  },
  {
   "cell_type": "code",
   "execution_count": 11,
   "id": "4fd0c76c",
   "metadata": {},
   "outputs": [
    {
     "name": "stderr",
     "output_type": "stream",
     "text": [
      "C:\\Users\\mahmu\\AppData\\Local\\Temp\\ipykernel_1360\\234181783.py:1: FutureWarning: The frame.append method is deprecated and will be removed from pandas in a future version. Use pandas.concat instead.\n",
      "  df = data.append(data1)\n"
     ]
    }
   ],
   "source": [
    "df = data.append(data1)"
   ]
  },
  {
   "cell_type": "code",
   "execution_count": 12,
   "id": "a1594bc8",
   "metadata": {},
   "outputs": [
    {
     "data": {
      "text/html": [
       "<div>\n",
       "<style scoped>\n",
       "    .dataframe tbody tr th:only-of-type {\n",
       "        vertical-align: middle;\n",
       "    }\n",
       "\n",
       "    .dataframe tbody tr th {\n",
       "        vertical-align: top;\n",
       "    }\n",
       "\n",
       "    .dataframe thead th {\n",
       "        text-align: right;\n",
       "    }\n",
       "</style>\n",
       "<table border=\"1\" class=\"dataframe\">\n",
       "  <thead>\n",
       "    <tr style=\"text-align: right;\">\n",
       "      <th></th>\n",
       "      <th>id</th>\n",
       "      <th>age</th>\n",
       "      <th>sex</th>\n",
       "      <th>cp</th>\n",
       "      <th>trestbps</th>\n",
       "      <th>chol</th>\n",
       "      <th>fbs</th>\n",
       "      <th>restecg</th>\n",
       "      <th>thalach</th>\n",
       "      <th>exang</th>\n",
       "      <th>oldpeak</th>\n",
       "      <th>slope</th>\n",
       "      <th>ca</th>\n",
       "      <th>thal</th>\n",
       "      <th>target</th>\n",
       "    </tr>\n",
       "  </thead>\n",
       "  <tbody>\n",
       "    <tr>\n",
       "      <th>count</th>\n",
       "      <td>470.000000</td>\n",
       "      <td>470.000000</td>\n",
       "      <td>470.000000</td>\n",
       "      <td>470.000000</td>\n",
       "      <td>470.000000</td>\n",
       "      <td>470.000000</td>\n",
       "      <td>470.000000</td>\n",
       "      <td>470.000000</td>\n",
       "      <td>470.000000</td>\n",
       "      <td>470.000000</td>\n",
       "      <td>470.000000</td>\n",
       "      <td>470.000000</td>\n",
       "      <td>470.000000</td>\n",
       "      <td>470.00000</td>\n",
       "      <td>470.000000</td>\n",
       "    </tr>\n",
       "    <tr>\n",
       "      <th>mean</th>\n",
       "      <td>119.606383</td>\n",
       "      <td>27.582349</td>\n",
       "      <td>0.802128</td>\n",
       "      <td>3.344681</td>\n",
       "      <td>59.700917</td>\n",
       "      <td>79.187061</td>\n",
       "      <td>0.235035</td>\n",
       "      <td>0.900000</td>\n",
       "      <td>55.029998</td>\n",
       "      <td>0.464365</td>\n",
       "      <td>1.152057</td>\n",
       "      <td>1.417660</td>\n",
       "      <td>0.924574</td>\n",
       "      <td>3.66617</td>\n",
       "      <td>0.572340</td>\n",
       "    </tr>\n",
       "    <tr>\n",
       "      <th>std</th>\n",
       "      <td>72.241336</td>\n",
       "      <td>27.889681</td>\n",
       "      <td>0.398820</td>\n",
       "      <td>0.830087</td>\n",
       "      <td>64.428554</td>\n",
       "      <td>112.480591</td>\n",
       "      <td>0.420441</td>\n",
       "      <td>0.888568</td>\n",
       "      <td>59.284549</td>\n",
       "      <td>0.472680</td>\n",
       "      <td>1.026833</td>\n",
       "      <td>0.557682</td>\n",
       "      <td>0.761078</td>\n",
       "      <td>1.90276</td>\n",
       "      <td>0.495266</td>\n",
       "    </tr>\n",
       "    <tr>\n",
       "      <th>min</th>\n",
       "      <td>0.000000</td>\n",
       "      <td>3.367296</td>\n",
       "      <td>0.000000</td>\n",
       "      <td>1.500000</td>\n",
       "      <td>4.543295</td>\n",
       "      <td>0.000000</td>\n",
       "      <td>0.000000</td>\n",
       "      <td>0.000000</td>\n",
       "      <td>4.424847</td>\n",
       "      <td>0.000000</td>\n",
       "      <td>-0.500000</td>\n",
       "      <td>0.300000</td>\n",
       "      <td>0.000000</td>\n",
       "      <td>1.70000</td>\n",
       "      <td>0.000000</td>\n",
       "    </tr>\n",
       "    <tr>\n",
       "      <th>25%</th>\n",
       "      <td>58.250000</td>\n",
       "      <td>3.988984</td>\n",
       "      <td>1.000000</td>\n",
       "      <td>3.000000</td>\n",
       "      <td>4.852030</td>\n",
       "      <td>5.362463</td>\n",
       "      <td>0.000000</td>\n",
       "      <td>0.000000</td>\n",
       "      <td>5.010635</td>\n",
       "      <td>0.000000</td>\n",
       "      <td>0.000000</td>\n",
       "      <td>1.000000</td>\n",
       "      <td>0.000000</td>\n",
       "      <td>2.30000</td>\n",
       "      <td>0.000000</td>\n",
       "    </tr>\n",
       "    <tr>\n",
       "      <th>50%</th>\n",
       "      <td>117.000000</td>\n",
       "      <td>4.174387</td>\n",
       "      <td>1.000000</td>\n",
       "      <td>4.000000</td>\n",
       "      <td>5.010635</td>\n",
       "      <td>5.594711</td>\n",
       "      <td>0.000000</td>\n",
       "      <td>1.000000</td>\n",
       "      <td>5.156173</td>\n",
       "      <td>0.646259</td>\n",
       "      <td>1.200000</td>\n",
       "      <td>1.300000</td>\n",
       "      <td>1.000000</td>\n",
       "      <td>3.00000</td>\n",
       "      <td>1.000000</td>\n",
       "    </tr>\n",
       "    <tr>\n",
       "      <th>75%</th>\n",
       "      <td>175.750000</td>\n",
       "      <td>58.000000</td>\n",
       "      <td>1.000000</td>\n",
       "      <td>4.000000</td>\n",
       "      <td>133.763889</td>\n",
       "      <td>199.500000</td>\n",
       "      <td>0.000000</td>\n",
       "      <td>2.000000</td>\n",
       "      <td>122.795918</td>\n",
       "      <td>1.000000</td>\n",
       "      <td>1.800000</td>\n",
       "      <td>2.000000</td>\n",
       "      <td>1.500000</td>\n",
       "      <td>5.25000</td>\n",
       "      <td>1.000000</td>\n",
       "    </tr>\n",
       "    <tr>\n",
       "      <th>max</th>\n",
       "      <td>269.000000</td>\n",
       "      <td>77.000000</td>\n",
       "      <td>1.000000</td>\n",
       "      <td>4.000000</td>\n",
       "      <td>161.375000</td>\n",
       "      <td>442.375000</td>\n",
       "      <td>1.000000</td>\n",
       "      <td>2.000000</td>\n",
       "      <td>157.000000</td>\n",
       "      <td>1.000000</td>\n",
       "      <td>4.000000</td>\n",
       "      <td>3.000000</td>\n",
       "      <td>2.500000</td>\n",
       "      <td>7.00000</td>\n",
       "      <td>1.000000</td>\n",
       "    </tr>\n",
       "  </tbody>\n",
       "</table>\n",
       "</div>"
      ],
      "text/plain": [
       "               id         age         sex          cp    trestbps        chol  \\\n",
       "count  470.000000  470.000000  470.000000  470.000000  470.000000  470.000000   \n",
       "mean   119.606383   27.582349    0.802128    3.344681   59.700917   79.187061   \n",
       "std     72.241336   27.889681    0.398820    0.830087   64.428554  112.480591   \n",
       "min      0.000000    3.367296    0.000000    1.500000    4.543295    0.000000   \n",
       "25%     58.250000    3.988984    1.000000    3.000000    4.852030    5.362463   \n",
       "50%    117.000000    4.174387    1.000000    4.000000    5.010635    5.594711   \n",
       "75%    175.750000   58.000000    1.000000    4.000000  133.763889  199.500000   \n",
       "max    269.000000   77.000000    1.000000    4.000000  161.375000  442.375000   \n",
       "\n",
       "              fbs     restecg     thalach       exang     oldpeak       slope  \\\n",
       "count  470.000000  470.000000  470.000000  470.000000  470.000000  470.000000   \n",
       "mean     0.235035    0.900000   55.029998    0.464365    1.152057    1.417660   \n",
       "std      0.420441    0.888568   59.284549    0.472680    1.026833    0.557682   \n",
       "min      0.000000    0.000000    4.424847    0.000000   -0.500000    0.300000   \n",
       "25%      0.000000    0.000000    5.010635    0.000000    0.000000    1.000000   \n",
       "50%      0.000000    1.000000    5.156173    0.646259    1.200000    1.300000   \n",
       "75%      0.000000    2.000000  122.795918    1.000000    1.800000    2.000000   \n",
       "max      1.000000    2.000000  157.000000    1.000000    4.000000    3.000000   \n",
       "\n",
       "               ca       thal      target  \n",
       "count  470.000000  470.00000  470.000000  \n",
       "mean     0.924574    3.66617    0.572340  \n",
       "std      0.761078    1.90276    0.495266  \n",
       "min      0.000000    1.70000    0.000000  \n",
       "25%      0.000000    2.30000    0.000000  \n",
       "50%      1.000000    3.00000    1.000000  \n",
       "75%      1.500000    5.25000    1.000000  \n",
       "max      2.500000    7.00000    1.000000  "
      ]
     },
     "execution_count": 12,
     "metadata": {},
     "output_type": "execute_result"
    }
   ],
   "source": [
    "df.describe()"
   ]
  },
  {
   "cell_type": "markdown",
   "id": "66b66f30",
   "metadata": {},
   "source": [
    "# Train Test Split"
   ]
  },
  {
   "cell_type": "code",
   "execution_count": 13,
   "id": "e398eccb",
   "metadata": {},
   "outputs": [],
   "source": [
    "#Data Splitting\n",
    "from sklearn.model_selection import train_test_split\n",
    "#X=data.iloc[:,:13]\n",
    "X = df.drop(['target','chol'], axis = 1)\n",
    "Y =df[\"target\"]"
   ]
  },
  {
   "cell_type": "markdown",
   "id": "3beb21a0",
   "metadata": {},
   "source": [
    "### Feature Exraction"
   ]
  },
  {
   "cell_type": "code",
   "execution_count": 14,
   "id": "0228a70d",
   "metadata": {},
   "outputs": [],
   "source": [
    "from sklearn.decomposition import PCA\n",
    "#X = df[['age', 'sex', 'cp', 'trestbps', 'fbs', 'restecg', 'thalach','exang', 'oldpeak', 'slope', 'ca', 'thal']] \n",
    "pca = PCA(n_components = 8)\n",
    " \n",
    "#apply PCA to transform the features to 2\n",
    "X_pca = pca.fit_transform(X)\n",
    "\n",
    "X_pca = pd.DataFrame(X_pca)\n",
    "\n",
    "X = X_pca"
   ]
  },
  {
   "cell_type": "code",
   "execution_count": 15,
   "id": "1ac7b90d",
   "metadata": {},
   "outputs": [
    {
     "name": "stdout",
     "output_type": "stream",
     "text": [
      "Before Counter({1.0: 269, 0.0: 201})\n",
      "After Counter({1.0: 269, 0.0: 269})\n"
     ]
    }
   ],
   "source": [
    "from collections import Counter\n",
    "from imblearn.over_sampling import SMOTE\n",
    "counter = Counter(Y)\n",
    "print('Before', counter)\n",
    "smt = SMOTE()\n",
    "X,Y = smt.fit_resample(X,Y)\n",
    "counter = Counter(Y)\n",
    "print('After', counter)"
   ]
  },
  {
   "cell_type": "code",
   "execution_count": 16,
   "id": "0fdaaa65",
   "metadata": {},
   "outputs": [],
   "source": [
    "from sklearn.preprocessing import StandardScaler\n",
    "\n",
    "ss = StandardScaler()\n",
    "X = ss.fit_transform(X)\n",
    "\n",
    "ss = StandardScaler()\n",
    "X = ss.fit_transform(X)"
   ]
  },
  {
   "cell_type": "code",
   "execution_count": 17,
   "id": "32f164a3",
   "metadata": {},
   "outputs": [],
   "source": [
    "x_train, x_test, y_train, y_test = train_test_split(X, Y, test_size = 0.2) # 80% training and 20% test"
   ]
  },
  {
   "cell_type": "code",
   "execution_count": 18,
   "id": "bdd40d69",
   "metadata": {},
   "outputs": [],
   "source": [
    "metrics = [\"Accuracy\", \"Precision\", \"Recall\", \"F1 Score\", \"Specificity\", \"Cohen Kappa\", \"AUC\"]\n",
    "\n",
    "performance_dict = {}\n",
    "performance_dict['Metrics'] = metrics"
   ]
  },
  {
   "cell_type": "markdown",
   "id": "f4ef41cb",
   "metadata": {},
   "source": [
    "# Support Vector Classifier Train, Test "
   ]
  },
  {
   "cell_type": "code",
   "execution_count": 19,
   "id": "1b42ba63",
   "metadata": {},
   "outputs": [
    {
     "name": "stdout",
     "output_type": "stream",
     "text": [
      "0.7870370370370371\n",
      "[[45 13]\n",
      " [10 40]]\n",
      "              precision    recall  f1-score   support\n",
      "\n",
      "         0.0       0.82      0.78      0.80        58\n",
      "         1.0       0.75      0.80      0.78        50\n",
      "\n",
      "    accuracy                           0.79       108\n",
      "   macro avg       0.79      0.79      0.79       108\n",
      "weighted avg       0.79      0.79      0.79       108\n",
      "\n"
     ]
    }
   ],
   "source": [
    "from sklearn.svm import SVC\n",
    "from sklearn.metrics import accuracy_score\n",
    "modelSVC = SVC(probability=True)\n",
    "modelSVC.fit(x_train, y_train)\n",
    "#modelSVC.fit(x_test, y_test)\n",
    "#print(modelSVC.score(x_test, y_test))\n",
    "\n",
    "y_pred = modelSVC.predict(x_test)\n",
    "#y_pred = modelSVC.predict(x_train)\n",
    "svc_acc = accuracy_score(y_test, y_pred)\n",
    "#ac = accuracy_score(y_train, y_pred)\n",
    "print(svc_acc)\n",
    "\n",
    "from sklearn.metrics import confusion_matrix\n",
    "from sklearn.metrics import classification_report\n",
    "\n",
    "y_pred = modelSVC.predict(x_test)\n",
    "print(confusion_matrix(y_test, y_pred))\n",
    "print(classification_report(y_test, y_pred))\n",
    "\n",
    "\n",
    "\n"
   ]
  },
  {
   "cell_type": "markdown",
   "id": "f57101df",
   "metadata": {},
   "source": [
    "# Performance Measure of SVC"
   ]
  },
  {
   "cell_type": "code",
   "execution_count": 20,
   "id": "9213e825",
   "metadata": {},
   "outputs": [
    {
     "name": "stdout",
     "output_type": "stream",
     "text": [
      "[[45 13]\n",
      " [10 40]]\n",
      "              precision    recall  f1-score   support\n",
      "\n",
      "         0.0       0.82      0.78      0.80        58\n",
      "         1.0       0.75      0.80      0.78        50\n",
      "\n",
      "    accuracy                           0.79       108\n",
      "   macro avg       0.79      0.79      0.79       108\n",
      "weighted avg       0.79      0.79      0.79       108\n",
      "\n"
     ]
    }
   ],
   "source": [
    "from sklearn.metrics import confusion_matrix\n",
    "from sklearn.metrics import classification_report\n",
    "\n",
    "y_pred = modelSVC.predict(x_test)\n",
    "print(confusion_matrix(y_test, y_pred))\n",
    "print(classification_report(y_test, y_pred))"
   ]
  },
  {
   "cell_type": "code",
   "execution_count": 21,
   "id": "9da7b475",
   "metadata": {},
   "outputs": [
    {
     "name": "stdout",
     "output_type": "stream",
     "text": [
      "Precision  0.7887999491773078\n",
      "f1 Score  0.7873114974240502\n",
      "Recall  0.7870370370370371\n",
      "Specificity/TNR: 0.7758620689655172\n",
      "Cohen Kappa: 0.573489010989011\n",
      "AUC Score  0.8758620689655172\n"
     ]
    }
   ],
   "source": [
    "from sklearn.metrics import cohen_kappa_score, f1_score, precision_score, recall_score, roc_auc_score\n",
    "\n",
    "cmSVC = confusion_matrix(y_test, modelSVC.predict(x_test))\n",
    "\n",
    "#If we use TP TN FP and FN of below's comment we get range\n",
    "#FP = cmSVC.sum(axis=0) - np.diag(cmSVC)  \n",
    "#FN = cmSVC.sum(axis=1) - np.diag(cmSVC)\n",
    "#TP = np.diag(cmSVC)\n",
    "#TN = cmSVC.sum() - (FP + FN + TP)\n",
    "\n",
    "TP = cmSVC[1,1]  \n",
    "TN = cmSVC[0,0] \n",
    "FP = cmSVC[0,1] \n",
    "FN = cmSVC[1,0] \n",
    "\n",
    "# Sensitivity, hit rate, recall, or true positive rate\n",
    "TPR = TP/float(TP+FN)\n",
    "# Specificity or true negative rate\n",
    "TNR = TN/float(TN+FP) \n",
    "# Precision or positive predictive value\n",
    "PPV = TP/float(TP+FP)\n",
    "# Negative predictive value\n",
    "NPV = TN/float(TN+FN)\n",
    "# Fall out or false positive rate\n",
    "FPR = FP/float(FP+TN)\n",
    "# False negative rate\n",
    "FNR = FN/float(TP+FN)\n",
    "# False discovery rate\n",
    "FDR = FP/float(TP+FP)\n",
    "totalSVC=sum(sum(cmSVC))\n",
    "Accuracy = (TN+TP)/totalSVC\n",
    "# MCC\n",
    "val = (TP * TN) - (FP * FN)\n",
    "MCC_SVC = val / np.sqrt((TP + FP) * (TP + FN) * (TN + FP) * (TN + FN))\n",
    "\n",
    "\n",
    "\n",
    "Y_pred = modelSVC.predict(x_test)\n",
    "\n",
    "\n",
    "cohen_score = cohen_kappa_score(y_test, Y_pred)\n",
    "f1 = f1_score(y_test, y_pred, average = \"weighted\")\n",
    "precision = precision_score(y_test, y_pred, average = \"weighted\")\n",
    "recall = recall_score(y_test, y_pred, average = \"weighted\")\n",
    "\n",
    "pred_prob = modelSVC.predict_proba(x_test)\n",
    "auc_score = roc_auc_score(y_test, pred_prob[:,1])\n",
    "\n",
    "print(f\"Precision  {precision}\")\n",
    "print(f\"f1 Score  {f1}\")\n",
    "print(f\"Recall  {recall}\")\n",
    "specificity = TNR\n",
    "print(\"Specificity/TNR: \" + str(TNR))\n",
    "\n",
    "print(\"Cohen Kappa: \" + str(cohen_score))\n",
    "print(f\"AUC Score  {auc_score}\")"
   ]
  },
  {
   "cell_type": "code",
   "execution_count": 22,
   "id": "783bb874",
   "metadata": {},
   "outputs": [
    {
     "data": {
      "text/plain": [
       "{'Metrics': ['Accuracy',\n",
       "  'Precision',\n",
       "  'Recall',\n",
       "  'F1 Score',\n",
       "  'Specificity',\n",
       "  'Cohen Kappa',\n",
       "  'AUC'],\n",
       " 'SVC': [0.7870370370370371,\n",
       "  0.7887999491773078,\n",
       "  0.7870370370370371,\n",
       "  0.7873114974240502,\n",
       "  0.7758620689655172,\n",
       "  0.573489010989011,\n",
       "  0.8758620689655172]}"
      ]
     },
     "execution_count": 22,
     "metadata": {},
     "output_type": "execute_result"
    }
   ],
   "source": [
    "# metrics = [\"Accuracy\", \"Precision\", \"Recall\", \"F1 Score\", \"Specificity\", \"Cohen Kappa\", \"AUC\"]\n",
    "svc_performances = [svc_acc, precision, recall, f1, specificity, cohen_score, auc_score ]\n",
    "performance_dict['SVC'] = svc_performances\n",
    "\n",
    "performance_dict"
   ]
  },
  {
   "cell_type": "markdown",
   "id": "c90e5fd1",
   "metadata": {},
   "source": [
    "# Decision Tree Classifier Train, Test"
   ]
  },
  {
   "cell_type": "code",
   "execution_count": 23,
   "id": "9eb57f0d",
   "metadata": {},
   "outputs": [
    {
     "name": "stdout",
     "output_type": "stream",
     "text": [
      "0.7592592592592593\n",
      "0.7592592592592593\n"
     ]
    }
   ],
   "source": [
    "from sklearn import tree\n",
    "from sklearn.metrics import accuracy_score\n",
    "\n",
    "modelDTC = tree.DecisionTreeClassifier()\n",
    "modelDTC.fit(x_train, y_train)\n",
    "print(modelDTC.score(x_test, y_test))\n",
    "\n",
    "# Predicting the Test set results\n",
    "y_pred = modelDTC.predict(x_test)\n",
    "ac = accuracy_score(y_test, y_pred)\n",
    "print(ac)"
   ]
  },
  {
   "cell_type": "markdown",
   "id": "c1ad31be",
   "metadata": {},
   "source": [
    "# Performance Measure of DTC"
   ]
  },
  {
   "cell_type": "code",
   "execution_count": 24,
   "id": "e33cee49",
   "metadata": {},
   "outputs": [
    {
     "name": "stdout",
     "output_type": "stream",
     "text": [
      "[[44 14]\n",
      " [12 38]]\n",
      "              precision    recall  f1-score   support\n",
      "\n",
      "         0.0       0.79      0.76      0.77        58\n",
      "         1.0       0.73      0.76      0.75        50\n",
      "\n",
      "    accuracy                           0.76       108\n",
      "   macro avg       0.76      0.76      0.76       108\n",
      "weighted avg       0.76      0.76      0.76       108\n",
      "\n"
     ]
    }
   ],
   "source": [
    "from sklearn.metrics import confusion_matrix\n",
    "from sklearn.metrics import classification_report\n",
    "\n",
    "y_pred = modelDTC.predict(x_test)\n",
    "print(confusion_matrix(y_test, y_pred))\n",
    "print(classification_report(y_test, y_pred))"
   ]
  },
  {
   "cell_type": "code",
   "execution_count": 25,
   "id": "3cb351b8",
   "metadata": {},
   "outputs": [
    {
     "name": "stdout",
     "output_type": "stream",
     "text": [
      "Precision  0.7602767602767602\n",
      "f1 Score  0.759507701716164\n",
      "Recall  0.7592592592592593\n",
      "Specificity/TNR: 0.7586206896551724\n",
      "Cohen Kappa: 0.517193947730399\n",
      "AUC Score  0.7593103448275862\n"
     ]
    }
   ],
   "source": [
    "from sklearn.metrics import cohen_kappa_score\n",
    "cmDTC = confusion_matrix(y_test, modelDTC.predict(x_test))\n",
    "\n",
    "#If we use TP TN FP and FN of below's comment we get range\n",
    "#FP = cmSVC.sum(axis=0) - np.diag(cmSVC)  \n",
    "#FN = cmSVC.sum(axis=1) - np.diag(cmSVC)\n",
    "#TP = np.diag(cmSVC)\n",
    "#TN = cmSVC.sum() - (FP + FN + TP)\n",
    "\n",
    "TP = cmDTC[1,1]  \n",
    "TN = cmDTC[0,0] \n",
    "FP = cmDTC[0,1] \n",
    "FN = cmDTC[1,0] \n",
    "\n",
    "# Sensitivity, hit rate, recall, or true positive rate\n",
    "TPR = TP/float(TP+FN)\n",
    "# Specificity or true negative rate\n",
    "TNR = TN/float(TN+FP) \n",
    "# Precision or positive predictive value\n",
    "PPV = TP/float(TP+FP)\n",
    "# Negative predictive value\n",
    "NPV = TN/float(TN+FN)\n",
    "# Fall out or false positive rate\n",
    "FPR = FP/float(FP+TN)\n",
    "# False negative rate\n",
    "FNR = FN/float(TP+FN)\n",
    "# False discovery rate\n",
    "FDR = FP/float(TP+FP)\n",
    "# Accuracy\n",
    "totalDTC=sum(sum(cmDTC))\n",
    "Accuracy = (TN+TP)/totalDTC\n",
    "# MCC\n",
    "val = (TP * TN) - (FP * FN)\n",
    "MCC_DTC = val / np.sqrt((TP + FP) * (TP + FN) * (TN + FP) * (TN + FN))\n",
    "# Cohen Kappa\n",
    "Y_pred = modelDTC.predict(x_test)\n",
    "pred_prob = modelDTC.predict_proba(x_test)\n",
    "\n",
    "\n",
    "cohen_score = cohen_kappa_score(y_test, Y_pred)\n",
    "f1 = f1_score(y_test, y_pred, average = \"weighted\")\n",
    "precision = precision_score(y_test, y_pred, average = \"weighted\")\n",
    "recall = recall_score(y_test, y_pred, average = \"weighted\")\n",
    "\n",
    "\n",
    "auc_score = roc_auc_score(y_test, pred_prob[:,1])\n",
    "\n",
    "print(f\"Precision  {precision}\")\n",
    "print(f\"f1 Score  {f1}\")\n",
    "print(f\"Recall  {recall}\")\n",
    "specificity = TNR\n",
    "print(\"Specificity/TNR: \" + str(TNR))\n",
    "\n",
    "print(\"Cohen Kappa: \" + str(cohen_score))\n",
    "print(f\"AUC Score  {auc_score}\")"
   ]
  },
  {
   "cell_type": "code",
   "execution_count": 26,
   "id": "47486cec",
   "metadata": {},
   "outputs": [
    {
     "data": {
      "text/plain": [
       "{'Metrics': ['Accuracy',\n",
       "  'Precision',\n",
       "  'Recall',\n",
       "  'F1 Score',\n",
       "  'Specificity',\n",
       "  'Cohen Kappa',\n",
       "  'AUC'],\n",
       " 'SVC': [0.7870370370370371,\n",
       "  0.7887999491773078,\n",
       "  0.7870370370370371,\n",
       "  0.7873114974240502,\n",
       "  0.7758620689655172,\n",
       "  0.573489010989011,\n",
       "  0.8758620689655172],\n",
       " 'DT': [0.7592592592592593,\n",
       "  0.7602767602767602,\n",
       "  0.7592592592592593,\n",
       "  0.759507701716164,\n",
       "  0.7586206896551724,\n",
       "  0.517193947730399,\n",
       "  0.7593103448275862]}"
      ]
     },
     "execution_count": 26,
     "metadata": {},
     "output_type": "execute_result"
    }
   ],
   "source": [
    "# metrics = [\"Accuracy\", \"Precision\", \"Recall\", \"F1 Score\", \"Specificity\", \"Cohen Kappa\", \"AUC\"]\n",
    "dtc_performances = [ac, precision, recall, f1, specificity, cohen_score, auc_score ]\n",
    "performance_dict['DT'] = dtc_performances\n",
    "\n",
    "performance_dict"
   ]
  },
  {
   "cell_type": "markdown",
   "id": "eb87d96b",
   "metadata": {},
   "source": [
    "# Random Forest Classifier Train, Test"
   ]
  },
  {
   "cell_type": "code",
   "execution_count": 27,
   "id": "03a581f4",
   "metadata": {},
   "outputs": [
    {
     "name": "stdout",
     "output_type": "stream",
     "text": [
      "0.7870370370370371\n",
      "0.7870370370370371\n"
     ]
    }
   ],
   "source": [
    "from sklearn import ensemble\n",
    "from sklearn.metrics import accuracy_score\n",
    "\n",
    "modelRFC = ensemble.RandomForestClassifier(n_estimators = 100) # by default n_estimators = 100\n",
    "modelRFC.fit(x_train, y_train)\n",
    "print(modelRFC.score(x_test, y_test))\n",
    "\n",
    "\n",
    "# Predicting the Test set results\n",
    "y_pred = modelRFC.predict(x_test)\n",
    "ac = accuracy_score(y_test, y_pred)\n",
    "print(ac)"
   ]
  },
  {
   "cell_type": "markdown",
   "id": "15d6e466",
   "metadata": {},
   "source": [
    "# Performance Measure of RFC"
   ]
  },
  {
   "cell_type": "code",
   "execution_count": 28,
   "id": "d58784f2",
   "metadata": {},
   "outputs": [
    {
     "name": "stdout",
     "output_type": "stream",
     "text": [
      "[[46 12]\n",
      " [11 39]]\n",
      "              precision    recall  f1-score   support\n",
      "\n",
      "         0.0       0.81      0.79      0.80        58\n",
      "         1.0       0.76      0.78      0.77        50\n",
      "\n",
      "    accuracy                           0.79       108\n",
      "   macro avg       0.79      0.79      0.79       108\n",
      "weighted avg       0.79      0.79      0.79       108\n",
      "\n"
     ]
    }
   ],
   "source": [
    "from sklearn.metrics import confusion_matrix\n",
    "from sklearn.metrics import classification_report\n",
    "\n",
    "y_pred = modelRFC.predict(x_test)\n",
    "print(confusion_matrix(y_test, y_pred))\n",
    "print(classification_report(y_test, y_pred))"
   ]
  },
  {
   "cell_type": "code",
   "execution_count": 29,
   "id": "78df7965",
   "metadata": {},
   "outputs": [
    {
     "name": "stdout",
     "output_type": "stream",
     "text": [
      "Precision  0.7874288116806176\n",
      "f1 Score  0.7871653832049872\n",
      "Recall  0.7870370370370371\n",
      "Specificity/TNR: 0.7931034482758621\n",
      "Cohen Kappa: 0.5723140495867769\n",
      "AUC Score  0.8974137931034483\n"
     ]
    }
   ],
   "source": [
    "from sklearn.metrics import cohen_kappa_score\n",
    "cmRFC = confusion_matrix(y_test, modelRFC.predict(x_test))\n",
    "\n",
    "#If we use TP TN FP and FN of below's comment we get range\n",
    "#FP = cmSVC.sum(axis=0) - np.diag(cmSVC)  \n",
    "#FN = cmSVC.sum(axis=1) - np.diag(cmSVC)\n",
    "#TP = np.diag(cmSVC)\n",
    "#TN = cmSVC.sum() - (FP + FN + TP)\n",
    "\n",
    "TP = cmRFC[1,1]  \n",
    "TN = cmRFC[0,0] \n",
    "FP = cmRFC[0,1] \n",
    "FN = cmRFC[1,0] \n",
    "\n",
    "# Sensitivity, hit rate, recall, or true positive rate\n",
    "TPR = TP/float(TP+FN)\n",
    "# Specificity or true negative rate\n",
    "TNR = TN/float(TN+FP) \n",
    "# Precision or positive predictive value\n",
    "PPV = TP/float(TP+FP)\n",
    "# Negative predictive value\n",
    "NPV = TN/float(TN+FN)\n",
    "# Fall out or false positive rate\n",
    "FPR = FP/float(FP+TN)\n",
    "# False negative rate\n",
    "FNR = FN/float(TP+FN)\n",
    "# False discovery rate\n",
    "FDR = FP/float(TP+FP)\n",
    "# Accuracy\n",
    "totalRFC=sum(sum(cmRFC))\n",
    "Accuracy = (TN+TP)/totalRFC\n",
    "# MCC\n",
    "val = (TP * TN) - (FP * FN)\n",
    "MCC_RFC = val / np.sqrt((TP + FP) * (TP + FN) * (TN + FP) * (TN + FN))\n",
    "# Cohen Kappa\n",
    "Y_pred = modelRFC.predict(x_test)\n",
    "pred_prob = modelRFC.predict_proba(x_test)\n",
    "\n",
    "\n",
    "cohen_score = cohen_kappa_score(y_test, Y_pred)\n",
    "f1 = f1_score(y_test, y_pred, average = \"weighted\")\n",
    "precision = precision_score(y_test, y_pred, average = \"weighted\")\n",
    "recall = recall_score(y_test, y_pred, average = \"weighted\")\n",
    "\n",
    "\n",
    "auc_score = roc_auc_score(y_test, pred_prob[:,1])\n",
    "\n",
    "print(f\"Precision  {precision}\")\n",
    "print(f\"f1 Score  {f1}\")\n",
    "print(f\"Recall  {recall}\")\n",
    "specificity = TNR\n",
    "print(\"Specificity/TNR: \" + str(TNR))\n",
    "\n",
    "print(\"Cohen Kappa: \" + str(cohen_score))\n",
    "print(f\"AUC Score  {auc_score}\")"
   ]
  },
  {
   "cell_type": "code",
   "execution_count": 30,
   "id": "2c7ff6fe",
   "metadata": {},
   "outputs": [
    {
     "data": {
      "text/plain": [
       "{'Metrics': ['Accuracy',\n",
       "  'Precision',\n",
       "  'Recall',\n",
       "  'F1 Score',\n",
       "  'Specificity',\n",
       "  'Cohen Kappa',\n",
       "  'AUC'],\n",
       " 'SVC': [0.7870370370370371,\n",
       "  0.7887999491773078,\n",
       "  0.7870370370370371,\n",
       "  0.7873114974240502,\n",
       "  0.7758620689655172,\n",
       "  0.573489010989011,\n",
       "  0.8758620689655172],\n",
       " 'DT': [0.7592592592592593,\n",
       "  0.7602767602767602,\n",
       "  0.7592592592592593,\n",
       "  0.759507701716164,\n",
       "  0.7586206896551724,\n",
       "  0.517193947730399,\n",
       "  0.7593103448275862],\n",
       " 'RF': [0.7870370370370371,\n",
       "  0.7874288116806176,\n",
       "  0.7870370370370371,\n",
       "  0.7871653832049872,\n",
       "  0.7931034482758621,\n",
       "  0.5723140495867769,\n",
       "  0.8974137931034483]}"
      ]
     },
     "execution_count": 30,
     "metadata": {},
     "output_type": "execute_result"
    }
   ],
   "source": [
    "# metrics = [\"Accuracy\", \"Precision\", \"Recall\", \"F1 Score\", \"Specificity\", \"Cohen Kappa\", \"AUC\"]\n",
    "rfc_performances = [ac, precision, recall, f1, specificity, cohen_score, auc_score ]\n",
    "performance_dict['RF'] = rfc_performances\n",
    "\n",
    "performance_dict"
   ]
  },
  {
   "cell_type": "markdown",
   "id": "9daddb53",
   "metadata": {},
   "source": [
    "### XGBoost"
   ]
  },
  {
   "cell_type": "code",
   "execution_count": 31,
   "id": "dfb47890",
   "metadata": {},
   "outputs": [
    {
     "name": "stdout",
     "output_type": "stream",
     "text": [
      "Testing 0.7777777777777778\n"
     ]
    },
    {
     "data": {
      "text/plain": [
       "array([[47, 11],\n",
       "       [13, 37]], dtype=int64)"
      ]
     },
     "execution_count": 31,
     "metadata": {},
     "output_type": "execute_result"
    }
   ],
   "source": [
    "# Training the Naive Bayes model on the Training set\n",
    "import xgboost as xgb\n",
    "from sklearn.metrics import accuracy_score\n",
    "\n",
    "modelXGB = xgb.XGBClassifier()\n",
    "\n",
    "modelXGB.fit(x_train, y_train)\n",
    "#print('Training',modelXGB.score(x_train, y_train))\n",
    "# Predicting the Test set results\n",
    "y_pred = modelXGB.predict(x_test)\n",
    "ac = accuracy_score(y_test, y_pred)\n",
    "print('Testing',ac)\n",
    "cmXGB = confusion_matrix(y_test, y_pred)\n",
    "cmXGB"
   ]
  },
  {
   "cell_type": "code",
   "execution_count": 32,
   "id": "9cc1d215",
   "metadata": {},
   "outputs": [
    {
     "name": "stdout",
     "output_type": "stream",
     "text": [
      "[[47 11]\n",
      " [13 37]]\n",
      "              precision    recall  f1-score   support\n",
      "\n",
      "         0.0       0.78      0.81      0.80        58\n",
      "         1.0       0.77      0.74      0.76        50\n",
      "\n",
      "    accuracy                           0.78       108\n",
      "   macro avg       0.78      0.78      0.78       108\n",
      "weighted avg       0.78      0.78      0.78       108\n",
      "\n"
     ]
    }
   ],
   "source": [
    "from sklearn.metrics import confusion_matrix\n",
    "from sklearn.metrics import classification_report\n",
    "\n",
    "y_pred = modelXGB.predict(x_test)\n",
    "print(confusion_matrix(y_test, y_pred))\n",
    "print(classification_report(y_test, y_pred))"
   ]
  },
  {
   "cell_type": "code",
   "execution_count": 33,
   "id": "b3a64ed3",
   "metadata": {},
   "outputs": [
    {
     "name": "stdout",
     "output_type": "stream",
     "text": [
      "Precision  0.7775462962962962\n",
      "f1 Score  0.7773934432530075\n",
      "Recall  0.7777777777777778\n",
      "Specificity/TNR: 0.8103448275862069\n",
      "Cohen Kappa: 0.5518672199170125\n",
      "AUC Score  0.8786206896551725\n"
     ]
    }
   ],
   "source": [
    "from sklearn.metrics import cohen_kappa_score\n",
    "cmXNB = confusion_matrix(y_test, modelXGB.predict(x_test))\n",
    "\n",
    "#If we use TP TN FP and FN of below's comment we get range\n",
    "#FP = cmSVC.sum(axis=0) - np.diag(cmSVC)  \n",
    "#FN = cmSVC.sum(axis=1) - np.diag(cmSVC)\n",
    "#TP = np.diag(cmSVC)\n",
    "#TN = cmSVC.sum() - (FP + FN + TP)\n",
    "\n",
    "TP = cmXGB[1,1]  \n",
    "TN = cmXGB[0,0] \n",
    "FP = cmXGB[0,1] \n",
    "FN = cmXGB[1,0] \n",
    "\n",
    "# Sensitivity, hit rate, recall, or true positive rate\n",
    "TPR = TP/float(TP+FN)\n",
    "# Specificity or true negative rate\n",
    "TNR = TN/float(TN+FP) \n",
    "# Precision or positive predictive value\n",
    "PPV = TP/float(TP+FP)\n",
    "# Negative predictive value\n",
    "NPV = TN/float(TN+FN)\n",
    "# Fall out or false positive rate\n",
    "FPR = FP/float(FP+TN)\n",
    "# False negative rate\n",
    "FNR = FN/float(TP+FN)\n",
    "# False discovery rate\n",
    "FDR = FP/float(TP+FP)\n",
    "# Accuracy\n",
    "totalXGB=sum(sum(cmXGB))\n",
    "Accuracy = (TN+TP)/totalXGB\n",
    "# MCC\n",
    "val = (TP * TN) - (FP * FN)\n",
    "MCC_XGB = val / np.sqrt((TP + FP) * (TP + FN) * (TN + FP) * (TN + FN))\n",
    "# Cohen Kappa\n",
    "Y_pred = modelXGB.predict(x_test)\n",
    "\n",
    "\n",
    "pred_prob = modelXGB.predict_proba(x_test)\n",
    "\n",
    "\n",
    "cohen_score = cohen_kappa_score(y_test, Y_pred)\n",
    "f1 = f1_score(y_test, y_pred, average = \"weighted\")\n",
    "precision = precision_score(y_test, y_pred, average = \"weighted\")\n",
    "recall = recall_score(y_test, y_pred, average = \"weighted\")\n",
    "\n",
    "\n",
    "auc_score = roc_auc_score(y_test, pred_prob[:,1])\n",
    "\n",
    "print(f\"Precision  {precision}\")\n",
    "print(f\"f1 Score  {f1}\")\n",
    "print(f\"Recall  {recall}\")\n",
    "specificity = TNR\n",
    "print(\"Specificity/TNR: \" + str(TNR))\n",
    "\n",
    "print(\"Cohen Kappa: \" + str(cohen_score))\n",
    "print(f\"AUC Score  {auc_score}\")"
   ]
  },
  {
   "cell_type": "code",
   "execution_count": 34,
   "id": "37bd9986",
   "metadata": {},
   "outputs": [
    {
     "data": {
      "text/plain": [
       "{'Metrics': ['Accuracy',\n",
       "  'Precision',\n",
       "  'Recall',\n",
       "  'F1 Score',\n",
       "  'Specificity',\n",
       "  'Cohen Kappa',\n",
       "  'AUC'],\n",
       " 'SVC': [0.7870370370370371,\n",
       "  0.7887999491773078,\n",
       "  0.7870370370370371,\n",
       "  0.7873114974240502,\n",
       "  0.7758620689655172,\n",
       "  0.573489010989011,\n",
       "  0.8758620689655172],\n",
       " 'DT': [0.7592592592592593,\n",
       "  0.7602767602767602,\n",
       "  0.7592592592592593,\n",
       "  0.759507701716164,\n",
       "  0.7586206896551724,\n",
       "  0.517193947730399,\n",
       "  0.7593103448275862],\n",
       " 'RF': [0.7870370370370371,\n",
       "  0.7874288116806176,\n",
       "  0.7870370370370371,\n",
       "  0.7871653832049872,\n",
       "  0.7931034482758621,\n",
       "  0.5723140495867769,\n",
       "  0.8974137931034483],\n",
       " 'XGB': [0.7777777777777778,\n",
       "  0.7775462962962962,\n",
       "  0.7777777777777778,\n",
       "  0.7773934432530075,\n",
       "  0.8103448275862069,\n",
       "  0.5518672199170125,\n",
       "  0.8786206896551725]}"
      ]
     },
     "execution_count": 34,
     "metadata": {},
     "output_type": "execute_result"
    }
   ],
   "source": [
    "# metrics = [\"Accuracy\", \"Precision\", \"Recall\", \"F1 Score\", \"Specificity\", \"Cohen Kappa\", \"AUC\"]\n",
    "xgb_performances = [ac, precision, recall, f1, specificity, cohen_score, auc_score ]\n",
    "performance_dict['XGB'] = xgb_performances\n",
    "\n",
    "performance_dict"
   ]
  },
  {
   "cell_type": "markdown",
   "id": "09450179",
   "metadata": {},
   "source": [
    "# Logistic Regression Train, Test"
   ]
  },
  {
   "cell_type": "code",
   "execution_count": 35,
   "id": "453e610a",
   "metadata": {},
   "outputs": [
    {
     "name": "stdout",
     "output_type": "stream",
     "text": [
      "0.7962962962962963\n",
      "0.7962962962962963\n"
     ]
    }
   ],
   "source": [
    "from sklearn.linear_model import LogisticRegression\n",
    "from sklearn.metrics import accuracy_score\n",
    "\n",
    "modelLR = LogisticRegression()\n",
    "modelLR.fit(x_train, y_train)\n",
    "print(modelLR.score(x_test, y_test))\n",
    "\n",
    "\n",
    "# Predicting the Test set results\n",
    "y_pred = modelLR.predict(x_test)\n",
    "ac = accuracy_score(y_test, y_pred)\n",
    "print(ac)"
   ]
  },
  {
   "cell_type": "markdown",
   "id": "3a30afaa",
   "metadata": {},
   "source": [
    "# Performance Measure of LR"
   ]
  },
  {
   "cell_type": "code",
   "execution_count": 36,
   "id": "d49aa596",
   "metadata": {},
   "outputs": [
    {
     "name": "stdout",
     "output_type": "stream",
     "text": [
      "[[46 12]\n",
      " [10 40]]\n",
      "              precision    recall  f1-score   support\n",
      "\n",
      "         0.0       0.82      0.79      0.81        58\n",
      "         1.0       0.77      0.80      0.78        50\n",
      "\n",
      "    accuracy                           0.80       108\n",
      "   macro avg       0.80      0.80      0.80       108\n",
      "weighted avg       0.80      0.80      0.80       108\n",
      "\n"
     ]
    }
   ],
   "source": [
    "from sklearn.metrics import confusion_matrix\n",
    "from sklearn.metrics import classification_report\n",
    "\n",
    "y_pred = modelLR.predict(x_test)\n",
    "print(confusion_matrix(y_test, y_pred))\n",
    "print(classification_report(y_test, y_pred))"
   ]
  },
  {
   "cell_type": "code",
   "execution_count": 37,
   "id": "444dc4e2",
   "metadata": {},
   "outputs": [
    {
     "name": "stdout",
     "output_type": "stream",
     "text": [
      "Precision  0.7972629222629223\n",
      "f1 Score  0.7965065168367542\n",
      "Recall  0.7962962962962963\n",
      "Specificity/TNR: 0.7931034482758621\n",
      "Cohen Kappa: 0.5914718019257221\n",
      "AUC Score  0.86\n"
     ]
    }
   ],
   "source": [
    "from sklearn.metrics import cohen_kappa_score\n",
    "cmLR = confusion_matrix(y_test, modelLR.predict(x_test))\n",
    "\n",
    "#If we use TP TN FP and FN of below's comment we get range\n",
    "#FP = cmSVC.sum(axis=0) - np.diag(cmSVC)  \n",
    "#FN = cmSVC.sum(axis=1) - np.diag(cmSVC)\n",
    "#TP = np.diag(cmSVC)\n",
    "#TN = cmSVC.sum() - (FP + FN + TP)\n",
    "\n",
    "TP = cmLR[1,1]  \n",
    "TN = cmLR[0,0] \n",
    "FP = cmLR[0,1] \n",
    "FN = cmLR[1,0] \n",
    "\n",
    "# Sensitivity, hit rate, recall, or true positive rate\n",
    "TPR = TP/float(TP+FN)\n",
    "# Specificity or true negative rate\n",
    "TNR = TN/float(TN+FP) \n",
    "# Precision or positive predictive value\n",
    "PPV = TP/float(TP+FP)\n",
    "# Negative predictive value\n",
    "NPV = TN/float(TN+FN)\n",
    "# Fall out or false positive rate\n",
    "FPR = FP/float(FP+TN)\n",
    "# False negative rate\n",
    "FNR = FN/float(TP+FN)\n",
    "# False discovery rate\n",
    "FDR = FP/float(TP+FP)\n",
    "# Accuracy\n",
    "totalLR=sum(sum(cmLR))\n",
    "Accuracy = (TN+TP)/totalLR\n",
    "# MCC\n",
    "val = (TP * TN) - (FP * FN)\n",
    "MCC_LR = val / np.sqrt((TP + FP) * (TP + FN) * (TN + FP) * (TN + FN))\n",
    "# Cohen Kappa\n",
    "Y_pred = modelLR.predict(x_test)\n",
    "pred_prob = modelLR.predict_proba(x_test)\n",
    "\n",
    "\n",
    "cohen_score = cohen_kappa_score(y_test, Y_pred)\n",
    "f1 = f1_score(y_test, y_pred, average = \"weighted\")\n",
    "precision = precision_score(y_test, y_pred, average = \"weighted\")\n",
    "recall = recall_score(y_test, y_pred, average = \"weighted\")\n",
    "\n",
    "\n",
    "auc_score = roc_auc_score(y_test, pred_prob[:,1])\n",
    "\n",
    "print(f\"Precision  {precision}\")\n",
    "print(f\"f1 Score  {f1}\")\n",
    "print(f\"Recall  {recall}\")\n",
    "specificity = TNR\n",
    "print(\"Specificity/TNR: \" + str(TNR))\n",
    "\n",
    "print(\"Cohen Kappa: \" + str(cohen_score))\n",
    "print(f\"AUC Score  {auc_score}\")"
   ]
  },
  {
   "cell_type": "code",
   "execution_count": 38,
   "id": "4c7c6c81",
   "metadata": {},
   "outputs": [
    {
     "data": {
      "text/plain": [
       "{'Metrics': ['Accuracy',\n",
       "  'Precision',\n",
       "  'Recall',\n",
       "  'F1 Score',\n",
       "  'Specificity',\n",
       "  'Cohen Kappa',\n",
       "  'AUC'],\n",
       " 'SVC': [0.7870370370370371,\n",
       "  0.7887999491773078,\n",
       "  0.7870370370370371,\n",
       "  0.7873114974240502,\n",
       "  0.7758620689655172,\n",
       "  0.573489010989011,\n",
       "  0.8758620689655172],\n",
       " 'DT': [0.7592592592592593,\n",
       "  0.7602767602767602,\n",
       "  0.7592592592592593,\n",
       "  0.759507701716164,\n",
       "  0.7586206896551724,\n",
       "  0.517193947730399,\n",
       "  0.7593103448275862],\n",
       " 'RF': [0.7870370370370371,\n",
       "  0.7874288116806176,\n",
       "  0.7870370370370371,\n",
       "  0.7871653832049872,\n",
       "  0.7931034482758621,\n",
       "  0.5723140495867769,\n",
       "  0.8974137931034483],\n",
       " 'XGB': [0.7777777777777778,\n",
       "  0.7775462962962962,\n",
       "  0.7777777777777778,\n",
       "  0.7773934432530075,\n",
       "  0.8103448275862069,\n",
       "  0.5518672199170125,\n",
       "  0.8786206896551725],\n",
       " 'LR': [0.7962962962962963,\n",
       "  0.7972629222629223,\n",
       "  0.7962962962962963,\n",
       "  0.7965065168367542,\n",
       "  0.7931034482758621,\n",
       "  0.5914718019257221,\n",
       "  0.86]}"
      ]
     },
     "execution_count": 38,
     "metadata": {},
     "output_type": "execute_result"
    }
   ],
   "source": [
    "# metrics = [\"Accuracy\", \"Precision\", \"Recall\", \"F1 Score\", \"Specificity\", \"Cohen Kappa\", \"AUC\"]\n",
    "lr_performances = [ac, precision, recall, f1, specificity, cohen_score, auc_score ]\n",
    "performance_dict['LR'] = lr_performances\n",
    "\n",
    "performance_dict"
   ]
  },
  {
   "cell_type": "markdown",
   "id": "904ac738",
   "metadata": {},
   "source": [
    "# KNN Train, Test"
   ]
  },
  {
   "cell_type": "code",
   "execution_count": 39,
   "id": "108e96da",
   "metadata": {},
   "outputs": [
    {
     "name": "stdout",
     "output_type": "stream",
     "text": [
      "0.8055555555555556\n",
      "0.8055555555555556\n"
     ]
    }
   ],
   "source": [
    "from sklearn.neighbors import KNeighborsClassifier\n",
    "from sklearn.metrics import accuracy_score\n",
    "\n",
    "\n",
    "modelKNN = KNeighborsClassifier(n_neighbors = 5, algorithm = 'ball_tree', weights = 'distance', metric = 'minkowski', p = 2)\n",
    "modelKNN.fit(x_train, y_train)\n",
    "print(modelKNN.score(x_test, y_test))\n",
    "\n",
    "# Predicting the Test set results\n",
    "y_pred = modelKNN.predict(x_test)\n",
    "ac = accuracy_score(y_test, y_pred)\n",
    "print(ac)"
   ]
  },
  {
   "cell_type": "markdown",
   "id": "eea1431a",
   "metadata": {},
   "source": [
    "# Performance Measure of KNN"
   ]
  },
  {
   "cell_type": "code",
   "execution_count": 40,
   "id": "cd013f06",
   "metadata": {},
   "outputs": [
    {
     "name": "stdout",
     "output_type": "stream",
     "text": [
      "[[50  8]\n",
      " [13 37]]\n",
      "              precision    recall  f1-score   support\n",
      "\n",
      "         0.0       0.79      0.86      0.83        58\n",
      "         1.0       0.82      0.74      0.78        50\n",
      "\n",
      "    accuracy                           0.81       108\n",
      "   macro avg       0.81      0.80      0.80       108\n",
      "weighted avg       0.81      0.81      0.80       108\n",
      "\n"
     ]
    }
   ],
   "source": [
    "from sklearn.metrics import confusion_matrix\n",
    "from sklearn.metrics import classification_report\n",
    "\n",
    "y_pred = modelKNN.predict(x_test)\n",
    "print(confusion_matrix(y_test, y_pred))\n",
    "print(classification_report(y_test, y_pred))"
   ]
  },
  {
   "cell_type": "code",
   "execution_count": 41,
   "id": "5ea9a90f",
   "metadata": {},
   "outputs": [
    {
     "name": "stdout",
     "output_type": "stream",
     "text": [
      "Precision  0.8068783068783069\n",
      "f1 Score  0.8044560436904933\n",
      "Recall  0.8055555555555556\n",
      "Specificity/TNR: 0.8620689655172413\n",
      "Cohen Kappa: 0.60625\n",
      "AUC Score  0.8446551724137931\n"
     ]
    },
    {
     "data": {
      "text/plain": [
       "{'Metrics': ['Accuracy',\n",
       "  'Precision',\n",
       "  'Recall',\n",
       "  'F1 Score',\n",
       "  'Specificity',\n",
       "  'Cohen Kappa',\n",
       "  'AUC'],\n",
       " 'SVC': [0.7870370370370371,\n",
       "  0.7887999491773078,\n",
       "  0.7870370370370371,\n",
       "  0.7873114974240502,\n",
       "  0.7758620689655172,\n",
       "  0.573489010989011,\n",
       "  0.8758620689655172],\n",
       " 'DT': [0.7592592592592593,\n",
       "  0.7602767602767602,\n",
       "  0.7592592592592593,\n",
       "  0.759507701716164,\n",
       "  0.7586206896551724,\n",
       "  0.517193947730399,\n",
       "  0.7593103448275862],\n",
       " 'RF': [0.7870370370370371,\n",
       "  0.7874288116806176,\n",
       "  0.7870370370370371,\n",
       "  0.7871653832049872,\n",
       "  0.7931034482758621,\n",
       "  0.5723140495867769,\n",
       "  0.8974137931034483],\n",
       " 'XGB': [0.7777777777777778,\n",
       "  0.7775462962962962,\n",
       "  0.7777777777777778,\n",
       "  0.7773934432530075,\n",
       "  0.8103448275862069,\n",
       "  0.5518672199170125,\n",
       "  0.8786206896551725],\n",
       " 'LR': [0.7962962962962963,\n",
       "  0.7972629222629223,\n",
       "  0.7962962962962963,\n",
       "  0.7965065168367542,\n",
       "  0.7931034482758621,\n",
       "  0.5914718019257221,\n",
       "  0.86],\n",
       " 'KNN': [0.8055555555555556,\n",
       "  0.8068783068783069,\n",
       "  0.8055555555555556,\n",
       "  0.8044560436904933,\n",
       "  0.8620689655172413,\n",
       "  0.60625,\n",
       "  0.8446551724137931]}"
      ]
     },
     "execution_count": 41,
     "metadata": {},
     "output_type": "execute_result"
    }
   ],
   "source": [
    "from sklearn.metrics import cohen_kappa_score\n",
    "cmKNN = confusion_matrix(y_test, modelKNN.predict(x_test))\n",
    "\n",
    "#If we use TP TN FP and FN of below's comment we get range\n",
    "#FP = cmSVC.sum(axis=0) - np.diag(cmSVC)  \n",
    "#FN = cmSVC.sum(axis=1) - np.diag(cmSVC)\n",
    "#TP = np.diag(cmSVC)\n",
    "#TN = cmSVC.sum() - (FP + FN + TP)\n",
    "\n",
    "TP = cmKNN[1,1]  \n",
    "TN = cmKNN[0,0] \n",
    "FP = cmKNN[0,1] \n",
    "FN = cmKNN[1,0] \n",
    "\n",
    "# Sensitivity, hit rate, recall, or true positive rate\n",
    "TPR = TP/float(TP+FN)\n",
    "# Specificity or true negative rate\n",
    "TNR = TN/float(TN+FP) \n",
    "# Precision or positive predictive value\n",
    "PPV = TP/float(TP+FP)\n",
    "# Negative predictive value\n",
    "NPV = TN/float(TN+FN)\n",
    "# Fall out or false positive rate\n",
    "FPR = FP/float(FP+TN)\n",
    "# False negative rate\n",
    "FNR = FN/float(TP+FN)\n",
    "# False discovery rate\n",
    "FDR = FP/float(TP+FP)\n",
    "# Accuracy\n",
    "totalKNN = sum(sum(cmKNN))\n",
    "Accuracy = (TN+TP)/totalKNN\n",
    "# MCC\n",
    "val = (TP * TN) - (FP * FN)\n",
    "MCC_KNN = val / np.sqrt((TP + FP) * (TP + FN) * (TN + FP) * (TN + FN))\n",
    "# Cohen Kappa\n",
    "Y_pred = modelKNN.predict(x_test)\n",
    "pred_prob = modelKNN.predict_proba(x_test)\n",
    "\n",
    "\n",
    "cohen_score = cohen_kappa_score(y_test, Y_pred)\n",
    "f1 = f1_score(y_test, y_pred, average = \"weighted\")\n",
    "precision = precision_score(y_test, y_pred, average = \"weighted\")\n",
    "recall = recall_score(y_test, y_pred, average = \"weighted\")\n",
    "\n",
    "\n",
    "auc_score = roc_auc_score(y_test, pred_prob[:,1])\n",
    "\n",
    "print(f\"Precision  {precision}\")\n",
    "print(f\"f1 Score  {f1}\")\n",
    "print(f\"Recall  {recall}\")\n",
    "specificity = TNR\n",
    "print(\"Specificity/TNR: \" + str(TNR))\n",
    "\n",
    "print(\"Cohen Kappa: \" + str(cohen_score))\n",
    "print(f\"AUC Score  {auc_score}\")\n",
    "\n",
    "\n",
    "# metrics = [\"Accuracy\", \"Precision\", \"Recall\", \"F1 Score\", \"Specificity\", \"Cohen Kappa\", \"AUC\"]\n",
    "knn_performances = [ac, precision, recall, f1, specificity, cohen_score, auc_score ]\n",
    "performance_dict['KNN'] = knn_performances\n",
    "\n",
    "performance_dict"
   ]
  },
  {
   "cell_type": "code",
   "execution_count": 42,
   "id": "d8238cc2",
   "metadata": {},
   "outputs": [
    {
     "data": {
      "text/plain": [
       "{'Metrics': ['Accuracy',\n",
       "  'Precision',\n",
       "  'Recall',\n",
       "  'F1 Score',\n",
       "  'Specificity',\n",
       "  'Cohen Kappa',\n",
       "  'AUC'],\n",
       " 'SVC': [0.7870370370370371,\n",
       "  0.7887999491773078,\n",
       "  0.7870370370370371,\n",
       "  0.7873114974240502,\n",
       "  0.7758620689655172,\n",
       "  0.573489010989011,\n",
       "  0.8758620689655172],\n",
       " 'DT': [0.7592592592592593,\n",
       "  0.7602767602767602,\n",
       "  0.7592592592592593,\n",
       "  0.759507701716164,\n",
       "  0.7586206896551724,\n",
       "  0.517193947730399,\n",
       "  0.7593103448275862],\n",
       " 'RF': [0.7870370370370371,\n",
       "  0.7874288116806176,\n",
       "  0.7870370370370371,\n",
       "  0.7871653832049872,\n",
       "  0.7931034482758621,\n",
       "  0.5723140495867769,\n",
       "  0.8974137931034483],\n",
       " 'XGB': [0.7777777777777778,\n",
       "  0.7775462962962962,\n",
       "  0.7777777777777778,\n",
       "  0.7773934432530075,\n",
       "  0.8103448275862069,\n",
       "  0.5518672199170125,\n",
       "  0.8786206896551725],\n",
       " 'LR': [0.7962962962962963,\n",
       "  0.7972629222629223,\n",
       "  0.7962962962962963,\n",
       "  0.7965065168367542,\n",
       "  0.7931034482758621,\n",
       "  0.5914718019257221,\n",
       "  0.86],\n",
       " 'KNN': [0.8055555555555556,\n",
       "  0.8068783068783069,\n",
       "  0.8055555555555556,\n",
       "  0.8044560436904933,\n",
       "  0.8620689655172413,\n",
       "  0.60625,\n",
       "  0.8446551724137931]}"
      ]
     },
     "execution_count": 42,
     "metadata": {},
     "output_type": "execute_result"
    }
   ],
   "source": [
    "# metrics = [\"Accuracy\", \"Precision\", \"Recall\", \"F1 Score\", \"Specificity\", \"Cohen Kappa\", \"AUC\"]\n",
    "knn_performances = [ac, precision, recall, f1, specificity, cohen_score, auc_score ]\n",
    "performance_dict['KNN'] = knn_performances\n",
    "\n",
    "performance_dict"
   ]
  },
  {
   "cell_type": "markdown",
   "id": "0c0ec044",
   "metadata": {},
   "source": [
    "# Multilayer Perceptron Train, Test"
   ]
  },
  {
   "cell_type": "code",
   "execution_count": 43,
   "id": "796a6035",
   "metadata": {
    "scrolled": true
   },
   "outputs": [
    {
     "name": "stdout",
     "output_type": "stream",
     "text": [
      "0.7870370370370371\n",
      "0.7870370370370371\n"
     ]
    },
    {
     "name": "stderr",
     "output_type": "stream",
     "text": [
      "C:\\Users\\mahmu\\anaconda3\\lib\\site-packages\\sklearn\\neural_network\\_multilayer_perceptron.py:692: ConvergenceWarning: Stochastic Optimizer: Maximum iterations (200) reached and the optimization hasn't converged yet.\n",
      "  warnings.warn(\n"
     ]
    }
   ],
   "source": [
    "from sklearn.neural_network import MLPClassifier\n",
    "from sklearn.metrics import accuracy_score\n",
    "# with HT it will give at most 87%\n",
    "modelMLP = MLPClassifier()\n",
    "modelMLP.fit(x_train, y_train)\n",
    "print(modelMLP.score(x_test, y_test))\n",
    "\n",
    "# Predicting the Test set results\n",
    "y_pred = modelMLP.predict(x_test)\n",
    "ac = accuracy_score(y_test, y_pred)\n",
    "print(ac)"
   ]
  },
  {
   "cell_type": "markdown",
   "id": "e4042a4e",
   "metadata": {},
   "source": [
    "# Performance Measure of MLP"
   ]
  },
  {
   "cell_type": "code",
   "execution_count": 44,
   "id": "e9a1d952",
   "metadata": {},
   "outputs": [
    {
     "name": "stdout",
     "output_type": "stream",
     "text": [
      "[[46 12]\n",
      " [11 39]]\n",
      "              precision    recall  f1-score   support\n",
      "\n",
      "         0.0       0.81      0.79      0.80        58\n",
      "         1.0       0.76      0.78      0.77        50\n",
      "\n",
      "    accuracy                           0.79       108\n",
      "   macro avg       0.79      0.79      0.79       108\n",
      "weighted avg       0.79      0.79      0.79       108\n",
      "\n"
     ]
    }
   ],
   "source": [
    "from sklearn.metrics import confusion_matrix\n",
    "from sklearn.metrics import classification_report\n",
    "\n",
    "y_pred = modelMLP.predict(x_test)\n",
    "print(confusion_matrix(y_test, y_pred))\n",
    "print(classification_report(y_test, y_pred))"
   ]
  },
  {
   "cell_type": "code",
   "execution_count": 45,
   "id": "2eef311a",
   "metadata": {},
   "outputs": [
    {
     "name": "stdout",
     "output_type": "stream",
     "text": [
      "Precision  0.7874288116806176\n",
      "f1 Score  0.7871653832049872\n",
      "Recall  0.7870370370370371\n",
      "Specificity/TNR: 0.7931034482758621\n",
      "Cohen Kappa: 0.5723140495867769\n",
      "AUC Score  0.8720689655172413\n"
     ]
    },
    {
     "data": {
      "text/plain": [
       "{'Metrics': ['Accuracy',\n",
       "  'Precision',\n",
       "  'Recall',\n",
       "  'F1 Score',\n",
       "  'Specificity',\n",
       "  'Cohen Kappa',\n",
       "  'AUC'],\n",
       " 'SVC': [0.7870370370370371,\n",
       "  0.7887999491773078,\n",
       "  0.7870370370370371,\n",
       "  0.7873114974240502,\n",
       "  0.7758620689655172,\n",
       "  0.573489010989011,\n",
       "  0.8758620689655172],\n",
       " 'DT': [0.7592592592592593,\n",
       "  0.7602767602767602,\n",
       "  0.7592592592592593,\n",
       "  0.759507701716164,\n",
       "  0.7586206896551724,\n",
       "  0.517193947730399,\n",
       "  0.7593103448275862],\n",
       " 'RF': [0.7870370370370371,\n",
       "  0.7874288116806176,\n",
       "  0.7870370370370371,\n",
       "  0.7871653832049872,\n",
       "  0.7931034482758621,\n",
       "  0.5723140495867769,\n",
       "  0.8974137931034483],\n",
       " 'XGB': [0.7777777777777778,\n",
       "  0.7775462962962962,\n",
       "  0.7777777777777778,\n",
       "  0.7773934432530075,\n",
       "  0.8103448275862069,\n",
       "  0.5518672199170125,\n",
       "  0.8786206896551725],\n",
       " 'LR': [0.7962962962962963,\n",
       "  0.7972629222629223,\n",
       "  0.7962962962962963,\n",
       "  0.7965065168367542,\n",
       "  0.7931034482758621,\n",
       "  0.5914718019257221,\n",
       "  0.86],\n",
       " 'KNN': [0.8055555555555556,\n",
       "  0.8068783068783069,\n",
       "  0.8055555555555556,\n",
       "  0.8044560436904933,\n",
       "  0.8620689655172413,\n",
       "  0.60625,\n",
       "  0.8446551724137931],\n",
       " 'MLP': [0.7870370370370371,\n",
       "  0.7874288116806176,\n",
       "  0.7870370370370371,\n",
       "  0.7871653832049872,\n",
       "  0.7931034482758621,\n",
       "  0.5723140495867769,\n",
       "  0.8720689655172413]}"
      ]
     },
     "execution_count": 45,
     "metadata": {},
     "output_type": "execute_result"
    }
   ],
   "source": [
    "from sklearn.metrics import cohen_kappa_score\n",
    "cmMLP = confusion_matrix(y_test, modelMLP.predict(x_test))\n",
    "\n",
    "#If we use TP TN FP and FN of below's comment we get range\n",
    "#FP = cmSVC.sum(axis=0) - np.diag(cmSVC)  \n",
    "#FN = cmSVC.sum(axis=1) - np.diag(cmSVC)\n",
    "#TP = np.diag(cmSVC)\n",
    "#TN = cmSVC.sum() - (FP + FN + TP)\n",
    "\n",
    "TP = cmMLP[1,1]  \n",
    "TN = cmMLP[0,0] \n",
    "FP = cmMLP[0,1] \n",
    "FN = cmMLP[1,0] \n",
    "\n",
    "# Sensitivity, hit rate, recall, or true positive rate\n",
    "TPR = TP/float(TP+FN)\n",
    "# Specificity or true negative rate\n",
    "TNR = TN/float(TN+FP) \n",
    "# Precision or positive predictive value\n",
    "PPV = TP/float(TP+FP)\n",
    "# Negative predictive value\n",
    "NPV = TN/float(TN+FN)\n",
    "# Fall out or false positive rate\n",
    "FPR = FP/float(FP+TN)\n",
    "# False negative rate\n",
    "FNR = FN/float(TP+FN)\n",
    "# False discovery rate\n",
    "FDR = FP/float(TP+FP)\n",
    "# Accuracy\n",
    "totalMLP=sum(sum(cmMLP))\n",
    "Accuracy = (TN+TP)/totalMLP\n",
    "# MCC\n",
    "val = (TP * TN) - (FP * FN)\n",
    "MCC_MLP = val / np.sqrt((TP + FP) * (TP + FN) * (TN + FP) * (TN + FN))\n",
    "# Cohen Kappa\n",
    "Y_pred = modelMLP.predict(x_test)\n",
    "pred_prob = modelMLP.predict_proba(x_test)\n",
    "\n",
    "\n",
    "cohen_score = cohen_kappa_score(y_test, Y_pred)\n",
    "f1 = f1_score(y_test, y_pred, average = \"weighted\")\n",
    "precision = precision_score(y_test, y_pred, average = \"weighted\")\n",
    "recall = recall_score(y_test, y_pred, average = \"weighted\")\n",
    "\n",
    "\n",
    "auc_score = roc_auc_score(y_test, pred_prob[:,1])\n",
    "\n",
    "print(f\"Precision  {precision}\")\n",
    "print(f\"f1 Score  {f1}\")\n",
    "print(f\"Recall  {recall}\")\n",
    "specificity = TNR\n",
    "print(\"Specificity/TNR: \" + str(TNR))\n",
    "\n",
    "print(\"Cohen Kappa: \" + str(cohen_score))\n",
    "print(f\"AUC Score  {auc_score}\")\n",
    "\n",
    "\n",
    "# metrics = [\"Accuracy\", \"Precision\", \"Recall\", \"F1 Score\", \"Specificity\", \"Cohen Kappa\", \"AUC\"]\n",
    "mlp_performances = [ac, precision, recall, f1, specificity, cohen_score, auc_score ]\n",
    "performance_dict['MLP'] = mlp_performances\n",
    "\n",
    "performance_dict"
   ]
  },
  {
   "cell_type": "markdown",
   "id": "85c6921e",
   "metadata": {},
   "source": [
    "# Gaussian Naive Bayes Train Test"
   ]
  },
  {
   "cell_type": "code",
   "execution_count": 46,
   "id": "ccb93870",
   "metadata": {},
   "outputs": [
    {
     "name": "stdout",
     "output_type": "stream",
     "text": [
      "0.7592592592592593\n"
     ]
    },
    {
     "data": {
      "text/plain": [
       "array([[47, 11],\n",
       "       [15, 35]], dtype=int64)"
      ]
     },
     "execution_count": 46,
     "metadata": {},
     "output_type": "execute_result"
    }
   ],
   "source": [
    "# Training the Naive Bayes model on the Training set\n",
    "from sklearn.naive_bayes import GaussianNB\n",
    "from sklearn.metrics import accuracy_score\n",
    "\n",
    "modelGNB = GaussianNB()\n",
    "modelGNB.fit(x_train, y_train)\n",
    "#print(modelGNB.score(x_train, y_train))\n",
    "# Predicting the Test set results\n",
    "y_pred = modelGNB.predict(x_test)\n",
    "ac = accuracy_score(y_test, y_pred)\n",
    "print(ac)\n",
    "cm = confusion_matrix(y_test, y_pred)\n",
    "cm"
   ]
  },
  {
   "cell_type": "markdown",
   "id": "66cce9db",
   "metadata": {},
   "source": [
    "# Gaussian Naive Bayes Performance Measure"
   ]
  },
  {
   "cell_type": "code",
   "execution_count": 47,
   "id": "07501b1f",
   "metadata": {},
   "outputs": [
    {
     "name": "stdout",
     "output_type": "stream",
     "text": [
      "[[47 11]\n",
      " [15 35]]\n",
      "              precision    recall  f1-score   support\n",
      "\n",
      "         0.0       0.76      0.81      0.78        58\n",
      "         1.0       0.76      0.70      0.73        50\n",
      "\n",
      "    accuracy                           0.76       108\n",
      "   macro avg       0.76      0.76      0.76       108\n",
      "weighted avg       0.76      0.76      0.76       108\n",
      "\n"
     ]
    }
   ],
   "source": [
    "from sklearn.metrics import confusion_matrix\n",
    "from sklearn.metrics import classification_report\n",
    "\n",
    "y_pred = modelGNB.predict(x_test)\n",
    "print(confusion_matrix(y_test, y_pred))\n",
    "print(classification_report(y_test, y_pred))"
   ]
  },
  {
   "cell_type": "code",
   "execution_count": 48,
   "id": "ff3571c9",
   "metadata": {
    "scrolled": true
   },
   "outputs": [
    {
     "name": "stdout",
     "output_type": "stream",
     "text": [
      "Precision  0.7593631499662356\n",
      "f1 Score  0.7582561728395062\n",
      "Recall  0.7592592592592593\n",
      "Specificity/TNR: 0.8103448275862069\n",
      "Cohen Kappa: 0.5131761442441054\n",
      "AUC Score  0.7858620689655172\n"
     ]
    }
   ],
   "source": [
    "from sklearn.metrics import cohen_kappa_score\n",
    "cmGNB = confusion_matrix(y_test, modelGNB.predict(x_test))\n",
    "\n",
    "#If we use TP TN FP and FN of below's comment we get range\n",
    "#FP = cmSVC.sum(axis=0) - np.diag(cmSVC)  \n",
    "#FN = cmSVC.sum(axis=1) - np.diag(cmSVC)\n",
    "#TP = np.diag(cmSVC)\n",
    "#TN = cmSVC.sum() - (FP + FN + TP)\n",
    "\n",
    "TP = cmGNB[1,1]  \n",
    "TN = cmGNB[0,0] \n",
    "FP = cmGNB[0,1] \n",
    "FN = cmGNB[1,0] \n",
    "\n",
    "# Sensitivity, hit rate, recall, or true positive rate\n",
    "TPR = TP/float(TP+FN)\n",
    "# Specificity or true negative rate\n",
    "TNR = TN/float(TN+FP) \n",
    "# Precision or positive predictive value\n",
    "PPV = TP/float(TP+FP)\n",
    "# Negative predictive value\n",
    "NPV = TN/float(TN+FN)\n",
    "# Fall out or false positive rate\n",
    "FPR = FP/float(FP+TN)\n",
    "# False negative rate\n",
    "FNR = FN/float(TP+FN)\n",
    "# False discovery rate\n",
    "FDR = FP/float(TP+FP)\n",
    "# Accuracy\n",
    "totalGNB=sum(sum(cmGNB))\n",
    "Accuracy = (TN+TP)/totalGNB\n",
    "# MCC\n",
    "val = (TP * TN) - (FP * FN)\n",
    "MCC_GNB = val / np.sqrt((TP + FP) * (TP + FN) * (TN + FP) * (TN + FN))\n",
    "# Cohen Kappa\n",
    "Y_pred = modelGNB.predict(x_test)\n",
    "pred_prob = modelGNB.predict_proba(x_test)\n",
    "\n",
    "\n",
    "cohen_score = cohen_kappa_score(y_test, Y_pred)\n",
    "f1 = f1_score(y_test, y_pred, average = \"weighted\")\n",
    "precision = precision_score(y_test, y_pred, average = \"weighted\")\n",
    "recall = recall_score(y_test, y_pred, average = \"weighted\")\n",
    "\n",
    "\n",
    "auc_score = roc_auc_score(y_test, pred_prob[:,1])\n",
    "\n",
    "print(f\"Precision  {precision}\")\n",
    "print(f\"f1 Score  {f1}\")\n",
    "print(f\"Recall  {recall}\")\n",
    "specificity = TNR\n",
    "print(\"Specificity/TNR: \" + str(TNR))\n",
    "\n",
    "print(\"Cohen Kappa: \" + str(cohen_score))\n",
    "print(f\"AUC Score  {auc_score}\")\n",
    "\n",
    "\n",
    "# metrics = [\"Accuracy\", \"Precision\", \"Recall\", \"F1 Score\", \"Specificity\", \"Cohen Kappa\", \"AUC\"]\n",
    "gnb_performances = [ac, precision, recall, f1, specificity, cohen_score, auc_score ]\n",
    "performance_dict['GNB'] = gnb_performances\n",
    "\n",
    "#performance_dict"
   ]
  },
  {
   "cell_type": "markdown",
   "id": "8072ec86",
   "metadata": {},
   "source": [
    "## Result"
   ]
  },
  {
   "cell_type": "code",
   "execution_count": 49,
   "id": "1e1cedc1",
   "metadata": {},
   "outputs": [
    {
     "data": {
      "text/html": [
       "<div>\n",
       "<style scoped>\n",
       "    .dataframe tbody tr th:only-of-type {\n",
       "        vertical-align: middle;\n",
       "    }\n",
       "\n",
       "    .dataframe tbody tr th {\n",
       "        vertical-align: top;\n",
       "    }\n",
       "\n",
       "    .dataframe thead th {\n",
       "        text-align: right;\n",
       "    }\n",
       "</style>\n",
       "<table border=\"1\" class=\"dataframe\">\n",
       "  <thead>\n",
       "    <tr style=\"text-align: right;\">\n",
       "      <th></th>\n",
       "      <th>Metrics</th>\n",
       "      <th>SVC</th>\n",
       "      <th>DT</th>\n",
       "      <th>RF</th>\n",
       "      <th>XGB</th>\n",
       "      <th>LR</th>\n",
       "      <th>KNN</th>\n",
       "      <th>MLP</th>\n",
       "      <th>GNB</th>\n",
       "    </tr>\n",
       "  </thead>\n",
       "  <tbody>\n",
       "    <tr>\n",
       "      <th>0</th>\n",
       "      <td>Accuracy</td>\n",
       "      <td>0.787037</td>\n",
       "      <td>0.759259</td>\n",
       "      <td>0.787037</td>\n",
       "      <td>0.777778</td>\n",
       "      <td>0.796296</td>\n",
       "      <td>0.805556</td>\n",
       "      <td>0.787037</td>\n",
       "      <td>0.759259</td>\n",
       "    </tr>\n",
       "    <tr>\n",
       "      <th>1</th>\n",
       "      <td>Precision</td>\n",
       "      <td>0.788800</td>\n",
       "      <td>0.760277</td>\n",
       "      <td>0.787429</td>\n",
       "      <td>0.777546</td>\n",
       "      <td>0.797263</td>\n",
       "      <td>0.806878</td>\n",
       "      <td>0.787429</td>\n",
       "      <td>0.759363</td>\n",
       "    </tr>\n",
       "    <tr>\n",
       "      <th>2</th>\n",
       "      <td>Recall</td>\n",
       "      <td>0.787037</td>\n",
       "      <td>0.759259</td>\n",
       "      <td>0.787037</td>\n",
       "      <td>0.777778</td>\n",
       "      <td>0.796296</td>\n",
       "      <td>0.805556</td>\n",
       "      <td>0.787037</td>\n",
       "      <td>0.759259</td>\n",
       "    </tr>\n",
       "    <tr>\n",
       "      <th>3</th>\n",
       "      <td>F1 Score</td>\n",
       "      <td>0.787311</td>\n",
       "      <td>0.759508</td>\n",
       "      <td>0.787165</td>\n",
       "      <td>0.777393</td>\n",
       "      <td>0.796507</td>\n",
       "      <td>0.804456</td>\n",
       "      <td>0.787165</td>\n",
       "      <td>0.758256</td>\n",
       "    </tr>\n",
       "    <tr>\n",
       "      <th>4</th>\n",
       "      <td>Specificity</td>\n",
       "      <td>0.775862</td>\n",
       "      <td>0.758621</td>\n",
       "      <td>0.793103</td>\n",
       "      <td>0.810345</td>\n",
       "      <td>0.793103</td>\n",
       "      <td>0.862069</td>\n",
       "      <td>0.793103</td>\n",
       "      <td>0.810345</td>\n",
       "    </tr>\n",
       "    <tr>\n",
       "      <th>5</th>\n",
       "      <td>Cohen Kappa</td>\n",
       "      <td>0.573489</td>\n",
       "      <td>0.517194</td>\n",
       "      <td>0.572314</td>\n",
       "      <td>0.551867</td>\n",
       "      <td>0.591472</td>\n",
       "      <td>0.606250</td>\n",
       "      <td>0.572314</td>\n",
       "      <td>0.513176</td>\n",
       "    </tr>\n",
       "    <tr>\n",
       "      <th>6</th>\n",
       "      <td>AUC</td>\n",
       "      <td>0.875862</td>\n",
       "      <td>0.759310</td>\n",
       "      <td>0.897414</td>\n",
       "      <td>0.878621</td>\n",
       "      <td>0.860000</td>\n",
       "      <td>0.844655</td>\n",
       "      <td>0.872069</td>\n",
       "      <td>0.785862</td>\n",
       "    </tr>\n",
       "  </tbody>\n",
       "</table>\n",
       "</div>"
      ],
      "text/plain": [
       "       Metrics       SVC        DT        RF       XGB        LR       KNN  \\\n",
       "0     Accuracy  0.787037  0.759259  0.787037  0.777778  0.796296  0.805556   \n",
       "1    Precision  0.788800  0.760277  0.787429  0.777546  0.797263  0.806878   \n",
       "2       Recall  0.787037  0.759259  0.787037  0.777778  0.796296  0.805556   \n",
       "3     F1 Score  0.787311  0.759508  0.787165  0.777393  0.796507  0.804456   \n",
       "4  Specificity  0.775862  0.758621  0.793103  0.810345  0.793103  0.862069   \n",
       "5  Cohen Kappa  0.573489  0.517194  0.572314  0.551867  0.591472  0.606250   \n",
       "6          AUC  0.875862  0.759310  0.897414  0.878621  0.860000  0.844655   \n",
       "\n",
       "        MLP       GNB  \n",
       "0  0.787037  0.759259  \n",
       "1  0.787429  0.759363  \n",
       "2  0.787037  0.759259  \n",
       "3  0.787165  0.758256  \n",
       "4  0.793103  0.810345  \n",
       "5  0.572314  0.513176  \n",
       "6  0.872069  0.785862  "
      ]
     },
     "execution_count": 49,
     "metadata": {},
     "output_type": "execute_result"
    }
   ],
   "source": [
    "performance_df = pd.DataFrame.from_dict(performance_dict)\n",
    "performance_df"
   ]
  },
  {
   "cell_type": "code",
   "execution_count": 50,
   "id": "83cd755b",
   "metadata": {},
   "outputs": [],
   "source": [
    "#performance_df.to_csv(\"Combination 1.csv\")"
   ]
  },
  {
   "cell_type": "code",
   "execution_count": null,
   "id": "c734a00c",
   "metadata": {},
   "outputs": [],
   "source": []
  },
  {
   "cell_type": "markdown",
   "id": "1c09dc27",
   "metadata": {},
   "source": [
    "# ROC Curve "
   ]
  },
  {
   "cell_type": "code",
   "execution_count": 51,
   "id": "45841583",
   "metadata": {},
   "outputs": [],
   "source": [
    "from sklearn.metrics import roc_curve\n",
    "\n",
    "# predict probabilities\n",
    "pred_prob1 = modelSVC.predict_proba(x_test)\n",
    "pred_prob2 = modelDTC.predict_proba(x_test)\n",
    "pred_prob3 = modelRFC.predict_proba(x_test)\n",
    "pred_prob4 = modelXGB.predict_proba(x_test)\n",
    "pred_prob5 = modelLR.predict_proba(x_test)\n",
    "#pred_prob6 = modelMNB.predict_proba(x_test_smt)\n",
    "pred_prob7 = modelKNN.predict_proba(x_test)\n",
    "#pred_prob8 = modelSGDC.predict_proba(x_test_smt)\n",
    "pred_prob9 = modelMLP.predict_proba(x_test)\n",
    "#pred_prob10 = modelABC.predict_proba(x_test_smt)\n",
    "pred_prob11 = modelGNB.predict_proba(x_test)\n",
    "#pred_prob12 = modelLRMLP.predict_proba(x_test_smt)\n",
    "\n",
    "# roc curve for models\n",
    "fpr1, tpr1, thresh1 = roc_curve(y_test, pred_prob1[:,1], pos_label = 1)\n",
    "fpr2, tpr2, thresh2 = roc_curve(y_test, pred_prob2[:,1], pos_label = 1)\n",
    "fpr3, tpr3, thresh3 = roc_curve(y_test, pred_prob3[:,1], pos_label = 1)\n",
    "fpr4, tpr4, thresh4 = roc_curve(y_test, pred_prob4[:,1], pos_label = 1)\n",
    "fpr5, tpr5, thresh5 = roc_curve(y_test, pred_prob5[:,1], pos_label = 1)\n",
    "#fpr6, tpr6, thresh6 = roc_curve(y_test_smt, pred_prob6[:,1], pos_label = 1)\n",
    "fpr7, tpr7, thresh7 = roc_curve(y_test, pred_prob7[:,1], pos_label = 1)\n",
    "#fpr8, tpr8, thresh8 = roc_curve(y_test, pred_prob8[:,1], pos_label = 1)\n",
    "fpr9, tpr9, thresh9 = roc_curve(y_test, pred_prob9[:,1], pos_label = 1)\n",
    "#fpr10, tpr10, thresh10 = roc_curve(y_test, pred_prob10[:,1], pos_label = 1)\n",
    "fpr11, tpr11, thresh11 = roc_curve(y_test, pred_prob11[:,1], pos_label = 1)\n",
    "#fpr12, tpr12, thres12 = roc_curve(y_test_smt, pred_prob11[:,1], pos_label = 1)\n",
    "\n",
    "# roc curve for tpr = fpr \n",
    "random_probs = [0 for i in range(len(y_test))]\n",
    "p_fpr, p_tpr, _ = roc_curve(y_test, random_probs, pos_label=1)"
   ]
  },
  {
   "cell_type": "code",
   "execution_count": 52,
   "id": "d7119be6",
   "metadata": {},
   "outputs": [
    {
     "data": {
      "image/png": "[encoded data removed]",
      "text/plain": [
       "<Figure size 800x550 with 1 Axes>"
      ]
     },
     "metadata": {},
     "output_type": "display_data"
    }
   ],
   "source": [
    "import seaborn as sb\n",
    "import matplotlib.pyplot as plt\n",
    "%matplotlib inline\n",
    "plt.style.use('seaborn')\n",
    "sb.set_theme(style = 'whitegrid')\n",
    "\n",
    "# plot roc curves\n",
    "plt.plot(fpr1, tpr1, linestyle = '--', color = 'magenta', label = 'SVM')\n",
    "plt.plot(fpr7, tpr7, linestyle = '--', color = 'cyan', label = 'KNN')\n",
    "plt.plot(fpr2, tpr2, linestyle = '--', color = 'green', label = 'DT')\n",
    "plt.plot(fpr3, tpr3, linestyle = '--', color = 'red', label = 'RF')\n",
    "plt.plot(fpr4, tpr4, linestyle = '--', color = 'purple', label = 'XGB')\n",
    "plt.plot(fpr11, tpr11, linestyle = '--', color = 'grey', label = 'GNB')\n",
    "plt.plot(fpr5, tpr5, linestyle = '--', color = 'darkorange', label = 'LR')\n",
    "#plt.plot(fpr6, tpr6, linestyle = '--', color = 'pink', label = 'MNB')\n",
    "\n",
    "#plt.plot(fpr8, tpr8, linestyle = '--', color = 'cyan', label = 'SGD')\n",
    "plt.plot(fpr9, tpr9, linestyle = '--', color = 'blue', label = 'MLP')\n",
    "#plt.plot(fpr10, tpr10, linestyle = '--', color = 'brown', label = 'AB')\n",
    "\n",
    "#plt.plot(fpr12, tpr12, linestyle = '--', color = 'green', label = 'LR-MLP')\n",
    "plt.plot(p_fpr, p_tpr, linestyle = '--', color = 'cornflowerblue')\n",
    "# title\n",
    "plt.title('Cleveland : LongBeach')\n",
    "# x label\n",
    "plt.xlabel('False Positive Rate')\n",
    "# y label\n",
    "plt.ylabel('True Positive rate')\n",
    "\n",
    "plt.legend(loc='best')\n",
    "#plt.savefig(\"Cleveland single fx 30by70.png\",dpi=300)\n",
    "\n",
    "plt.show();"
   ]
  },
  {
   "cell_type": "code",
   "execution_count": null,
   "id": "7abe98b9",
   "metadata": {},
   "outputs": [],
   "source": []
  }
 ],
 "metadata": {
  "kernelspec": {
   "display_name": "Python 3 (ipykernel)",
   "language": "python",
   "name": "python3"
  },
  "language_info": {
   "codemirror_mode": {
    "name": "ipython",
    "version": 3
   },
   "file_extension": ".py",
   "mimetype": "text/x-python",
   "name": "python",
   "nbconvert_exporter": "python",
   "pygments_lexer": "ipython3",
   "version": "3.9.13"
  }
 },
 "nbformat": 4,
 "nbformat_minor": 5
}
