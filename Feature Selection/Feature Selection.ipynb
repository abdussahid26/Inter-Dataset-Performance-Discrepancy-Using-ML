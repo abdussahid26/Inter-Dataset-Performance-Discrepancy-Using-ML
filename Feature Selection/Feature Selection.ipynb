{
 "cells": [
  {
   "cell_type": "code",
   "execution_count": 1,
   "id": "1343052b",
   "metadata": {},
   "outputs": [],
   "source": [
    "import pandas as pd\n",
    "import numpy as np\n",
    "from statistics import mean\n",
    "from numpy import std\n",
    "\n",
    "data = pd.read_csv(\"Hungarian__Switzerland__Long Beach VA__Preprocess__1.csv\")\n",
    "data1 = pd.read_csv(\"Cleveland__Statlog__Preprocess__1.csv\")"
   ]
  },
  {
   "cell_type": "code",
   "execution_count": 2,
   "id": "7c765275",
   "metadata": {},
   "outputs": [
    {
     "data": {
      "text/html": [
       "<div>\n",
       "<style scoped>\n",
       "    .dataframe tbody tr th:only-of-type {\n",
       "        vertical-align: middle;\n",
       "    }\n",
       "\n",
       "    .dataframe tbody tr th {\n",
       "        vertical-align: top;\n",
       "    }\n",
       "\n",
       "    .dataframe thead th {\n",
       "        text-align: right;\n",
       "    }\n",
       "</style>\n",
       "<table border=\"1\" class=\"dataframe\">\n",
       "  <thead>\n",
       "    <tr style=\"text-align: right;\">\n",
       "      <th></th>\n",
       "      <th>id</th>\n",
       "      <th>age</th>\n",
       "      <th>sex</th>\n",
       "      <th>cp</th>\n",
       "      <th>trestbps</th>\n",
       "      <th>chol</th>\n",
       "      <th>fbs</th>\n",
       "      <th>restecg</th>\n",
       "      <th>thalach</th>\n",
       "      <th>exang</th>\n",
       "      <th>oldpeak</th>\n",
       "      <th>slope</th>\n",
       "      <th>ca</th>\n",
       "      <th>thal</th>\n",
       "      <th>target</th>\n",
       "    </tr>\n",
       "  </thead>\n",
       "  <tbody>\n",
       "    <tr>\n",
       "      <th>0</th>\n",
       "      <td>0</td>\n",
       "      <td>28.0</td>\n",
       "      <td>1.0</td>\n",
       "      <td>2.0</td>\n",
       "      <td>130.0</td>\n",
       "      <td>132.000000</td>\n",
       "      <td>0.0</td>\n",
       "      <td>2.0</td>\n",
       "      <td>185.0</td>\n",
       "      <td>0.0</td>\n",
       "      <td>0.0</td>\n",
       "      <td>1.9</td>\n",
       "      <td>0.3</td>\n",
       "      <td>2.6</td>\n",
       "      <td>0.0</td>\n",
       "    </tr>\n",
       "    <tr>\n",
       "      <th>1</th>\n",
       "      <td>1</td>\n",
       "      <td>29.0</td>\n",
       "      <td>1.0</td>\n",
       "      <td>2.0</td>\n",
       "      <td>120.0</td>\n",
       "      <td>243.000000</td>\n",
       "      <td>0.0</td>\n",
       "      <td>0.0</td>\n",
       "      <td>160.0</td>\n",
       "      <td>0.0</td>\n",
       "      <td>0.0</td>\n",
       "      <td>2.0</td>\n",
       "      <td>0.0</td>\n",
       "      <td>2.7</td>\n",
       "      <td>0.0</td>\n",
       "    </tr>\n",
       "    <tr>\n",
       "      <th>2</th>\n",
       "      <td>2</td>\n",
       "      <td>29.0</td>\n",
       "      <td>1.0</td>\n",
       "      <td>2.0</td>\n",
       "      <td>140.0</td>\n",
       "      <td>250.848708</td>\n",
       "      <td>0.0</td>\n",
       "      <td>0.0</td>\n",
       "      <td>170.0</td>\n",
       "      <td>0.0</td>\n",
       "      <td>0.0</td>\n",
       "      <td>2.0</td>\n",
       "      <td>0.1</td>\n",
       "      <td>2.5</td>\n",
       "      <td>0.0</td>\n",
       "    </tr>\n",
       "    <tr>\n",
       "      <th>3</th>\n",
       "      <td>3</td>\n",
       "      <td>30.0</td>\n",
       "      <td>0.0</td>\n",
       "      <td>1.0</td>\n",
       "      <td>170.0</td>\n",
       "      <td>237.000000</td>\n",
       "      <td>0.0</td>\n",
       "      <td>1.0</td>\n",
       "      <td>170.0</td>\n",
       "      <td>0.0</td>\n",
       "      <td>0.0</td>\n",
       "      <td>1.8</td>\n",
       "      <td>0.3</td>\n",
       "      <td>2.6</td>\n",
       "      <td>0.0</td>\n",
       "    </tr>\n",
       "    <tr>\n",
       "      <th>4</th>\n",
       "      <td>4</td>\n",
       "      <td>31.0</td>\n",
       "      <td>0.0</td>\n",
       "      <td>2.0</td>\n",
       "      <td>100.0</td>\n",
       "      <td>219.000000</td>\n",
       "      <td>0.0</td>\n",
       "      <td>1.0</td>\n",
       "      <td>150.0</td>\n",
       "      <td>0.0</td>\n",
       "      <td>0.0</td>\n",
       "      <td>1.4</td>\n",
       "      <td>0.3</td>\n",
       "      <td>2.8</td>\n",
       "      <td>0.0</td>\n",
       "    </tr>\n",
       "  </tbody>\n",
       "</table>\n",
       "</div>"
      ],
      "text/plain": [
       "   id   age  sex   cp  trestbps        chol  fbs  restecg  thalach  exang  \\\n",
       "0   0  28.0  1.0  2.0     130.0  132.000000  0.0      2.0    185.0    0.0   \n",
       "1   1  29.0  1.0  2.0     120.0  243.000000  0.0      0.0    160.0    0.0   \n",
       "2   2  29.0  1.0  2.0     140.0  250.848708  0.0      0.0    170.0    0.0   \n",
       "3   3  30.0  0.0  1.0     170.0  237.000000  0.0      1.0    170.0    0.0   \n",
       "4   4  31.0  0.0  2.0     100.0  219.000000  0.0      1.0    150.0    0.0   \n",
       "\n",
       "   oldpeak  slope   ca  thal  target  \n",
       "0      0.0    1.9  0.3   2.6     0.0  \n",
       "1      0.0    2.0  0.0   2.7     0.0  \n",
       "2      0.0    2.0  0.1   2.5     0.0  \n",
       "3      0.0    1.8  0.3   2.6     0.0  \n",
       "4      0.0    1.4  0.3   2.8     0.0  "
      ]
     },
     "execution_count": 2,
     "metadata": {},
     "output_type": "execute_result"
    }
   ],
   "source": [
    "data.head()"
   ]
  },
  {
   "cell_type": "code",
   "execution_count": 3,
   "id": "87a6b6ff",
   "metadata": {},
   "outputs": [
    {
     "name": "stdout",
     "output_type": "stream",
     "text": [
      "<class 'pandas.core.frame.DataFrame'>\n",
      "RangeIndex: 617 entries, 0 to 616\n",
      "Data columns (total 15 columns):\n",
      " #   Column    Non-Null Count  Dtype  \n",
      "---  ------    --------------  -----  \n",
      " 0   id        617 non-null    int64  \n",
      " 1   age       617 non-null    float64\n",
      " 2   sex       617 non-null    float64\n",
      " 3   cp        617 non-null    float64\n",
      " 4   trestbps  617 non-null    float64\n",
      " 5   chol      617 non-null    float64\n",
      " 6   fbs       617 non-null    float64\n",
      " 7   restecg   617 non-null    float64\n",
      " 8   thalach   617 non-null    float64\n",
      " 9   exang     617 non-null    float64\n",
      " 10  oldpeak   617 non-null    float64\n",
      " 11  slope     617 non-null    float64\n",
      " 12  ca        617 non-null    float64\n",
      " 13  thal      617 non-null    float64\n",
      " 14  target    617 non-null    float64\n",
      "dtypes: float64(14), int64(1)\n",
      "memory usage: 72.4 KB\n"
     ]
    }
   ],
   "source": [
    "data.info()"
   ]
  },
  {
   "cell_type": "markdown",
   "id": "d1082439",
   "metadata": {},
   "source": [
    "# Main Preprocessing 1"
   ]
  },
  {
   "cell_type": "code",
   "execution_count": 4,
   "id": "e64ebf00",
   "metadata": {},
   "outputs": [
    {
     "data": {
      "text/plain": [
       "Index(['id', 'age', 'sex', 'cp', 'trestbps', 'chol', 'fbs', 'restecg',\n",
       "       'thalach', 'exang', 'oldpeak', 'slope', 'ca', 'thal', 'target'],\n",
       "      dtype='object')"
      ]
     },
     "execution_count": 4,
     "metadata": {},
     "output_type": "execute_result"
    }
   ],
   "source": [
    "data.columns"
   ]
  },
  {
   "cell_type": "code",
   "execution_count": 5,
   "id": "f571cfa2",
   "metadata": {},
   "outputs": [],
   "source": [
    "#Classification columns\n",
    "class_cols=[\"sex\",\"target\",'cp',\"fbs\",\"exang\",\"restecg\",\"thal\",\"ca\",\"slope\"]\n",
    "class_data=data[class_cols]\n",
    "\n",
    "#Continuous columns\n",
    "continuous_cols=[\"age\",\"trestbps\",\"chol\",\"thalach\",\"oldpeak\"]\n",
    "continuous_data=data[continuous_cols]"
   ]
  },
  {
   "cell_type": "code",
   "execution_count": 6,
   "id": "00de391a",
   "metadata": {},
   "outputs": [
    {
     "name": "stdout",
     "output_type": "stream",
     "text": [
      "Column age outliers = 0 => 0.0%\n",
      "Column trestbps outliers = 19 => 3.079%\n",
      "Column chol outliers = 71 => 11.507%\n",
      "Column thalach outliers = 3 => 0.486%\n",
      "Column oldpeak outliers = 0 => 0.0%\n"
     ]
    }
   ],
   "source": [
    "for k, v in continuous_data.items():\n",
    "        q1 = v.quantile(0.25)\n",
    "        q3 = v.quantile(0.75)\n",
    "        irq = q3 - q1\n",
    "        v_col = v[(v <= q1 - 1.5 * irq) | (v >= q3 + 1.5 * irq)]\n",
    "        perc = np.shape(v_col)[0] * 100.0 / np.shape(data)[0]\n",
    "        print(\"Column {} outliers = {} => {}%\".format(k,len(v_col),round((perc),3)))"
   ]
  },
  {
   "cell_type": "code",
   "execution_count": 7,
   "id": "2afb76f4",
   "metadata": {},
   "outputs": [
    {
     "name": "stdout",
     "output_type": "stream",
     "text": [
      "---Log Transform performed---\n",
      "Column age outliers = 1 => 0.162%\n",
      "Column trestbps outliers = 1 => 0.162%\n",
      "Column chol outliers = 53 => 8.59%\n",
      "Column thalach outliers = 3 => 0.486%\n",
      "Column oldpeak outliers = 0 => 0.0%\n"
     ]
    },
    {
     "name": "stderr",
     "output_type": "stream",
     "text": [
      "C:\\Users\\mahmu\\anaconda3\\lib\\site-packages\\pandas\\core\\arraylike.py:397: RuntimeWarning: divide by zero encountered in log\n",
      "  result = getattr(ufunc, method)(*inputs, **kwargs)\n"
     ]
    }
   ],
   "source": [
    "#Using log transformation\n",
    "data[\"age\"]= np.log(data.age)\n",
    "data[\"trestbps\"]= np.log(data.trestbps)\n",
    "data[\"chol\"]= np.log(data.chol)\n",
    "data[\"thalach\"]= np.log(data.thalach)\n",
    "print(\"---Log Transform performed---\")\n",
    "\n",
    "#Outliners again\n",
    "continuous_cols=[\"age\",\"trestbps\",\"chol\",\"thalach\",\"oldpeak\"]\n",
    "continuous_data=data[continuous_cols]\n",
    "\n",
    "for k, v in continuous_data.items():\n",
    "        q1 = v.quantile(0.20)\n",
    "        q3 = v.quantile(0.80)\n",
    "        irq = q3 - q1\n",
    "        v_col = v[(v <= q1 - 1.5 * irq) | (v >= q3 + 1.5 * irq)]\n",
    "        perc = np.shape(v_col)[0] * 100.0 / np.shape(data)[0]\n",
    "        print(\"Column {} outliers = {} => {}%\".format(k,len(v_col),round((perc),3)))"
   ]
  },
  {
   "cell_type": "code",
   "execution_count": 8,
   "id": "42dee56e",
   "metadata": {},
   "outputs": [
    {
     "data": {
      "text/html": [
       "<div>\n",
       "<style scoped>\n",
       "    .dataframe tbody tr th:only-of-type {\n",
       "        vertical-align: middle;\n",
       "    }\n",
       "\n",
       "    .dataframe tbody tr th {\n",
       "        vertical-align: top;\n",
       "    }\n",
       "\n",
       "    .dataframe thead th {\n",
       "        text-align: right;\n",
       "    }\n",
       "</style>\n",
       "<table border=\"1\" class=\"dataframe\">\n",
       "  <thead>\n",
       "    <tr style=\"text-align: right;\">\n",
       "      <th></th>\n",
       "      <th>id</th>\n",
       "      <th>age</th>\n",
       "      <th>sex</th>\n",
       "      <th>cp</th>\n",
       "      <th>trestbps</th>\n",
       "      <th>chol</th>\n",
       "      <th>fbs</th>\n",
       "      <th>restecg</th>\n",
       "      <th>thalach</th>\n",
       "      <th>exang</th>\n",
       "      <th>oldpeak</th>\n",
       "      <th>slope</th>\n",
       "      <th>ca</th>\n",
       "      <th>thal</th>\n",
       "      <th>target</th>\n",
       "    </tr>\n",
       "  </thead>\n",
       "  <tbody>\n",
       "    <tr>\n",
       "      <th>count</th>\n",
       "      <td>617.000000</td>\n",
       "      <td>617.000000</td>\n",
       "      <td>617.000000</td>\n",
       "      <td>617.000000</td>\n",
       "      <td>617.000000</td>\n",
       "      <td>617.000000</td>\n",
       "      <td>617.000000</td>\n",
       "      <td>617.000000</td>\n",
       "      <td>617.000000</td>\n",
       "      <td>617.000000</td>\n",
       "      <td>617.000000</td>\n",
       "      <td>617.000000</td>\n",
       "      <td>617.000000</td>\n",
       "      <td>617.000000</td>\n",
       "      <td>617.000000</td>\n",
       "    </tr>\n",
       "    <tr>\n",
       "      <th>mean</th>\n",
       "      <td>114.220421</td>\n",
       "      <td>3.954888</td>\n",
       "      <td>0.842788</td>\n",
       "      <td>3.301459</td>\n",
       "      <td>4.876567</td>\n",
       "      <td>-inf</td>\n",
       "      <td>0.201662</td>\n",
       "      <td>0.414229</td>\n",
       "      <td>4.852134</td>\n",
       "      <td>0.442460</td>\n",
       "      <td>0.821296</td>\n",
       "      <td>1.444136</td>\n",
       "      <td>0.919530</td>\n",
       "      <td>2.313776</td>\n",
       "      <td>0.599676</td>\n",
       "    </tr>\n",
       "    <tr>\n",
       "      <th>std</th>\n",
       "      <td>76.843512</td>\n",
       "      <td>0.189094</td>\n",
       "      <td>0.364296</td>\n",
       "      <td>0.899069</td>\n",
       "      <td>0.128958</td>\n",
       "      <td>NaN</td>\n",
       "      <td>0.352349</td>\n",
       "      <td>0.610128</td>\n",
       "      <td>0.189738</td>\n",
       "      <td>0.476106</td>\n",
       "      <td>0.954952</td>\n",
       "      <td>0.479962</td>\n",
       "      <td>0.471634</td>\n",
       "      <td>0.276319</td>\n",
       "      <td>0.490362</td>\n",
       "    </tr>\n",
       "    <tr>\n",
       "      <th>min</th>\n",
       "      <td>0.000000</td>\n",
       "      <td>3.332205</td>\n",
       "      <td>0.000000</td>\n",
       "      <td>1.000000</td>\n",
       "      <td>4.382027</td>\n",
       "      <td>-inf</td>\n",
       "      <td>0.000000</td>\n",
       "      <td>0.000000</td>\n",
       "      <td>4.094345</td>\n",
       "      <td>0.000000</td>\n",
       "      <td>-2.175000</td>\n",
       "      <td>0.300000</td>\n",
       "      <td>0.000000</td>\n",
       "      <td>1.600000</td>\n",
       "      <td>0.000000</td>\n",
       "    </tr>\n",
       "    <tr>\n",
       "      <th>25%</th>\n",
       "      <td>51.000000</td>\n",
       "      <td>3.850148</td>\n",
       "      <td>1.000000</td>\n",
       "      <td>3.000000</td>\n",
       "      <td>4.787492</td>\n",
       "      <td>5.315174</td>\n",
       "      <td>0.000000</td>\n",
       "      <td>0.000000</td>\n",
       "      <td>4.753590</td>\n",
       "      <td>0.000000</td>\n",
       "      <td>0.000000</td>\n",
       "      <td>1.000000</td>\n",
       "      <td>0.500000</td>\n",
       "      <td>2.100000</td>\n",
       "      <td>0.000000</td>\n",
       "    </tr>\n",
       "    <tr>\n",
       "      <th>50%</th>\n",
       "      <td>102.000000</td>\n",
       "      <td>3.988984</td>\n",
       "      <td>1.000000</td>\n",
       "      <td>4.000000</td>\n",
       "      <td>4.867534</td>\n",
       "      <td>5.438079</td>\n",
       "      <td>0.000000</td>\n",
       "      <td>0.000000</td>\n",
       "      <td>4.852030</td>\n",
       "      <td>0.000000</td>\n",
       "      <td>0.653846</td>\n",
       "      <td>1.500000</td>\n",
       "      <td>0.900000</td>\n",
       "      <td>2.300000</td>\n",
       "      <td>1.000000</td>\n",
       "    </tr>\n",
       "    <tr>\n",
       "      <th>75%</th>\n",
       "      <td>169.000000</td>\n",
       "      <td>4.094345</td>\n",
       "      <td>1.000000</td>\n",
       "      <td>4.000000</td>\n",
       "      <td>4.941642</td>\n",
       "      <td>5.570632</td>\n",
       "      <td>0.300000</td>\n",
       "      <td>1.000000</td>\n",
       "      <td>4.997212</td>\n",
       "      <td>1.000000</td>\n",
       "      <td>1.500000</td>\n",
       "      <td>1.800000</td>\n",
       "      <td>1.300000</td>\n",
       "      <td>2.500000</td>\n",
       "      <td>1.000000</td>\n",
       "    </tr>\n",
       "    <tr>\n",
       "      <th>max</th>\n",
       "      <td>293.000000</td>\n",
       "      <td>4.343805</td>\n",
       "      <td>1.000000</td>\n",
       "      <td>4.000000</td>\n",
       "      <td>5.247024</td>\n",
       "      <td>6.092158</td>\n",
       "      <td>1.000000</td>\n",
       "      <td>2.000000</td>\n",
       "      <td>5.247024</td>\n",
       "      <td>1.000000</td>\n",
       "      <td>3.625000</td>\n",
       "      <td>3.000000</td>\n",
       "      <td>1.900000</td>\n",
       "      <td>2.900000</td>\n",
       "      <td>1.000000</td>\n",
       "    </tr>\n",
       "  </tbody>\n",
       "</table>\n",
       "</div>"
      ],
      "text/plain": [
       "               id         age         sex          cp    trestbps        chol  \\\n",
       "count  617.000000  617.000000  617.000000  617.000000  617.000000  617.000000   \n",
       "mean   114.220421    3.954888    0.842788    3.301459    4.876567        -inf   \n",
       "std     76.843512    0.189094    0.364296    0.899069    0.128958         NaN   \n",
       "min      0.000000    3.332205    0.000000    1.000000    4.382027        -inf   \n",
       "25%     51.000000    3.850148    1.000000    3.000000    4.787492    5.315174   \n",
       "50%    102.000000    3.988984    1.000000    4.000000    4.867534    5.438079   \n",
       "75%    169.000000    4.094345    1.000000    4.000000    4.941642    5.570632   \n",
       "max    293.000000    4.343805    1.000000    4.000000    5.247024    6.092158   \n",
       "\n",
       "              fbs     restecg     thalach       exang     oldpeak       slope  \\\n",
       "count  617.000000  617.000000  617.000000  617.000000  617.000000  617.000000   \n",
       "mean     0.201662    0.414229    4.852134    0.442460    0.821296    1.444136   \n",
       "std      0.352349    0.610128    0.189738    0.476106    0.954952    0.479962   \n",
       "min      0.000000    0.000000    4.094345    0.000000   -2.175000    0.300000   \n",
       "25%      0.000000    0.000000    4.753590    0.000000    0.000000    1.000000   \n",
       "50%      0.000000    0.000000    4.852030    0.000000    0.653846    1.500000   \n",
       "75%      0.300000    1.000000    4.997212    1.000000    1.500000    1.800000   \n",
       "max      1.000000    2.000000    5.247024    1.000000    3.625000    3.000000   \n",
       "\n",
       "               ca        thal      target  \n",
       "count  617.000000  617.000000  617.000000  \n",
       "mean     0.919530    2.313776    0.599676  \n",
       "std      0.471634    0.276319    0.490362  \n",
       "min      0.000000    1.600000    0.000000  \n",
       "25%      0.500000    2.100000    0.000000  \n",
       "50%      0.900000    2.300000    1.000000  \n",
       "75%      1.300000    2.500000    1.000000  \n",
       "max      1.900000    2.900000    1.000000  "
      ]
     },
     "execution_count": 8,
     "metadata": {},
     "output_type": "execute_result"
    }
   ],
   "source": [
    "data.describe()"
   ]
  },
  {
   "cell_type": "markdown",
   "id": "cada2edd",
   "metadata": {},
   "source": [
    "### Main Preprocessing 2"
   ]
  },
  {
   "cell_type": "code",
   "execution_count": 9,
   "id": "0c452142",
   "metadata": {},
   "outputs": [],
   "source": [
    "#Classification columns\n",
    "class_cols1=[\"sex\",\"target\",'cp',\"fbs\",\"exang\",\"restecg\",\"thal\",\"ca\",\"slope\"]\n",
    "class_data1=data1[class_cols]\n",
    "\n",
    "#Continuous columns\n",
    "continuous_cols1=[\"age\",\"trestbps\",\"chol\",\"thalach\",\"oldpeak\"]\n",
    "continuous_data1=data1[continuous_cols]"
   ]
  },
  {
   "cell_type": "code",
   "execution_count": 10,
   "id": "8cb57873",
   "metadata": {},
   "outputs": [
    {
     "name": "stdout",
     "output_type": "stream",
     "text": [
      "Column age outliers = 0 => 0.0%\n",
      "Column trestbps outliers = 24 => 4.188%\n",
      "Column chol outliers = 5 => 0.873%\n",
      "Column thalach outliers = 1 => 0.175%\n",
      "Column oldpeak outliers = 14 => 2.443%\n"
     ]
    }
   ],
   "source": [
    "for k, v in continuous_data1.items():\n",
    "        q1 = v.quantile(0.25)\n",
    "        q3 = v.quantile(0.75)\n",
    "        irq = q3 - q1\n",
    "        v_col = v[(v <= q1 - 1.5 * irq) | (v >= q3 + 1.5 * irq)]\n",
    "        perc = np.shape(v_col)[0] * 100.0 / np.shape(data1)[0]\n",
    "        print(\"Column {} outliers = {} => {}%\".format(k,len(v_col),round((perc),3)))"
   ]
  },
  {
   "cell_type": "code",
   "execution_count": 11,
   "id": "7c971a6f",
   "metadata": {},
   "outputs": [
    {
     "name": "stdout",
     "output_type": "stream",
     "text": [
      "---Log Transform performed---\n",
      "Column age outliers = 2 => 0.349%\n",
      "Column trestbps outliers = 4 => 0.698%\n",
      "Column chol outliers = 5 => 0.873%\n",
      "Column thalach outliers = 7 => 1.222%\n",
      "Column oldpeak outliers = 14 => 2.443%\n"
     ]
    }
   ],
   "source": [
    "#Using log transformation\n",
    "data1[\"age\"]= np.log(data1.age)\n",
    "data1[\"trestbps\"]= np.log(data1.trestbps)\n",
    "data1[\"chol\"]= np.log(data1.chol)\n",
    "data1[\"thalach\"]= np.log(data1.thalach)\n",
    "print(\"---Log Transform performed---\")\n",
    "\n",
    "#Outliners again\n",
    "continuous_cols1=[\"age\",\"trestbps\",\"chol\",\"thalach\",\"oldpeak\"]\n",
    "continuous_data1=data1[continuous_cols1]\n",
    "\n",
    "for k, v in continuous_data1.items():\n",
    "        q1 = v.quantile(0.25)\n",
    "        q3 = v.quantile(0.75)\n",
    "        irq = q3 - q1\n",
    "        v_col = v[(v <= q1 - 1.5 * irq) | (v >= q3 + 1.5 * irq)]\n",
    "        perc = np.shape(v_col)[0] * 100.0 / np.shape(data1)[0]\n",
    "        print(\"Column {} outliers = {} => {}%\".format(k,len(v_col),round((perc),3)))"
   ]
  },
  {
   "cell_type": "code",
   "execution_count": 12,
   "id": "78b57d1c",
   "metadata": {},
   "outputs": [
    {
     "name": "stderr",
     "output_type": "stream",
     "text": [
      "C:\\Users\\mahmu\\AppData\\Local\\Temp\\ipykernel_6928\\234181783.py:1: FutureWarning: The frame.append method is deprecated and will be removed from pandas in a future version. Use pandas.concat instead.\n",
      "  df = data.append(data1)\n"
     ]
    }
   ],
   "source": [
    "df = data.append(data1)"
   ]
  },
  {
   "cell_type": "markdown",
   "id": "66b66f30",
   "metadata": {},
   "source": [
    "# Train Test Split"
   ]
  },
  {
   "cell_type": "code",
   "execution_count": 13,
   "id": "e398eccb",
   "metadata": {},
   "outputs": [],
   "source": [
    "#Data Splitting\n",
    "from sklearn.model_selection import train_test_split\n",
    "#X=data.iloc[:,:13]\n",
    "X = df.drop(['target'], axis = 1)\n",
    "Y =df[\"target\"]\n"
   ]
  },
  {
   "cell_type": "code",
   "execution_count": 14,
   "id": "0042a678",
   "metadata": {},
   "outputs": [],
   "source": [
    "X = X[['age','cp', 'trestbps', 'thalach', 'oldpeak', 'slope', 'ca', 'thal']]\n",
    "# x_test = x_test[['age','cp', 'trestbps', 'thalach', 'oldpeak', 'slope', 'ca', 'thal']]"
   ]
  },
  {
   "cell_type": "code",
   "execution_count": 15,
   "id": "1ac7b90d",
   "metadata": {},
   "outputs": [
    {
     "name": "stdout",
     "output_type": "stream",
     "text": [
      "Before Counter({1.0: 655, 0.0: 535})\n",
      "After Counter({0.0: 655, 1.0: 655})\n"
     ]
    }
   ],
   "source": [
    "from collections import Counter\n",
    "from imblearn.over_sampling import SMOTE\n",
    "counter = Counter(Y)\n",
    "print('Before', counter)\n",
    "smt = SMOTE()\n",
    "X,Y = smt.fit_resample(X,Y)\n",
    "counter = Counter(Y)\n",
    "print('After', counter)"
   ]
  },
  {
   "cell_type": "code",
   "execution_count": 16,
   "id": "0fdaaa65",
   "metadata": {},
   "outputs": [],
   "source": [
    "from sklearn.preprocessing import StandardScaler\n",
    "\n",
    "ss = StandardScaler()\n",
    "X = ss.fit_transform(X)\n",
    "\n",
    "ss = StandardScaler()\n",
    "X = ss.fit_transform(X)"
   ]
  },
  {
   "cell_type": "code",
   "execution_count": 17,
   "id": "ab633211",
   "metadata": {},
   "outputs": [],
   "source": [
    "from sklearn.preprocessing import MinMaxScaler\n",
    "scaler = MinMaxScaler()\n",
    "\n",
    "X = scaler.fit_transform(X)"
   ]
  },
  {
   "cell_type": "code",
   "execution_count": 18,
   "id": "32f164a3",
   "metadata": {},
   "outputs": [],
   "source": [
    "x_train, x_test, y_train, y_test = train_test_split(X, Y, test_size = 0.2) # 80% training and 20% test"
   ]
  },
  {
   "cell_type": "code",
   "execution_count": 19,
   "id": "bdd40d69",
   "metadata": {},
   "outputs": [],
   "source": [
    "metrics = [\"Accuracy\", \"Precision\", \"Recall\", \"F1 Score\", \"Specificity\", \"Cohen Kappa\", \"AUC\"]\n",
    "\n",
    "performance_dict = {}\n",
    "performance_dict['Metrics'] = metrics"
   ]
  },
  {
   "cell_type": "markdown",
   "id": "f4ef41cb",
   "metadata": {},
   "source": [
    "# Support Vector Classifier Train, Test "
   ]
  },
  {
   "cell_type": "code",
   "execution_count": 20,
   "id": "1b42ba63",
   "metadata": {},
   "outputs": [
    {
     "name": "stdout",
     "output_type": "stream",
     "text": [
      "0.8053435114503816\n",
      "[[ 98  28]\n",
      " [ 23 113]]\n",
      "              precision    recall  f1-score   support\n",
      "\n",
      "         0.0       0.81      0.78      0.79       126\n",
      "         1.0       0.80      0.83      0.82       136\n",
      "\n",
      "    accuracy                           0.81       262\n",
      "   macro avg       0.81      0.80      0.80       262\n",
      "weighted avg       0.81      0.81      0.81       262\n",
      "\n"
     ]
    }
   ],
   "source": [
    "from sklearn.svm import SVC\n",
    "from sklearn.metrics import accuracy_score\n",
    "modelSVC = SVC(probability=True)\n",
    "modelSVC.fit(x_train, y_train)\n",
    "#modelSVC.fit(x_test, y_test)\n",
    "#print(modelSVC.score(x_test, y_test))\n",
    "\n",
    "y_pred = modelSVC.predict(x_test)\n",
    "#y_pred = modelSVC.predict(x_train)\n",
    "svc_acc = accuracy_score(y_test, y_pred)\n",
    "#ac = accuracy_score(y_train, y_pred)\n",
    "print(svc_acc)\n",
    "\n",
    "from sklearn.metrics import confusion_matrix\n",
    "from sklearn.metrics import classification_report\n",
    "\n",
    "y_pred = modelSVC.predict(x_test)\n",
    "print(confusion_matrix(y_test, y_pred))\n",
    "print(classification_report(y_test, y_pred))\n",
    "\n",
    "\n",
    "\n"
   ]
  },
  {
   "cell_type": "markdown",
   "id": "f57101df",
   "metadata": {},
   "source": [
    "# Performance Measure of SVC"
   ]
  },
  {
   "cell_type": "code",
   "execution_count": 21,
   "id": "9213e825",
   "metadata": {},
   "outputs": [
    {
     "name": "stdout",
     "output_type": "stream",
     "text": [
      "[[ 98  28]\n",
      " [ 23 113]]\n",
      "              precision    recall  f1-score   support\n",
      "\n",
      "         0.0       0.81      0.78      0.79       126\n",
      "         1.0       0.80      0.83      0.82       136\n",
      "\n",
      "    accuracy                           0.81       262\n",
      "   macro avg       0.81      0.80      0.80       262\n",
      "weighted avg       0.81      0.81      0.81       262\n",
      "\n"
     ]
    }
   ],
   "source": [
    "from sklearn.metrics import confusion_matrix\n",
    "from sklearn.metrics import classification_report\n",
    "\n",
    "y_pred = modelSVC.predict(x_test)\n",
    "print(confusion_matrix(y_test, y_pred))\n",
    "print(classification_report(y_test, y_pred))"
   ]
  },
  {
   "cell_type": "code",
   "execution_count": 22,
   "id": "9da7b475",
   "metadata": {},
   "outputs": [
    {
     "name": "stdout",
     "output_type": "stream",
     "text": [
      "Precision  0.805505704497244\n",
      "f1 Score  0.8051301315903835\n",
      "Recall  0.8053435114503816\n",
      "Specificity/TNR: 0.7777777777777778\n",
      "Cohen Kappa: 0.6095494126585237\n",
      "AUC Score  0.872140522875817\n"
     ]
    }
   ],
   "source": [
    "from sklearn.metrics import cohen_kappa_score, f1_score, precision_score, recall_score, roc_auc_score\n",
    "\n",
    "cmSVC = confusion_matrix(y_test, modelSVC.predict(x_test))\n",
    "\n",
    "#If we use TP TN FP and FN of below's comment we get range\n",
    "#FP = cmSVC.sum(axis=0) - np.diag(cmSVC)  \n",
    "#FN = cmSVC.sum(axis=1) - np.diag(cmSVC)\n",
    "#TP = np.diag(cmSVC)\n",
    "#TN = cmSVC.sum() - (FP + FN + TP)\n",
    "\n",
    "TP = cmSVC[1,1]  \n",
    "TN = cmSVC[0,0] \n",
    "FP = cmSVC[0,1] \n",
    "FN = cmSVC[1,0] \n",
    "\n",
    "# Sensitivity, hit rate, recall, or true positive rate\n",
    "TPR = TP/float(TP+FN)\n",
    "# Specificity or true negative rate\n",
    "TNR = TN/float(TN+FP) \n",
    "# Precision or positive predictive value\n",
    "PPV = TP/float(TP+FP)\n",
    "# Negative predictive value\n",
    "NPV = TN/float(TN+FN)\n",
    "# Fall out or false positive rate\n",
    "FPR = FP/float(FP+TN)\n",
    "# False negative rate\n",
    "FNR = FN/float(TP+FN)\n",
    "# False discovery rate\n",
    "FDR = FP/float(TP+FP)\n",
    "totalSVC=sum(sum(cmSVC))\n",
    "Accuracy = (TN+TP)/totalSVC\n",
    "# MCC\n",
    "val = (TP * TN) - (FP * FN)\n",
    "MCC_SVC = val / np.sqrt((TP + FP) * (TP + FN) * (TN + FP) * (TN + FN))\n",
    "\n",
    "\n",
    "\n",
    "Y_pred = modelSVC.predict(x_test)\n",
    "\n",
    "\n",
    "cohen_score = cohen_kappa_score(y_test, Y_pred)\n",
    "f1 = f1_score(y_test, y_pred, average = \"weighted\")\n",
    "precision = precision_score(y_test, y_pred, average = \"weighted\")\n",
    "recall = recall_score(y_test, y_pred, average = \"weighted\")\n",
    "\n",
    "pred_prob = modelSVC.predict_proba(x_test)\n",
    "auc_score = roc_auc_score(y_test, pred_prob[:,1])\n",
    "\n",
    "print(f\"Precision  {precision}\")\n",
    "print(f\"f1 Score  {f1}\")\n",
    "print(f\"Recall  {recall}\")\n",
    "specificity = TNR\n",
    "print(\"Specificity/TNR: \" + str(TNR))\n",
    "\n",
    "print(\"Cohen Kappa: \" + str(cohen_score))\n",
    "print(f\"AUC Score  {auc_score}\")"
   ]
  },
  {
   "cell_type": "code",
   "execution_count": 23,
   "id": "783bb874",
   "metadata": {},
   "outputs": [
    {
     "data": {
      "text/plain": [
       "{'Metrics': ['Accuracy',\n",
       "  'Precision',\n",
       "  'Recall',\n",
       "  'F1 Score',\n",
       "  'Specificity',\n",
       "  'Cohen Kappa',\n",
       "  'AUC'],\n",
       " 'SVC': [0.8053435114503816,\n",
       "  0.805505704497244,\n",
       "  0.8053435114503816,\n",
       "  0.8051301315903835,\n",
       "  0.7777777777777778,\n",
       "  0.6095494126585237,\n",
       "  0.872140522875817]}"
      ]
     },
     "execution_count": 23,
     "metadata": {},
     "output_type": "execute_result"
    }
   ],
   "source": [
    "# metrics = [\"Accuracy\", \"Precision\", \"Recall\", \"F1 Score\", \"Specificity\", \"Cohen Kappa\", \"AUC\"]\n",
    "svc_performances = [svc_acc, precision, recall, f1, specificity, cohen_score, auc_score ]\n",
    "performance_dict['SVC'] = svc_performances\n",
    "\n",
    "performance_dict"
   ]
  },
  {
   "cell_type": "markdown",
   "id": "c90e5fd1",
   "metadata": {},
   "source": [
    "# Decision Tree Classifier Train, Test"
   ]
  },
  {
   "cell_type": "code",
   "execution_count": 24,
   "id": "9eb57f0d",
   "metadata": {},
   "outputs": [
    {
     "name": "stdout",
     "output_type": "stream",
     "text": [
      "0.7748091603053435\n",
      "0.7748091603053435\n"
     ]
    }
   ],
   "source": [
    "from sklearn import tree\n",
    "from sklearn.metrics import accuracy_score\n",
    "\n",
    "modelDTC = tree.DecisionTreeClassifier()\n",
    "modelDTC.fit(x_train, y_train)\n",
    "print(modelDTC.score(x_test, y_test))\n",
    "\n",
    "# Predicting the Test set results\n",
    "y_pred = modelDTC.predict(x_test)\n",
    "ac = accuracy_score(y_test, y_pred)\n",
    "print(ac)"
   ]
  },
  {
   "cell_type": "markdown",
   "id": "c1ad31be",
   "metadata": {},
   "source": [
    "# Performance Measure of DTC"
   ]
  },
  {
   "cell_type": "code",
   "execution_count": 25,
   "id": "e33cee49",
   "metadata": {},
   "outputs": [
    {
     "name": "stdout",
     "output_type": "stream",
     "text": [
      "[[ 97  29]\n",
      " [ 30 106]]\n",
      "              precision    recall  f1-score   support\n",
      "\n",
      "         0.0       0.76      0.77      0.77       126\n",
      "         1.0       0.79      0.78      0.78       136\n",
      "\n",
      "    accuracy                           0.77       262\n",
      "   macro avg       0.77      0.77      0.77       262\n",
      "weighted avg       0.77      0.77      0.77       262\n",
      "\n"
     ]
    }
   ],
   "source": [
    "from sklearn.metrics import confusion_matrix\n",
    "from sklearn.metrics import classification_report\n",
    "\n",
    "y_pred = modelDTC.predict(x_test)\n",
    "print(confusion_matrix(y_test, y_pred))\n",
    "print(classification_report(y_test, y_pred))"
   ]
  },
  {
   "cell_type": "code",
   "execution_count": 26,
   "id": "3cb351b8",
   "metadata": {},
   "outputs": [
    {
     "name": "stdout",
     "output_type": "stream",
     "text": [
      "Precision  0.7748908612886494\n",
      "f1 Score  0.7748387202364617\n",
      "Recall  0.7748091603053435\n",
      "Specificity/TNR: 0.7698412698412699\n",
      "Cohen Kappa: 0.5490928183886588\n",
      "AUC Score  0.7746265172735761\n"
     ]
    }
   ],
   "source": [
    "from sklearn.metrics import cohen_kappa_score\n",
    "cmDTC = confusion_matrix(y_test, modelDTC.predict(x_test))\n",
    "\n",
    "#If we use TP TN FP and FN of below's comment we get range\n",
    "#FP = cmSVC.sum(axis=0) - np.diag(cmSVC)  \n",
    "#FN = cmSVC.sum(axis=1) - np.diag(cmSVC)\n",
    "#TP = np.diag(cmSVC)\n",
    "#TN = cmSVC.sum() - (FP + FN + TP)\n",
    "\n",
    "TP = cmDTC[1,1]  \n",
    "TN = cmDTC[0,0] \n",
    "FP = cmDTC[0,1] \n",
    "FN = cmDTC[1,0] \n",
    "\n",
    "# Sensitivity, hit rate, recall, or true positive rate\n",
    "TPR = TP/float(TP+FN)\n",
    "# Specificity or true negative rate\n",
    "TNR = TN/float(TN+FP) \n",
    "# Precision or positive predictive value\n",
    "PPV = TP/float(TP+FP)\n",
    "# Negative predictive value\n",
    "NPV = TN/float(TN+FN)\n",
    "# Fall out or false positive rate\n",
    "FPR = FP/float(FP+TN)\n",
    "# False negative rate\n",
    "FNR = FN/float(TP+FN)\n",
    "# False discovery rate\n",
    "FDR = FP/float(TP+FP)\n",
    "# Accuracy\n",
    "totalDTC=sum(sum(cmDTC))\n",
    "Accuracy = (TN+TP)/totalDTC\n",
    "# MCC\n",
    "val = (TP * TN) - (FP * FN)\n",
    "MCC_DTC = val / np.sqrt((TP + FP) * (TP + FN) * (TN + FP) * (TN + FN))\n",
    "# Cohen Kappa\n",
    "Y_pred = modelDTC.predict(x_test)\n",
    "pred_prob = modelDTC.predict_proba(x_test)\n",
    "\n",
    "\n",
    "cohen_score = cohen_kappa_score(y_test, Y_pred)\n",
    "f1 = f1_score(y_test, y_pred, average = \"weighted\")\n",
    "precision = precision_score(y_test, y_pred, average = \"weighted\")\n",
    "recall = recall_score(y_test, y_pred, average = \"weighted\")\n",
    "\n",
    "\n",
    "auc_score = roc_auc_score(y_test, pred_prob[:,1])\n",
    "\n",
    "print(f\"Precision  {precision}\")\n",
    "print(f\"f1 Score  {f1}\")\n",
    "print(f\"Recall  {recall}\")\n",
    "specificity = TNR\n",
    "print(\"Specificity/TNR: \" + str(TNR))\n",
    "\n",
    "print(\"Cohen Kappa: \" + str(cohen_score))\n",
    "print(f\"AUC Score  {auc_score}\")"
   ]
  },
  {
   "cell_type": "code",
   "execution_count": 27,
   "id": "47486cec",
   "metadata": {},
   "outputs": [
    {
     "data": {
      "text/plain": [
       "{'Metrics': ['Accuracy',\n",
       "  'Precision',\n",
       "  'Recall',\n",
       "  'F1 Score',\n",
       "  'Specificity',\n",
       "  'Cohen Kappa',\n",
       "  'AUC'],\n",
       " 'SVC': [0.8053435114503816,\n",
       "  0.805505704497244,\n",
       "  0.8053435114503816,\n",
       "  0.8051301315903835,\n",
       "  0.7777777777777778,\n",
       "  0.6095494126585237,\n",
       "  0.872140522875817],\n",
       " 'DT': [0.7748091603053435,\n",
       "  0.7748908612886494,\n",
       "  0.7748091603053435,\n",
       "  0.7748387202364617,\n",
       "  0.7698412698412699,\n",
       "  0.5490928183886588,\n",
       "  0.7746265172735761]}"
      ]
     },
     "execution_count": 27,
     "metadata": {},
     "output_type": "execute_result"
    }
   ],
   "source": [
    "# metrics = [\"Accuracy\", \"Precision\", \"Recall\", \"F1 Score\", \"Specificity\", \"Cohen Kappa\", \"AUC\"]\n",
    "dtc_performances = [ac, precision, recall, f1, specificity, cohen_score, auc_score ]\n",
    "performance_dict['DT'] = dtc_performances\n",
    "\n",
    "performance_dict"
   ]
  },
  {
   "cell_type": "markdown",
   "id": "eb87d96b",
   "metadata": {},
   "source": [
    "# Random Forest Classifier Train, Test"
   ]
  },
  {
   "cell_type": "code",
   "execution_count": 28,
   "id": "03a581f4",
   "metadata": {},
   "outputs": [
    {
     "name": "stdout",
     "output_type": "stream",
     "text": [
      "0.8435114503816794\n",
      "0.8435114503816794\n"
     ]
    }
   ],
   "source": [
    "from sklearn import ensemble\n",
    "from sklearn.metrics import accuracy_score\n",
    "\n",
    "modelRFC = ensemble.RandomForestClassifier(n_estimators = 100) # by default n_estimators = 100\n",
    "modelRFC.fit(x_train, y_train)\n",
    "print(modelRFC.score(x_test, y_test))\n",
    "\n",
    "\n",
    "# Predicting the Test set results\n",
    "y_pred = modelRFC.predict(x_test)\n",
    "ac = accuracy_score(y_test, y_pred)\n",
    "print(ac)"
   ]
  },
  {
   "cell_type": "markdown",
   "id": "15d6e466",
   "metadata": {},
   "source": [
    "# Performance Measure of RFC"
   ]
  },
  {
   "cell_type": "code",
   "execution_count": 29,
   "id": "d58784f2",
   "metadata": {},
   "outputs": [
    {
     "name": "stdout",
     "output_type": "stream",
     "text": [
      "[[107  19]\n",
      " [ 22 114]]\n",
      "              precision    recall  f1-score   support\n",
      "\n",
      "         0.0       0.83      0.85      0.84       126\n",
      "         1.0       0.86      0.84      0.85       136\n",
      "\n",
      "    accuracy                           0.84       262\n",
      "   macro avg       0.84      0.84      0.84       262\n",
      "weighted avg       0.84      0.84      0.84       262\n",
      "\n"
     ]
    }
   ],
   "source": [
    "from sklearn.metrics import confusion_matrix\n",
    "from sklearn.metrics import classification_report\n",
    "\n",
    "y_pred = modelRFC.predict(x_test)\n",
    "print(confusion_matrix(y_test, y_pred))\n",
    "print(classification_report(y_test, y_pred))"
   ]
  },
  {
   "cell_type": "code",
   "execution_count": 30,
   "id": "78df7965",
   "metadata": {},
   "outputs": [
    {
     "name": "stdout",
     "output_type": "stream",
     "text": [
      "Precision  0.8438284598412416\n",
      "f1 Score  0.8435593585315735\n",
      "Recall  0.8435114503816794\n",
      "Specificity/TNR: 0.8492063492063492\n",
      "Cohen Kappa: 0.6868404174683692\n",
      "AUC Score  0.9197012138188609\n"
     ]
    }
   ],
   "source": [
    "from sklearn.metrics import cohen_kappa_score\n",
    "cmRFC = confusion_matrix(y_test, modelRFC.predict(x_test))\n",
    "\n",
    "#If we use TP TN FP and FN of below's comment we get range\n",
    "#FP = cmSVC.sum(axis=0) - np.diag(cmSVC)  \n",
    "#FN = cmSVC.sum(axis=1) - np.diag(cmSVC)\n",
    "#TP = np.diag(cmSVC)\n",
    "#TN = cmSVC.sum() - (FP + FN + TP)\n",
    "\n",
    "TP = cmRFC[1,1]  \n",
    "TN = cmRFC[0,0] \n",
    "FP = cmRFC[0,1] \n",
    "FN = cmRFC[1,0] \n",
    "\n",
    "# Sensitivity, hit rate, recall, or true positive rate\n",
    "TPR = TP/float(TP+FN)\n",
    "# Specificity or true negative rate\n",
    "TNR = TN/float(TN+FP) \n",
    "# Precision or positive predictive value\n",
    "PPV = TP/float(TP+FP)\n",
    "# Negative predictive value\n",
    "NPV = TN/float(TN+FN)\n",
    "# Fall out or false positive rate\n",
    "FPR = FP/float(FP+TN)\n",
    "# False negative rate\n",
    "FNR = FN/float(TP+FN)\n",
    "# False discovery rate\n",
    "FDR = FP/float(TP+FP)\n",
    "# Accuracy\n",
    "totalRFC=sum(sum(cmRFC))\n",
    "Accuracy = (TN+TP)/totalRFC\n",
    "# MCC\n",
    "val = (TP * TN) - (FP * FN)\n",
    "MCC_RFC = val / np.sqrt((TP + FP) * (TP + FN) * (TN + FP) * (TN + FN))\n",
    "# Cohen Kappa\n",
    "Y_pred = modelRFC.predict(x_test)\n",
    "pred_prob = modelRFC.predict_proba(x_test)\n",
    "\n",
    "\n",
    "cohen_score = cohen_kappa_score(y_test, Y_pred)\n",
    "f1 = f1_score(y_test, y_pred, average = \"weighted\")\n",
    "precision = precision_score(y_test, y_pred, average = \"weighted\")\n",
    "recall = recall_score(y_test, y_pred, average = \"weighted\")\n",
    "\n",
    "\n",
    "auc_score = roc_auc_score(y_test, pred_prob[:,1])\n",
    "\n",
    "print(f\"Precision  {precision}\")\n",
    "print(f\"f1 Score  {f1}\")\n",
    "print(f\"Recall  {recall}\")\n",
    "specificity = TNR\n",
    "print(\"Specificity/TNR: \" + str(TNR))\n",
    "\n",
    "print(\"Cohen Kappa: \" + str(cohen_score))\n",
    "print(f\"AUC Score  {auc_score}\")"
   ]
  },
  {
   "cell_type": "code",
   "execution_count": 31,
   "id": "2c7ff6fe",
   "metadata": {},
   "outputs": [
    {
     "data": {
      "text/plain": [
       "{'Metrics': ['Accuracy',\n",
       "  'Precision',\n",
       "  'Recall',\n",
       "  'F1 Score',\n",
       "  'Specificity',\n",
       "  'Cohen Kappa',\n",
       "  'AUC'],\n",
       " 'SVC': [0.8053435114503816,\n",
       "  0.805505704497244,\n",
       "  0.8053435114503816,\n",
       "  0.8051301315903835,\n",
       "  0.7777777777777778,\n",
       "  0.6095494126585237,\n",
       "  0.872140522875817],\n",
       " 'DT': [0.7748091603053435,\n",
       "  0.7748908612886494,\n",
       "  0.7748091603053435,\n",
       "  0.7748387202364617,\n",
       "  0.7698412698412699,\n",
       "  0.5490928183886588,\n",
       "  0.7746265172735761],\n",
       " 'RF': [0.8435114503816794,\n",
       "  0.8438284598412416,\n",
       "  0.8435114503816794,\n",
       "  0.8435593585315735,\n",
       "  0.8492063492063492,\n",
       "  0.6868404174683692,\n",
       "  0.9197012138188609]}"
      ]
     },
     "execution_count": 31,
     "metadata": {},
     "output_type": "execute_result"
    }
   ],
   "source": [
    "# metrics = [\"Accuracy\", \"Precision\", \"Recall\", \"F1 Score\", \"Specificity\", \"Cohen Kappa\", \"AUC\"]\n",
    "rfc_performances = [ac, precision, recall, f1, specificity, cohen_score, auc_score ]\n",
    "performance_dict['RF'] = rfc_performances\n",
    "\n",
    "performance_dict"
   ]
  },
  {
   "cell_type": "markdown",
   "id": "9daddb53",
   "metadata": {},
   "source": [
    "### XGBoost"
   ]
  },
  {
   "cell_type": "code",
   "execution_count": 32,
   "id": "dfb47890",
   "metadata": {},
   "outputs": [
    {
     "name": "stdout",
     "output_type": "stream",
     "text": [
      "Testing 0.851145038167939\n"
     ]
    },
    {
     "data": {
      "text/plain": [
       "array([[109,  17],\n",
       "       [ 22, 114]], dtype=int64)"
      ]
     },
     "execution_count": 32,
     "metadata": {},
     "output_type": "execute_result"
    }
   ],
   "source": [
    "# Training the Naive Bayes model on the Training set\n",
    "import xgboost as xgb\n",
    "from sklearn.metrics import accuracy_score\n",
    "\n",
    "modelXGB = xgb.XGBClassifier()\n",
    "\n",
    "modelXGB.fit(x_train, y_train)\n",
    "#print('Training',modelXGB.score(x_train, y_train))\n",
    "# Predicting the Test set results\n",
    "y_pred = modelXGB.predict(x_test)\n",
    "ac = accuracy_score(y_test, y_pred)\n",
    "print('Testing',ac)\n",
    "cmXGB = confusion_matrix(y_test, y_pred)\n",
    "cmXGB"
   ]
  },
  {
   "cell_type": "code",
   "execution_count": 33,
   "id": "9cc1d215",
   "metadata": {},
   "outputs": [
    {
     "name": "stdout",
     "output_type": "stream",
     "text": [
      "[[109  17]\n",
      " [ 22 114]]\n",
      "              precision    recall  f1-score   support\n",
      "\n",
      "         0.0       0.83      0.87      0.85       126\n",
      "         1.0       0.87      0.84      0.85       136\n",
      "\n",
      "    accuracy                           0.85       262\n",
      "   macro avg       0.85      0.85      0.85       262\n",
      "weighted avg       0.85      0.85      0.85       262\n",
      "\n"
     ]
    }
   ],
   "source": [
    "from sklearn.metrics import confusion_matrix\n",
    "from sklearn.metrics import classification_report\n",
    "\n",
    "y_pred = modelXGB.predict(x_test)\n",
    "print(confusion_matrix(y_test, y_pred))\n",
    "print(classification_report(y_test, y_pred))"
   ]
  },
  {
   "cell_type": "code",
   "execution_count": 34,
   "id": "b3a64ed3",
   "metadata": {},
   "outputs": [
    {
     "name": "stdout",
     "output_type": "stream",
     "text": [
      "Precision  0.8518734339490707\n",
      "f1 Score  0.8511992705823693\n",
      "Recall  0.851145038167939\n",
      "Specificity/TNR: 0.8650793650793651\n",
      "Cohen Kappa: 0.7022900763358779\n",
      "AUC Score  0.9064542483660131\n"
     ]
    }
   ],
   "source": [
    "from sklearn.metrics import cohen_kappa_score\n",
    "cmXNB = confusion_matrix(y_test, modelXGB.predict(x_test))\n",
    "\n",
    "#If we use TP TN FP and FN of below's comment we get range\n",
    "#FP = cmSVC.sum(axis=0) - np.diag(cmSVC)  \n",
    "#FN = cmSVC.sum(axis=1) - np.diag(cmSVC)\n",
    "#TP = np.diag(cmSVC)\n",
    "#TN = cmSVC.sum() - (FP + FN + TP)\n",
    "\n",
    "TP = cmXGB[1,1]  \n",
    "TN = cmXGB[0,0] \n",
    "FP = cmXGB[0,1] \n",
    "FN = cmXGB[1,0] \n",
    "\n",
    "# Sensitivity, hit rate, recall, or true positive rate\n",
    "TPR = TP/float(TP+FN)\n",
    "# Specificity or true negative rate\n",
    "TNR = TN/float(TN+FP) \n",
    "# Precision or positive predictive value\n",
    "PPV = TP/float(TP+FP)\n",
    "# Negative predictive value\n",
    "NPV = TN/float(TN+FN)\n",
    "# Fall out or false positive rate\n",
    "FPR = FP/float(FP+TN)\n",
    "# False negative rate\n",
    "FNR = FN/float(TP+FN)\n",
    "# False discovery rate\n",
    "FDR = FP/float(TP+FP)\n",
    "# Accuracy\n",
    "totalXGB=sum(sum(cmXGB))\n",
    "Accuracy = (TN+TP)/totalXGB\n",
    "# MCC\n",
    "val = (TP * TN) - (FP * FN)\n",
    "MCC_XGB = val / np.sqrt((TP + FP) * (TP + FN) * (TN + FP) * (TN + FN))\n",
    "# Cohen Kappa\n",
    "Y_pred = modelXGB.predict(x_test)\n",
    "\n",
    "\n",
    "pred_prob = modelXGB.predict_proba(x_test)\n",
    "\n",
    "\n",
    "cohen_score = cohen_kappa_score(y_test, Y_pred)\n",
    "f1 = f1_score(y_test, y_pred, average = \"weighted\")\n",
    "precision = precision_score(y_test, y_pred, average = \"weighted\")\n",
    "recall = recall_score(y_test, y_pred, average = \"weighted\")\n",
    "\n",
    "\n",
    "auc_score = roc_auc_score(y_test, pred_prob[:,1])\n",
    "\n",
    "print(f\"Precision  {precision}\")\n",
    "print(f\"f1 Score  {f1}\")\n",
    "print(f\"Recall  {recall}\")\n",
    "specificity = TNR\n",
    "print(\"Specificity/TNR: \" + str(TNR))\n",
    "\n",
    "print(\"Cohen Kappa: \" + str(cohen_score))\n",
    "print(f\"AUC Score  {auc_score}\")"
   ]
  },
  {
   "cell_type": "code",
   "execution_count": 35,
   "id": "37bd9986",
   "metadata": {},
   "outputs": [
    {
     "data": {
      "text/plain": [
       "{'Metrics': ['Accuracy',\n",
       "  'Precision',\n",
       "  'Recall',\n",
       "  'F1 Score',\n",
       "  'Specificity',\n",
       "  'Cohen Kappa',\n",
       "  'AUC'],\n",
       " 'SVC': [0.8053435114503816,\n",
       "  0.805505704497244,\n",
       "  0.8053435114503816,\n",
       "  0.8051301315903835,\n",
       "  0.7777777777777778,\n",
       "  0.6095494126585237,\n",
       "  0.872140522875817],\n",
       " 'DT': [0.7748091603053435,\n",
       "  0.7748908612886494,\n",
       "  0.7748091603053435,\n",
       "  0.7748387202364617,\n",
       "  0.7698412698412699,\n",
       "  0.5490928183886588,\n",
       "  0.7746265172735761],\n",
       " 'RF': [0.8435114503816794,\n",
       "  0.8438284598412416,\n",
       "  0.8435114503816794,\n",
       "  0.8435593585315735,\n",
       "  0.8492063492063492,\n",
       "  0.6868404174683692,\n",
       "  0.9197012138188609],\n",
       " 'XGB': [0.851145038167939,\n",
       "  0.8518734339490707,\n",
       "  0.851145038167939,\n",
       "  0.8511992705823693,\n",
       "  0.8650793650793651,\n",
       "  0.7022900763358779,\n",
       "  0.9064542483660131]}"
      ]
     },
     "execution_count": 35,
     "metadata": {},
     "output_type": "execute_result"
    }
   ],
   "source": [
    "# metrics = [\"Accuracy\", \"Precision\", \"Recall\", \"F1 Score\", \"Specificity\", \"Cohen Kappa\", \"AUC\"]\n",
    "xgb_performances = [ac, precision, recall, f1, specificity, cohen_score, auc_score ]\n",
    "performance_dict['XGB'] = xgb_performances\n",
    "\n",
    "performance_dict"
   ]
  },
  {
   "cell_type": "markdown",
   "id": "09450179",
   "metadata": {},
   "source": [
    "# Logistic Regression Train, Test"
   ]
  },
  {
   "cell_type": "code",
   "execution_count": 36,
   "id": "453e610a",
   "metadata": {},
   "outputs": [
    {
     "name": "stdout",
     "output_type": "stream",
     "text": [
      "0.6755725190839694\n",
      "0.6755725190839694\n"
     ]
    }
   ],
   "source": [
    "from sklearn.linear_model import LogisticRegression\n",
    "from sklearn.metrics import accuracy_score\n",
    "\n",
    "modelLR = LogisticRegression()\n",
    "modelLR.fit(x_train, y_train)\n",
    "print(modelLR.score(x_test, y_test))\n",
    "\n",
    "\n",
    "# Predicting the Test set results\n",
    "y_pred = modelLR.predict(x_test)\n",
    "ac = accuracy_score(y_test, y_pred)\n",
    "print(ac)"
   ]
  },
  {
   "cell_type": "markdown",
   "id": "3a30afaa",
   "metadata": {},
   "source": [
    "# Performance Measure of LR"
   ]
  },
  {
   "cell_type": "code",
   "execution_count": 37,
   "id": "d49aa596",
   "metadata": {},
   "outputs": [
    {
     "name": "stdout",
     "output_type": "stream",
     "text": [
      "[[84 42]\n",
      " [43 93]]\n",
      "              precision    recall  f1-score   support\n",
      "\n",
      "         0.0       0.66      0.67      0.66       126\n",
      "         1.0       0.69      0.68      0.69       136\n",
      "\n",
      "    accuracy                           0.68       262\n",
      "   macro avg       0.68      0.68      0.68       262\n",
      "weighted avg       0.68      0.68      0.68       262\n",
      "\n"
     ]
    }
   ],
   "source": [
    "from sklearn.metrics import confusion_matrix\n",
    "from sklearn.metrics import classification_report\n",
    "\n",
    "y_pred = modelLR.predict(x_test)\n",
    "print(confusion_matrix(y_test, y_pred))\n",
    "print(classification_report(y_test, y_pred))"
   ]
  },
  {
   "cell_type": "code",
   "execution_count": 38,
   "id": "444dc4e2",
   "metadata": {},
   "outputs": [
    {
     "name": "stdout",
     "output_type": "stream",
     "text": [
      "Precision  0.6756773723895201\n",
      "f1 Score  0.6756151054254108\n",
      "Recall  0.6755725190839694\n",
      "Specificity/TNR: 0.6666666666666666\n",
      "Cohen Kappa: 0.3503879586955254\n",
      "AUC Score  0.7237978524743232\n"
     ]
    }
   ],
   "source": [
    "from sklearn.metrics import cohen_kappa_score\n",
    "cmLR = confusion_matrix(y_test, modelLR.predict(x_test))\n",
    "\n",
    "#If we use TP TN FP and FN of below's comment we get range\n",
    "#FP = cmSVC.sum(axis=0) - np.diag(cmSVC)  \n",
    "#FN = cmSVC.sum(axis=1) - np.diag(cmSVC)\n",
    "#TP = np.diag(cmSVC)\n",
    "#TN = cmSVC.sum() - (FP + FN + TP)\n",
    "\n",
    "TP = cmLR[1,1]  \n",
    "TN = cmLR[0,0] \n",
    "FP = cmLR[0,1] \n",
    "FN = cmLR[1,0] \n",
    "\n",
    "# Sensitivity, hit rate, recall, or true positive rate\n",
    "TPR = TP/float(TP+FN)\n",
    "# Specificity or true negative rate\n",
    "TNR = TN/float(TN+FP) \n",
    "# Precision or positive predictive value\n",
    "PPV = TP/float(TP+FP)\n",
    "# Negative predictive value\n",
    "NPV = TN/float(TN+FN)\n",
    "# Fall out or false positive rate\n",
    "FPR = FP/float(FP+TN)\n",
    "# False negative rate\n",
    "FNR = FN/float(TP+FN)\n",
    "# False discovery rate\n",
    "FDR = FP/float(TP+FP)\n",
    "# Accuracy\n",
    "totalLR=sum(sum(cmLR))\n",
    "Accuracy = (TN+TP)/totalLR\n",
    "# MCC\n",
    "val = (TP * TN) - (FP * FN)\n",
    "MCC_LR = val / np.sqrt((TP + FP) * (TP + FN) * (TN + FP) * (TN + FN))\n",
    "# Cohen Kappa\n",
    "Y_pred = modelLR.predict(x_test)\n",
    "pred_prob = modelLR.predict_proba(x_test)\n",
    "\n",
    "\n",
    "cohen_score = cohen_kappa_score(y_test, Y_pred)\n",
    "f1 = f1_score(y_test, y_pred, average = \"weighted\")\n",
    "precision = precision_score(y_test, y_pred, average = \"weighted\")\n",
    "recall = recall_score(y_test, y_pred, average = \"weighted\")\n",
    "\n",
    "\n",
    "auc_score = roc_auc_score(y_test, pred_prob[:,1])\n",
    "\n",
    "print(f\"Precision  {precision}\")\n",
    "print(f\"f1 Score  {f1}\")\n",
    "print(f\"Recall  {recall}\")\n",
    "specificity = TNR\n",
    "print(\"Specificity/TNR: \" + str(TNR))\n",
    "\n",
    "print(\"Cohen Kappa: \" + str(cohen_score))\n",
    "print(f\"AUC Score  {auc_score}\")"
   ]
  },
  {
   "cell_type": "code",
   "execution_count": 39,
   "id": "4c7c6c81",
   "metadata": {},
   "outputs": [
    {
     "data": {
      "text/plain": [
       "{'Metrics': ['Accuracy',\n",
       "  'Precision',\n",
       "  'Recall',\n",
       "  'F1 Score',\n",
       "  'Specificity',\n",
       "  'Cohen Kappa',\n",
       "  'AUC'],\n",
       " 'SVC': [0.8053435114503816,\n",
       "  0.805505704497244,\n",
       "  0.8053435114503816,\n",
       "  0.8051301315903835,\n",
       "  0.7777777777777778,\n",
       "  0.6095494126585237,\n",
       "  0.872140522875817],\n",
       " 'DT': [0.7748091603053435,\n",
       "  0.7748908612886494,\n",
       "  0.7748091603053435,\n",
       "  0.7748387202364617,\n",
       "  0.7698412698412699,\n",
       "  0.5490928183886588,\n",
       "  0.7746265172735761],\n",
       " 'RF': [0.8435114503816794,\n",
       "  0.8438284598412416,\n",
       "  0.8435114503816794,\n",
       "  0.8435593585315735,\n",
       "  0.8492063492063492,\n",
       "  0.6868404174683692,\n",
       "  0.9197012138188609],\n",
       " 'XGB': [0.851145038167939,\n",
       "  0.8518734339490707,\n",
       "  0.851145038167939,\n",
       "  0.8511992705823693,\n",
       "  0.8650793650793651,\n",
       "  0.7022900763358779,\n",
       "  0.9064542483660131],\n",
       " 'LR': [0.6755725190839694,\n",
       "  0.6756773723895201,\n",
       "  0.6755725190839694,\n",
       "  0.6756151054254108,\n",
       "  0.6666666666666666,\n",
       "  0.3503879586955254,\n",
       "  0.7237978524743232]}"
      ]
     },
     "execution_count": 39,
     "metadata": {},
     "output_type": "execute_result"
    }
   ],
   "source": [
    "# metrics = [\"Accuracy\", \"Precision\", \"Recall\", \"F1 Score\", \"Specificity\", \"Cohen Kappa\", \"AUC\"]\n",
    "lr_performances = [ac, precision, recall, f1, specificity, cohen_score, auc_score ]\n",
    "performance_dict['LR'] = lr_performances\n",
    "\n",
    "performance_dict"
   ]
  },
  {
   "cell_type": "markdown",
   "id": "904ac738",
   "metadata": {},
   "source": [
    "# KNN Train, Test"
   ]
  },
  {
   "cell_type": "code",
   "execution_count": 40,
   "id": "108e96da",
   "metadata": {},
   "outputs": [
    {
     "name": "stdout",
     "output_type": "stream",
     "text": [
      "0.8053435114503816\n",
      "0.8053435114503816\n"
     ]
    }
   ],
   "source": [
    "from sklearn.neighbors import KNeighborsClassifier\n",
    "from sklearn.metrics import accuracy_score\n",
    "\n",
    "\n",
    "modelKNN = KNeighborsClassifier(n_neighbors = 5, algorithm = 'ball_tree', weights = 'distance', metric = 'minkowski', p = 2)\n",
    "modelKNN.fit(x_train, y_train)\n",
    "print(modelKNN.score(x_test, y_test))\n",
    "\n",
    "# Predicting the Test set results\n",
    "y_pred = modelKNN.predict(x_test)\n",
    "ac = accuracy_score(y_test, y_pred)\n",
    "print(ac)"
   ]
  },
  {
   "cell_type": "markdown",
   "id": "eea1431a",
   "metadata": {},
   "source": [
    "# Performance Measure of KNN"
   ]
  },
  {
   "cell_type": "code",
   "execution_count": 41,
   "id": "cd013f06",
   "metadata": {},
   "outputs": [
    {
     "name": "stdout",
     "output_type": "stream",
     "text": [
      "[[104  22]\n",
      " [ 29 107]]\n",
      "              precision    recall  f1-score   support\n",
      "\n",
      "         0.0       0.78      0.83      0.80       126\n",
      "         1.0       0.83      0.79      0.81       136\n",
      "\n",
      "    accuracy                           0.81       262\n",
      "   macro avg       0.81      0.81      0.81       262\n",
      "weighted avg       0.81      0.81      0.81       262\n",
      "\n"
     ]
    }
   ],
   "source": [
    "from sklearn.metrics import confusion_matrix\n",
    "from sklearn.metrics import classification_report\n",
    "\n",
    "y_pred = modelKNN.predict(x_test)\n",
    "print(confusion_matrix(y_test, y_pred))\n",
    "print(classification_report(y_test, y_pred))"
   ]
  },
  {
   "cell_type": "code",
   "execution_count": 42,
   "id": "5ea9a90f",
   "metadata": {},
   "outputs": [
    {
     "name": "stdout",
     "output_type": "stream",
     "text": [
      "Precision  0.806612661602524\n",
      "f1 Score  0.8054030697844611\n",
      "Recall  0.8053435114503816\n",
      "Specificity/TNR: 0.8253968253968254\n",
      "Cohen Kappa: 0.6109137499272028\n",
      "AUC Score  0.8402777777777777\n"
     ]
    },
    {
     "data": {
      "text/plain": [
       "{'Metrics': ['Accuracy',\n",
       "  'Precision',\n",
       "  'Recall',\n",
       "  'F1 Score',\n",
       "  'Specificity',\n",
       "  'Cohen Kappa',\n",
       "  'AUC'],\n",
       " 'SVC': [0.8053435114503816,\n",
       "  0.805505704497244,\n",
       "  0.8053435114503816,\n",
       "  0.8051301315903835,\n",
       "  0.7777777777777778,\n",
       "  0.6095494126585237,\n",
       "  0.872140522875817],\n",
       " 'DT': [0.7748091603053435,\n",
       "  0.7748908612886494,\n",
       "  0.7748091603053435,\n",
       "  0.7748387202364617,\n",
       "  0.7698412698412699,\n",
       "  0.5490928183886588,\n",
       "  0.7746265172735761],\n",
       " 'RF': [0.8435114503816794,\n",
       "  0.8438284598412416,\n",
       "  0.8435114503816794,\n",
       "  0.8435593585315735,\n",
       "  0.8492063492063492,\n",
       "  0.6868404174683692,\n",
       "  0.9197012138188609],\n",
       " 'XGB': [0.851145038167939,\n",
       "  0.8518734339490707,\n",
       "  0.851145038167939,\n",
       "  0.8511992705823693,\n",
       "  0.8650793650793651,\n",
       "  0.7022900763358779,\n",
       "  0.9064542483660131],\n",
       " 'LR': [0.6755725190839694,\n",
       "  0.6756773723895201,\n",
       "  0.6755725190839694,\n",
       "  0.6756151054254108,\n",
       "  0.6666666666666666,\n",
       "  0.3503879586955254,\n",
       "  0.7237978524743232],\n",
       " 'KNN': [0.8053435114503816,\n",
       "  0.806612661602524,\n",
       "  0.8053435114503816,\n",
       "  0.8054030697844611,\n",
       "  0.8253968253968254,\n",
       "  0.6109137499272028,\n",
       "  0.8402777777777777]}"
      ]
     },
     "execution_count": 42,
     "metadata": {},
     "output_type": "execute_result"
    }
   ],
   "source": [
    "from sklearn.metrics import cohen_kappa_score\n",
    "cmKNN = confusion_matrix(y_test, modelKNN.predict(x_test))\n",
    "\n",
    "#If we use TP TN FP and FN of below's comment we get range\n",
    "#FP = cmSVC.sum(axis=0) - np.diag(cmSVC)  \n",
    "#FN = cmSVC.sum(axis=1) - np.diag(cmSVC)\n",
    "#TP = np.diag(cmSVC)\n",
    "#TN = cmSVC.sum() - (FP + FN + TP)\n",
    "\n",
    "TP = cmKNN[1,1]  \n",
    "TN = cmKNN[0,0] \n",
    "FP = cmKNN[0,1] \n",
    "FN = cmKNN[1,0] \n",
    "\n",
    "# Sensitivity, hit rate, recall, or true positive rate\n",
    "TPR = TP/float(TP+FN)\n",
    "# Specificity or true negative rate\n",
    "TNR = TN/float(TN+FP) \n",
    "# Precision or positive predictive value\n",
    "PPV = TP/float(TP+FP)\n",
    "# Negative predictive value\n",
    "NPV = TN/float(TN+FN)\n",
    "# Fall out or false positive rate\n",
    "FPR = FP/float(FP+TN)\n",
    "# False negative rate\n",
    "FNR = FN/float(TP+FN)\n",
    "# False discovery rate\n",
    "FDR = FP/float(TP+FP)\n",
    "# Accuracy\n",
    "totalKNN = sum(sum(cmKNN))\n",
    "Accuracy = (TN+TP)/totalKNN\n",
    "# MCC\n",
    "val = (TP * TN) - (FP * FN)\n",
    "MCC_KNN = val / np.sqrt((TP + FP) * (TP + FN) * (TN + FP) * (TN + FN))\n",
    "# Cohen Kappa\n",
    "Y_pred = modelKNN.predict(x_test)\n",
    "pred_prob = modelKNN.predict_proba(x_test)\n",
    "\n",
    "\n",
    "cohen_score = cohen_kappa_score(y_test, Y_pred)\n",
    "f1 = f1_score(y_test, y_pred, average = \"weighted\")\n",
    "precision = precision_score(y_test, y_pred, average = \"weighted\")\n",
    "recall = recall_score(y_test, y_pred, average = \"weighted\")\n",
    "\n",
    "\n",
    "auc_score = roc_auc_score(y_test, pred_prob[:,1])\n",
    "\n",
    "print(f\"Precision  {precision}\")\n",
    "print(f\"f1 Score  {f1}\")\n",
    "print(f\"Recall  {recall}\")\n",
    "specificity = TNR\n",
    "print(\"Specificity/TNR: \" + str(TNR))\n",
    "\n",
    "print(\"Cohen Kappa: \" + str(cohen_score))\n",
    "print(f\"AUC Score  {auc_score}\")\n",
    "\n",
    "\n",
    "# metrics = [\"Accuracy\", \"Precision\", \"Recall\", \"F1 Score\", \"Specificity\", \"Cohen Kappa\", \"AUC\"]\n",
    "knn_performances = [ac, precision, recall, f1, specificity, cohen_score, auc_score ]\n",
    "performance_dict['KNN'] = knn_performances\n",
    "\n",
    "performance_dict"
   ]
  },
  {
   "cell_type": "code",
   "execution_count": 43,
   "id": "d8238cc2",
   "metadata": {},
   "outputs": [
    {
     "data": {
      "text/plain": [
       "{'Metrics': ['Accuracy',\n",
       "  'Precision',\n",
       "  'Recall',\n",
       "  'F1 Score',\n",
       "  'Specificity',\n",
       "  'Cohen Kappa',\n",
       "  'AUC'],\n",
       " 'SVC': [0.8053435114503816,\n",
       "  0.805505704497244,\n",
       "  0.8053435114503816,\n",
       "  0.8051301315903835,\n",
       "  0.7777777777777778,\n",
       "  0.6095494126585237,\n",
       "  0.872140522875817],\n",
       " 'DT': [0.7748091603053435,\n",
       "  0.7748908612886494,\n",
       "  0.7748091603053435,\n",
       "  0.7748387202364617,\n",
       "  0.7698412698412699,\n",
       "  0.5490928183886588,\n",
       "  0.7746265172735761],\n",
       " 'RF': [0.8435114503816794,\n",
       "  0.8438284598412416,\n",
       "  0.8435114503816794,\n",
       "  0.8435593585315735,\n",
       "  0.8492063492063492,\n",
       "  0.6868404174683692,\n",
       "  0.9197012138188609],\n",
       " 'XGB': [0.851145038167939,\n",
       "  0.8518734339490707,\n",
       "  0.851145038167939,\n",
       "  0.8511992705823693,\n",
       "  0.8650793650793651,\n",
       "  0.7022900763358779,\n",
       "  0.9064542483660131],\n",
       " 'LR': [0.6755725190839694,\n",
       "  0.6756773723895201,\n",
       "  0.6755725190839694,\n",
       "  0.6756151054254108,\n",
       "  0.6666666666666666,\n",
       "  0.3503879586955254,\n",
       "  0.7237978524743232],\n",
       " 'KNN': [0.8053435114503816,\n",
       "  0.806612661602524,\n",
       "  0.8053435114503816,\n",
       "  0.8054030697844611,\n",
       "  0.8253968253968254,\n",
       "  0.6109137499272028,\n",
       "  0.8402777777777777]}"
      ]
     },
     "execution_count": 43,
     "metadata": {},
     "output_type": "execute_result"
    }
   ],
   "source": [
    "# metrics = [\"Accuracy\", \"Precision\", \"Recall\", \"F1 Score\", \"Specificity\", \"Cohen Kappa\", \"AUC\"]\n",
    "knn_performances = [ac, precision, recall, f1, specificity, cohen_score, auc_score ]\n",
    "performance_dict['KNN'] = knn_performances\n",
    "\n",
    "performance_dict"
   ]
  },
  {
   "cell_type": "markdown",
   "id": "0c0ec044",
   "metadata": {},
   "source": [
    "# Multilayer Perceptron Train, Test"
   ]
  },
  {
   "cell_type": "code",
   "execution_count": 44,
   "id": "796a6035",
   "metadata": {
    "scrolled": true
   },
   "outputs": [
    {
     "name": "stdout",
     "output_type": "stream",
     "text": [
      "0.7938931297709924\n",
      "0.7938931297709924\n"
     ]
    },
    {
     "name": "stderr",
     "output_type": "stream",
     "text": [
      "C:\\Users\\mahmu\\anaconda3\\lib\\site-packages\\sklearn\\neural_network\\_multilayer_perceptron.py:692: ConvergenceWarning: Stochastic Optimizer: Maximum iterations (200) reached and the optimization hasn't converged yet.\n",
      "  warnings.warn(\n"
     ]
    }
   ],
   "source": [
    "from sklearn.neural_network import MLPClassifier\n",
    "from sklearn.metrics import accuracy_score\n",
    "# with HT it will give at most 87%\n",
    "modelMLP = MLPClassifier()\n",
    "modelMLP.fit(x_train, y_train)\n",
    "print(modelMLP.score(x_test, y_test))\n",
    "\n",
    "# Predicting the Test set results\n",
    "y_pred = modelMLP.predict(x_test)\n",
    "ac = accuracy_score(y_test, y_pred)\n",
    "print(ac)"
   ]
  },
  {
   "cell_type": "markdown",
   "id": "e4042a4e",
   "metadata": {},
   "source": [
    "# Performance Measure of MLP"
   ]
  },
  {
   "cell_type": "code",
   "execution_count": 45,
   "id": "e9a1d952",
   "metadata": {},
   "outputs": [
    {
     "name": "stdout",
     "output_type": "stream",
     "text": [
      "[[101  25]\n",
      " [ 29 107]]\n",
      "              precision    recall  f1-score   support\n",
      "\n",
      "         0.0       0.78      0.80      0.79       126\n",
      "         1.0       0.81      0.79      0.80       136\n",
      "\n",
      "    accuracy                           0.79       262\n",
      "   macro avg       0.79      0.79      0.79       262\n",
      "weighted avg       0.79      0.79      0.79       262\n",
      "\n"
     ]
    }
   ],
   "source": [
    "from sklearn.metrics import confusion_matrix\n",
    "from sklearn.metrics import classification_report\n",
    "\n",
    "y_pred = modelMLP.predict(x_test)\n",
    "print(confusion_matrix(y_test, y_pred))\n",
    "print(classification_report(y_test, y_pred))"
   ]
  },
  {
   "cell_type": "code",
   "execution_count": 46,
   "id": "2eef311a",
   "metadata": {},
   "outputs": [
    {
     "name": "stdout",
     "output_type": "stream",
     "text": [
      "Precision  0.7944073737966867\n",
      "f1 Score  0.7939652287227982\n",
      "Recall  0.7938931297709924\n",
      "Specificity/TNR: 0.8015873015873016\n",
      "Cohen Kappa: 0.5876661226393098\n",
      "AUC Score  0.8373599439775911\n"
     ]
    },
    {
     "data": {
      "text/plain": [
       "{'Metrics': ['Accuracy',\n",
       "  'Precision',\n",
       "  'Recall',\n",
       "  'F1 Score',\n",
       "  'Specificity',\n",
       "  'Cohen Kappa',\n",
       "  'AUC'],\n",
       " 'SVC': [0.8053435114503816,\n",
       "  0.805505704497244,\n",
       "  0.8053435114503816,\n",
       "  0.8051301315903835,\n",
       "  0.7777777777777778,\n",
       "  0.6095494126585237,\n",
       "  0.872140522875817],\n",
       " 'DT': [0.7748091603053435,\n",
       "  0.7748908612886494,\n",
       "  0.7748091603053435,\n",
       "  0.7748387202364617,\n",
       "  0.7698412698412699,\n",
       "  0.5490928183886588,\n",
       "  0.7746265172735761],\n",
       " 'RF': [0.8435114503816794,\n",
       "  0.8438284598412416,\n",
       "  0.8435114503816794,\n",
       "  0.8435593585315735,\n",
       "  0.8492063492063492,\n",
       "  0.6868404174683692,\n",
       "  0.9197012138188609],\n",
       " 'XGB': [0.851145038167939,\n",
       "  0.8518734339490707,\n",
       "  0.851145038167939,\n",
       "  0.8511992705823693,\n",
       "  0.8650793650793651,\n",
       "  0.7022900763358779,\n",
       "  0.9064542483660131],\n",
       " 'LR': [0.6755725190839694,\n",
       "  0.6756773723895201,\n",
       "  0.6755725190839694,\n",
       "  0.6756151054254108,\n",
       "  0.6666666666666666,\n",
       "  0.3503879586955254,\n",
       "  0.7237978524743232],\n",
       " 'KNN': [0.8053435114503816,\n",
       "  0.806612661602524,\n",
       "  0.8053435114503816,\n",
       "  0.8054030697844611,\n",
       "  0.8253968253968254,\n",
       "  0.6109137499272028,\n",
       "  0.8402777777777777],\n",
       " 'MLP': [0.7938931297709924,\n",
       "  0.7944073737966867,\n",
       "  0.7938931297709924,\n",
       "  0.7939652287227982,\n",
       "  0.8015873015873016,\n",
       "  0.5876661226393098,\n",
       "  0.8373599439775911]}"
      ]
     },
     "execution_count": 46,
     "metadata": {},
     "output_type": "execute_result"
    }
   ],
   "source": [
    "from sklearn.metrics import cohen_kappa_score\n",
    "cmMLP = confusion_matrix(y_test, modelMLP.predict(x_test))\n",
    "\n",
    "#If we use TP TN FP and FN of below's comment we get range\n",
    "#FP = cmSVC.sum(axis=0) - np.diag(cmSVC)  \n",
    "#FN = cmSVC.sum(axis=1) - np.diag(cmSVC)\n",
    "#TP = np.diag(cmSVC)\n",
    "#TN = cmSVC.sum() - (FP + FN + TP)\n",
    "\n",
    "TP = cmMLP[1,1]  \n",
    "TN = cmMLP[0,0] \n",
    "FP = cmMLP[0,1] \n",
    "FN = cmMLP[1,0] \n",
    "\n",
    "# Sensitivity, hit rate, recall, or true positive rate\n",
    "TPR = TP/float(TP+FN)\n",
    "# Specificity or true negative rate\n",
    "TNR = TN/float(TN+FP) \n",
    "# Precision or positive predictive value\n",
    "PPV = TP/float(TP+FP)\n",
    "# Negative predictive value\n",
    "NPV = TN/float(TN+FN)\n",
    "# Fall out or false positive rate\n",
    "FPR = FP/float(FP+TN)\n",
    "# False negative rate\n",
    "FNR = FN/float(TP+FN)\n",
    "# False discovery rate\n",
    "FDR = FP/float(TP+FP)\n",
    "# Accuracy\n",
    "totalMLP=sum(sum(cmMLP))\n",
    "Accuracy = (TN+TP)/totalMLP\n",
    "# MCC\n",
    "val = (TP * TN) - (FP * FN)\n",
    "MCC_MLP = val / np.sqrt((TP + FP) * (TP + FN) * (TN + FP) * (TN + FN))\n",
    "# Cohen Kappa\n",
    "Y_pred = modelMLP.predict(x_test)\n",
    "pred_prob = modelMLP.predict_proba(x_test)\n",
    "\n",
    "\n",
    "cohen_score = cohen_kappa_score(y_test, Y_pred)\n",
    "f1 = f1_score(y_test, y_pred, average = \"weighted\")\n",
    "precision = precision_score(y_test, y_pred, average = \"weighted\")\n",
    "recall = recall_score(y_test, y_pred, average = \"weighted\")\n",
    "\n",
    "\n",
    "auc_score = roc_auc_score(y_test, pred_prob[:,1])\n",
    "\n",
    "print(f\"Precision  {precision}\")\n",
    "print(f\"f1 Score  {f1}\")\n",
    "print(f\"Recall  {recall}\")\n",
    "specificity = TNR\n",
    "print(\"Specificity/TNR: \" + str(TNR))\n",
    "\n",
    "print(\"Cohen Kappa: \" + str(cohen_score))\n",
    "print(f\"AUC Score  {auc_score}\")\n",
    "\n",
    "\n",
    "# metrics = [\"Accuracy\", \"Precision\", \"Recall\", \"F1 Score\", \"Specificity\", \"Cohen Kappa\", \"AUC\"]\n",
    "mlp_performances = [ac, precision, recall, f1, specificity, cohen_score, auc_score ]\n",
    "performance_dict['MLP'] = mlp_performances\n",
    "\n",
    "performance_dict"
   ]
  },
  {
   "cell_type": "markdown",
   "id": "85c6921e",
   "metadata": {},
   "source": [
    "# Gaussian Naive Bayes Train Test"
   ]
  },
  {
   "cell_type": "code",
   "execution_count": 47,
   "id": "ccb93870",
   "metadata": {},
   "outputs": [
    {
     "name": "stdout",
     "output_type": "stream",
     "text": [
      "0.6946564885496184\n"
     ]
    },
    {
     "data": {
      "text/plain": [
       "array([[97, 29],\n",
       "       [51, 85]], dtype=int64)"
      ]
     },
     "execution_count": 47,
     "metadata": {},
     "output_type": "execute_result"
    }
   ],
   "source": [
    "# Training the Naive Bayes model on the Training set\n",
    "from sklearn.naive_bayes import GaussianNB\n",
    "from sklearn.metrics import accuracy_score\n",
    "\n",
    "modelGNB = GaussianNB()\n",
    "modelGNB.fit(x_train, y_train)\n",
    "#print(modelGNB.score(x_train, y_train))\n",
    "# Predicting the Test set results\n",
    "y_pred = modelGNB.predict(x_test)\n",
    "ac = accuracy_score(y_test, y_pred)\n",
    "print(ac)\n",
    "cm = confusion_matrix(y_test, y_pred)\n",
    "cm"
   ]
  },
  {
   "cell_type": "markdown",
   "id": "66cce9db",
   "metadata": {},
   "source": [
    "# Gaussian Naive Bayes Performance Measure"
   ]
  },
  {
   "cell_type": "code",
   "execution_count": 48,
   "id": "07501b1f",
   "metadata": {},
   "outputs": [
    {
     "name": "stdout",
     "output_type": "stream",
     "text": [
      "[[97 29]\n",
      " [51 85]]\n",
      "              precision    recall  f1-score   support\n",
      "\n",
      "         0.0       0.66      0.77      0.71       126\n",
      "         1.0       0.75      0.62      0.68       136\n",
      "\n",
      "    accuracy                           0.69       262\n",
      "   macro avg       0.70      0.70      0.69       262\n",
      "weighted avg       0.70      0.69      0.69       262\n",
      "\n"
     ]
    }
   ],
   "source": [
    "from sklearn.metrics import confusion_matrix\n",
    "from sklearn.metrics import classification_report\n",
    "\n",
    "y_pred = modelGNB.predict(x_test)\n",
    "print(confusion_matrix(y_test, y_pred))\n",
    "print(classification_report(y_test, y_pred))"
   ]
  },
  {
   "cell_type": "code",
   "execution_count": 49,
   "id": "ff3571c9",
   "metadata": {
    "scrolled": true
   },
   "outputs": [
    {
     "name": "stdout",
     "output_type": "stream",
     "text": [
      "Precision  0.7022312589809576\n",
      "f1 Score  0.6934796901989191\n",
      "Recall  0.6946564885496184\n",
      "Specificity/TNR: 0.7698412698412699\n",
      "Cohen Kappa: 0.39232285747419693\n",
      "AUC Score  0.7123015873015873\n"
     ]
    }
   ],
   "source": [
    "from sklearn.metrics import cohen_kappa_score\n",
    "cmGNB = confusion_matrix(y_test, modelGNB.predict(x_test))\n",
    "\n",
    "#If we use TP TN FP and FN of below's comment we get range\n",
    "#FP = cmSVC.sum(axis=0) - np.diag(cmSVC)  \n",
    "#FN = cmSVC.sum(axis=1) - np.diag(cmSVC)\n",
    "#TP = np.diag(cmSVC)\n",
    "#TN = cmSVC.sum() - (FP + FN + TP)\n",
    "\n",
    "TP = cmGNB[1,1]  \n",
    "TN = cmGNB[0,0] \n",
    "FP = cmGNB[0,1] \n",
    "FN = cmGNB[1,0] \n",
    "\n",
    "# Sensitivity, hit rate, recall, or true positive rate\n",
    "TPR = TP/float(TP+FN)\n",
    "# Specificity or true negative rate\n",
    "TNR = TN/float(TN+FP) \n",
    "# Precision or positive predictive value\n",
    "PPV = TP/float(TP+FP)\n",
    "# Negative predictive value\n",
    "NPV = TN/float(TN+FN)\n",
    "# Fall out or false positive rate\n",
    "FPR = FP/float(FP+TN)\n",
    "# False negative rate\n",
    "FNR = FN/float(TP+FN)\n",
    "# False discovery rate\n",
    "FDR = FP/float(TP+FP)\n",
    "# Accuracy\n",
    "totalGNB=sum(sum(cmGNB))\n",
    "Accuracy = (TN+TP)/totalGNB\n",
    "# MCC\n",
    "val = (TP * TN) - (FP * FN)\n",
    "MCC_GNB = val / np.sqrt((TP + FP) * (TP + FN) * (TN + FP) * (TN + FN))\n",
    "# Cohen Kappa\n",
    "Y_pred = modelGNB.predict(x_test)\n",
    "pred_prob = modelGNB.predict_proba(x_test)\n",
    "\n",
    "\n",
    "cohen_score = cohen_kappa_score(y_test, Y_pred)\n",
    "f1 = f1_score(y_test, y_pred, average = \"weighted\")\n",
    "precision = precision_score(y_test, y_pred, average = \"weighted\")\n",
    "recall = recall_score(y_test, y_pred, average = \"weighted\")\n",
    "\n",
    "\n",
    "auc_score = roc_auc_score(y_test, pred_prob[:,1])\n",
    "\n",
    "print(f\"Precision  {precision}\")\n",
    "print(f\"f1 Score  {f1}\")\n",
    "print(f\"Recall  {recall}\")\n",
    "specificity = TNR\n",
    "print(\"Specificity/TNR: \" + str(TNR))\n",
    "\n",
    "print(\"Cohen Kappa: \" + str(cohen_score))\n",
    "print(f\"AUC Score  {auc_score}\")\n",
    "\n",
    "\n",
    "# metrics = [\"Accuracy\", \"Precision\", \"Recall\", \"F1 Score\", \"Specificity\", \"Cohen Kappa\", \"AUC\"]\n",
    "gnb_performances = [ac, precision, recall, f1, specificity, cohen_score, auc_score ]\n",
    "performance_dict['GNB'] = gnb_performances\n",
    "\n",
    "#performance_dict"
   ]
  },
  {
   "cell_type": "markdown",
   "id": "1f858b98",
   "metadata": {},
   "source": [
    "## Output"
   ]
  },
  {
   "cell_type": "code",
   "execution_count": 50,
   "id": "1e1cedc1",
   "metadata": {},
   "outputs": [
    {
     "data": {
      "text/html": [
       "<div>\n",
       "<style scoped>\n",
       "    .dataframe tbody tr th:only-of-type {\n",
       "        vertical-align: middle;\n",
       "    }\n",
       "\n",
       "    .dataframe tbody tr th {\n",
       "        vertical-align: top;\n",
       "    }\n",
       "\n",
       "    .dataframe thead th {\n",
       "        text-align: right;\n",
       "    }\n",
       "</style>\n",
       "<table border=\"1\" class=\"dataframe\">\n",
       "  <thead>\n",
       "    <tr style=\"text-align: right;\">\n",
       "      <th></th>\n",
       "      <th>Metrics</th>\n",
       "      <th>SVC</th>\n",
       "      <th>DT</th>\n",
       "      <th>RF</th>\n",
       "      <th>XGB</th>\n",
       "      <th>LR</th>\n",
       "      <th>KNN</th>\n",
       "      <th>MLP</th>\n",
       "      <th>GNB</th>\n",
       "    </tr>\n",
       "  </thead>\n",
       "  <tbody>\n",
       "    <tr>\n",
       "      <th>0</th>\n",
       "      <td>Accuracy</td>\n",
       "      <td>0.805344</td>\n",
       "      <td>0.774809</td>\n",
       "      <td>0.843511</td>\n",
       "      <td>0.851145</td>\n",
       "      <td>0.675573</td>\n",
       "      <td>0.805344</td>\n",
       "      <td>0.793893</td>\n",
       "      <td>0.694656</td>\n",
       "    </tr>\n",
       "    <tr>\n",
       "      <th>1</th>\n",
       "      <td>Precision</td>\n",
       "      <td>0.805506</td>\n",
       "      <td>0.774891</td>\n",
       "      <td>0.843828</td>\n",
       "      <td>0.851873</td>\n",
       "      <td>0.675677</td>\n",
       "      <td>0.806613</td>\n",
       "      <td>0.794407</td>\n",
       "      <td>0.702231</td>\n",
       "    </tr>\n",
       "    <tr>\n",
       "      <th>2</th>\n",
       "      <td>Recall</td>\n",
       "      <td>0.805344</td>\n",
       "      <td>0.774809</td>\n",
       "      <td>0.843511</td>\n",
       "      <td>0.851145</td>\n",
       "      <td>0.675573</td>\n",
       "      <td>0.805344</td>\n",
       "      <td>0.793893</td>\n",
       "      <td>0.694656</td>\n",
       "    </tr>\n",
       "    <tr>\n",
       "      <th>3</th>\n",
       "      <td>F1 Score</td>\n",
       "      <td>0.805130</td>\n",
       "      <td>0.774839</td>\n",
       "      <td>0.843559</td>\n",
       "      <td>0.851199</td>\n",
       "      <td>0.675615</td>\n",
       "      <td>0.805403</td>\n",
       "      <td>0.793965</td>\n",
       "      <td>0.693480</td>\n",
       "    </tr>\n",
       "    <tr>\n",
       "      <th>4</th>\n",
       "      <td>Specificity</td>\n",
       "      <td>0.777778</td>\n",
       "      <td>0.769841</td>\n",
       "      <td>0.849206</td>\n",
       "      <td>0.865079</td>\n",
       "      <td>0.666667</td>\n",
       "      <td>0.825397</td>\n",
       "      <td>0.801587</td>\n",
       "      <td>0.769841</td>\n",
       "    </tr>\n",
       "    <tr>\n",
       "      <th>5</th>\n",
       "      <td>Cohen Kappa</td>\n",
       "      <td>0.609549</td>\n",
       "      <td>0.549093</td>\n",
       "      <td>0.686840</td>\n",
       "      <td>0.702290</td>\n",
       "      <td>0.350388</td>\n",
       "      <td>0.610914</td>\n",
       "      <td>0.587666</td>\n",
       "      <td>0.392323</td>\n",
       "    </tr>\n",
       "    <tr>\n",
       "      <th>6</th>\n",
       "      <td>AUC</td>\n",
       "      <td>0.872141</td>\n",
       "      <td>0.774627</td>\n",
       "      <td>0.919701</td>\n",
       "      <td>0.906454</td>\n",
       "      <td>0.723798</td>\n",
       "      <td>0.840278</td>\n",
       "      <td>0.837360</td>\n",
       "      <td>0.712302</td>\n",
       "    </tr>\n",
       "  </tbody>\n",
       "</table>\n",
       "</div>"
      ],
      "text/plain": [
       "       Metrics       SVC        DT        RF       XGB        LR       KNN  \\\n",
       "0     Accuracy  0.805344  0.774809  0.843511  0.851145  0.675573  0.805344   \n",
       "1    Precision  0.805506  0.774891  0.843828  0.851873  0.675677  0.806613   \n",
       "2       Recall  0.805344  0.774809  0.843511  0.851145  0.675573  0.805344   \n",
       "3     F1 Score  0.805130  0.774839  0.843559  0.851199  0.675615  0.805403   \n",
       "4  Specificity  0.777778  0.769841  0.849206  0.865079  0.666667  0.825397   \n",
       "5  Cohen Kappa  0.609549  0.549093  0.686840  0.702290  0.350388  0.610914   \n",
       "6          AUC  0.872141  0.774627  0.919701  0.906454  0.723798  0.840278   \n",
       "\n",
       "        MLP       GNB  \n",
       "0  0.793893  0.694656  \n",
       "1  0.794407  0.702231  \n",
       "2  0.793893  0.694656  \n",
       "3  0.793965  0.693480  \n",
       "4  0.801587  0.769841  \n",
       "5  0.587666  0.392323  \n",
       "6  0.837360  0.712302  "
      ]
     },
     "execution_count": 50,
     "metadata": {},
     "output_type": "execute_result"
    }
   ],
   "source": [
    "performance_df = pd.DataFrame.from_dict(performance_dict)\n",
    "performance_df"
   ]
  },
  {
   "cell_type": "code",
   "execution_count": 51,
   "id": "83cd755b",
   "metadata": {},
   "outputs": [],
   "source": [
    "performance_df.to_csv(\"FS Combination 30.csv\") "
   ]
  },
  {
   "cell_type": "code",
   "execution_count": null,
   "id": "c734a00c",
   "metadata": {},
   "outputs": [],
   "source": []
  },
  {
   "cell_type": "markdown",
   "id": "1c09dc27",
   "metadata": {},
   "source": [
    "# ROC Curve "
   ]
  },
  {
   "cell_type": "code",
   "execution_count": 52,
   "id": "45841583",
   "metadata": {},
   "outputs": [],
   "source": [
    "from sklearn.metrics import roc_curve\n",
    "\n",
    "# predict probabilities\n",
    "pred_prob1 = modelSVC.predict_proba(x_test)\n",
    "pred_prob2 = modelDTC.predict_proba(x_test)\n",
    "pred_prob3 = modelRFC.predict_proba(x_test)\n",
    "pred_prob4 = modelXGB.predict_proba(x_test)\n",
    "pred_prob5 = modelLR.predict_proba(x_test)\n",
    "#pred_prob6 = modelMNB.predict_proba(x_test_smt)\n",
    "pred_prob7 = modelKNN.predict_proba(x_test)\n",
    "#pred_prob8 = modelSGDC.predict_proba(x_test_smt)\n",
    "pred_prob9 = modelMLP.predict_proba(x_test)\n",
    "#pred_prob10 = modelABC.predict_proba(x_test_smt)\n",
    "pred_prob11 = modelGNB.predict_proba(x_test)\n",
    "#pred_prob12 = modelLRMLP.predict_proba(x_test_smt)\n",
    "\n",
    "# roc curve for models\n",
    "fpr1, tpr1, thresh1 = roc_curve(y_test, pred_prob1[:,1], pos_label = 1)\n",
    "fpr2, tpr2, thresh2 = roc_curve(y_test, pred_prob2[:,1], pos_label = 1)\n",
    "fpr3, tpr3, thresh3 = roc_curve(y_test, pred_prob3[:,1], pos_label = 1)\n",
    "fpr4, tpr4, thresh4 = roc_curve(y_test, pred_prob4[:,1], pos_label = 1)\n",
    "fpr5, tpr5, thresh5 = roc_curve(y_test, pred_prob5[:,1], pos_label = 1)\n",
    "#fpr6, tpr6, thresh6 = roc_curve(y_test_smt, pred_prob6[:,1], pos_label = 1)\n",
    "fpr7, tpr7, thresh7 = roc_curve(y_test, pred_prob7[:,1], pos_label = 1)\n",
    "#fpr8, tpr8, thresh8 = roc_curve(y_test, pred_prob8[:,1], pos_label = 1)\n",
    "fpr9, tpr9, thresh9 = roc_curve(y_test, pred_prob9[:,1], pos_label = 1)\n",
    "#fpr10, tpr10, thresh10 = roc_curve(y_test, pred_prob10[:,1], pos_label = 1)\n",
    "fpr11, tpr11, thresh11 = roc_curve(y_test, pred_prob11[:,1], pos_label = 1)\n",
    "#fpr12, tpr12, thres12 = roc_curve(y_test_smt, pred_prob11[:,1], pos_label = 1)\n",
    "\n",
    "# roc curve for tpr = fpr \n",
    "random_probs = [0 for i in range(len(y_test))]\n",
    "p_fpr, p_tpr, _ = roc_curve(y_test, random_probs, pos_label=1)"
   ]
  },
  {
   "cell_type": "code",
   "execution_count": 53,
   "id": "d7119be6",
   "metadata": {},
   "outputs": [
    {
     "data": {
      "image/png": "[encoded data removed]",
      "text/plain": [
       "<Figure size 800x550 with 1 Axes>"
      ]
     },
     "metadata": {},
     "output_type": "display_data"
    }
   ],
   "source": [
    "import seaborn as sb\n",
    "import matplotlib.pyplot as plt\n",
    "%matplotlib inline\n",
    "plt.style.use('seaborn')\n",
    "sb.set_theme(style = 'whitegrid')\n",
    "\n",
    "# plot roc curves\n",
    "plt.plot(fpr1, tpr1, linestyle = '--', color = 'magenta', label = 'SVM')\n",
    "plt.plot(fpr7, tpr7, linestyle = '--', color = 'cyan', label = 'KNN')\n",
    "plt.plot(fpr2, tpr2, linestyle = '--', color = 'green', label = 'DT')\n",
    "plt.plot(fpr3, tpr3, linestyle = '--', color = 'red', label = 'RF')\n",
    "plt.plot(fpr4, tpr4, linestyle = '--', color = 'purple', label = 'XGB')\n",
    "plt.plot(fpr11, tpr11, linestyle = '--', color = 'grey', label = 'GNB')\n",
    "plt.plot(fpr5, tpr5, linestyle = '--', color = 'darkorange', label = 'LR')\n",
    "#plt.plot(fpr6, tpr6, linestyle = '--', color = 'pink', label = 'MNB')\n",
    "\n",
    "#plt.plot(fpr8, tpr8, linestyle = '--', color = 'cyan', label = 'SGD')\n",
    "plt.plot(fpr9, tpr9, linestyle = '--', color = 'blue', label = 'MLP')\n",
    "#plt.plot(fpr10, tpr10, linestyle = '--', color = 'brown', label = 'AB')\n",
    "\n",
    "#plt.plot(fpr12, tpr12, linestyle = '--', color = 'green', label = 'LR-MLP')\n",
    "plt.plot(p_fpr, p_tpr, linestyle = '--', color = 'cornflowerblue')\n",
    "# title\n",
    "plt.title('FS Combination 30')\n",
    "# x label\n",
    "plt.xlabel('False Positive Rate')\n",
    "# y label\n",
    "plt.ylabel('True Positive rate')\n",
    "\n",
    "plt.legend(loc='best')\n",
    "plt.savefig(\"FS Combination 30.png\",dpi=300)\n",
    "\n",
    "plt.show();"
   ]
  },
  {
   "cell_type": "code",
   "execution_count": null,
   "id": "7abe98b9",
   "metadata": {},
   "outputs": [],
   "source": []
  }
 ],
 "metadata": {
  "kernelspec": {
   "display_name": "Python 3 (ipykernel)",
   "language": "python",
   "name": "python3"
  },
  "language_info": {
   "codemirror_mode": {
    "name": "ipython",
    "version": 3
   },
   "file_extension": ".py",
   "mimetype": "text/x-python",
   "name": "python",
   "nbconvert_exporter": "python",
   "pygments_lexer": "ipython3",
   "version": "3.9.13"
  }
 },
 "nbformat": 4,
 "nbformat_minor": 5
}
